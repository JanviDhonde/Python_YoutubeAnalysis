{
  "cells": [
    {
      "cell_type": "code",
      "execution_count": 1,
      "metadata": {
        "id": "WVUf-VR58CTl"
      },
      "outputs": [],
      "source": [
        "import pandas as pd\n",
        "import numpy as np\n",
        "import seaborn as sns\n",
        "import matplotlib.pyplot as plt"
      ],
      "id": "WVUf-VR58CTl"
    },
    {
      "cell_type": "code",
      "execution_count": 2,
      "metadata": {
        "id": "BO7Dez3_8CTm"
      },
      "outputs": [],
      "source": [
        "#importing the dataset\n",
        "df = pd.read_csv(r'video_id_info.csv', on_bad_lines='skip', engine='python', quoting=3)"
      ],
      "id": "BO7Dez3_8CTm"
    },
    {
      "cell_type": "code",
      "execution_count": 3,
      "metadata": {
        "colab": {
          "base_uri": "https://localhost:8080/",
          "height": 206
        },
        "outputId": "8da9a7cd-b7a3-483c-bae9-6c88a70100c7",
        "id": "jWzn0SP08CTn"
      },
      "outputs": [
        {
          "output_type": "execute_result",
          "data": {
            "text/plain": [
              "      video_id                                       comment_text likes  \\\n",
              "0  XpVt6Z1Gjjo                \"Logan Paul it's yo big day ‼️‼️‼️\"     4   \n",
              "1  XpVt6Z1Gjjo  \"I've been following you from the start of you...     3   \n",
              "2  XpVt6Z1Gjjo               \"Say hi to Kong and maverick for me\"     3   \n",
              "3  XpVt6Z1Gjjo                              \"MY FAN . attendance\"     3   \n",
              "4  XpVt6Z1Gjjo                                       \"trending 😉\"     3   \n",
              "\n",
              "  replies  \n",
              "0       0  \n",
              "1       0  \n",
              "2       0  \n",
              "3       0  \n",
              "4       0  "
            ],
            "text/html": [
              "\n",
              "  <div id=\"df-63d01c8f-41b2-4789-8d9f-99a0b16c1f57\" class=\"colab-df-container\">\n",
              "    <div>\n",
              "<style scoped>\n",
              "    .dataframe tbody tr th:only-of-type {\n",
              "        vertical-align: middle;\n",
              "    }\n",
              "\n",
              "    .dataframe tbody tr th {\n",
              "        vertical-align: top;\n",
              "    }\n",
              "\n",
              "    .dataframe thead th {\n",
              "        text-align: right;\n",
              "    }\n",
              "</style>\n",
              "<table border=\"1\" class=\"dataframe\">\n",
              "  <thead>\n",
              "    <tr style=\"text-align: right;\">\n",
              "      <th></th>\n",
              "      <th>video_id</th>\n",
              "      <th>comment_text</th>\n",
              "      <th>likes</th>\n",
              "      <th>replies</th>\n",
              "    </tr>\n",
              "  </thead>\n",
              "  <tbody>\n",
              "    <tr>\n",
              "      <th>0</th>\n",
              "      <td>XpVt6Z1Gjjo</td>\n",
              "      <td>\"Logan Paul it's yo big day ‼️‼️‼️\"</td>\n",
              "      <td>4</td>\n",
              "      <td>0</td>\n",
              "    </tr>\n",
              "    <tr>\n",
              "      <th>1</th>\n",
              "      <td>XpVt6Z1Gjjo</td>\n",
              "      <td>\"I've been following you from the start of you...</td>\n",
              "      <td>3</td>\n",
              "      <td>0</td>\n",
              "    </tr>\n",
              "    <tr>\n",
              "      <th>2</th>\n",
              "      <td>XpVt6Z1Gjjo</td>\n",
              "      <td>\"Say hi to Kong and maverick for me\"</td>\n",
              "      <td>3</td>\n",
              "      <td>0</td>\n",
              "    </tr>\n",
              "    <tr>\n",
              "      <th>3</th>\n",
              "      <td>XpVt6Z1Gjjo</td>\n",
              "      <td>\"MY FAN . attendance\"</td>\n",
              "      <td>3</td>\n",
              "      <td>0</td>\n",
              "    </tr>\n",
              "    <tr>\n",
              "      <th>4</th>\n",
              "      <td>XpVt6Z1Gjjo</td>\n",
              "      <td>\"trending 😉\"</td>\n",
              "      <td>3</td>\n",
              "      <td>0</td>\n",
              "    </tr>\n",
              "  </tbody>\n",
              "</table>\n",
              "</div>\n",
              "    <div class=\"colab-df-buttons\">\n",
              "\n",
              "  <div class=\"colab-df-container\">\n",
              "    <button class=\"colab-df-convert\" onclick=\"convertToInteractive('df-63d01c8f-41b2-4789-8d9f-99a0b16c1f57')\"\n",
              "            title=\"Convert this dataframe to an interactive table.\"\n",
              "            style=\"display:none;\">\n",
              "\n",
              "  <svg xmlns=\"http://www.w3.org/2000/svg\" height=\"24px\" viewBox=\"0 -960 960 960\">\n",
              "    <path d=\"M120-120v-720h720v720H120Zm60-500h600v-160H180v160Zm220 220h160v-160H400v160Zm0 220h160v-160H400v160ZM180-400h160v-160H180v160Zm440 0h160v-160H620v160ZM180-180h160v-160H180v160Zm440 0h160v-160H620v160Z\"/>\n",
              "  </svg>\n",
              "    </button>\n",
              "\n",
              "  <style>\n",
              "    .colab-df-container {\n",
              "      display:flex;\n",
              "      gap: 12px;\n",
              "    }\n",
              "\n",
              "    .colab-df-convert {\n",
              "      background-color: #E8F0FE;\n",
              "      border: none;\n",
              "      border-radius: 50%;\n",
              "      cursor: pointer;\n",
              "      display: none;\n",
              "      fill: #1967D2;\n",
              "      height: 32px;\n",
              "      padding: 0 0 0 0;\n",
              "      width: 32px;\n",
              "    }\n",
              "\n",
              "    .colab-df-convert:hover {\n",
              "      background-color: #E2EBFA;\n",
              "      box-shadow: 0px 1px 2px rgba(60, 64, 67, 0.3), 0px 1px 3px 1px rgba(60, 64, 67, 0.15);\n",
              "      fill: #174EA6;\n",
              "    }\n",
              "\n",
              "    .colab-df-buttons div {\n",
              "      margin-bottom: 4px;\n",
              "    }\n",
              "\n",
              "    [theme=dark] .colab-df-convert {\n",
              "      background-color: #3B4455;\n",
              "      fill: #D2E3FC;\n",
              "    }\n",
              "\n",
              "    [theme=dark] .colab-df-convert:hover {\n",
              "      background-color: #434B5C;\n",
              "      box-shadow: 0px 1px 3px 1px rgba(0, 0, 0, 0.15);\n",
              "      filter: drop-shadow(0px 1px 2px rgba(0, 0, 0, 0.3));\n",
              "      fill: #FFFFFF;\n",
              "    }\n",
              "  </style>\n",
              "\n",
              "    <script>\n",
              "      const buttonEl =\n",
              "        document.querySelector('#df-63d01c8f-41b2-4789-8d9f-99a0b16c1f57 button.colab-df-convert');\n",
              "      buttonEl.style.display =\n",
              "        google.colab.kernel.accessAllowed ? 'block' : 'none';\n",
              "\n",
              "      async function convertToInteractive(key) {\n",
              "        const element = document.querySelector('#df-63d01c8f-41b2-4789-8d9f-99a0b16c1f57');\n",
              "        const dataTable =\n",
              "          await google.colab.kernel.invokeFunction('convertToInteractive',\n",
              "                                                    [key], {});\n",
              "        if (!dataTable) return;\n",
              "\n",
              "        const docLinkHtml = 'Like what you see? Visit the ' +\n",
              "          '<a target=\"_blank\" href=https://colab.research.google.com/notebooks/data_table.ipynb>data table notebook</a>'\n",
              "          + ' to learn more about interactive tables.';\n",
              "        element.innerHTML = '';\n",
              "        dataTable['output_type'] = 'display_data';\n",
              "        await google.colab.output.renderOutput(dataTable, element);\n",
              "        const docLink = document.createElement('div');\n",
              "        docLink.innerHTML = docLinkHtml;\n",
              "        element.appendChild(docLink);\n",
              "      }\n",
              "    </script>\n",
              "  </div>\n",
              "\n",
              "\n",
              "<div id=\"df-bf7ba106-b008-4adb-8696-0392dbeb7eb6\">\n",
              "  <button class=\"colab-df-quickchart\" onclick=\"quickchart('df-bf7ba106-b008-4adb-8696-0392dbeb7eb6')\"\n",
              "            title=\"Suggest charts\"\n",
              "            style=\"display:none;\">\n",
              "\n",
              "<svg xmlns=\"http://www.w3.org/2000/svg\" height=\"24px\"viewBox=\"0 0 24 24\"\n",
              "     width=\"24px\">\n",
              "    <g>\n",
              "        <path d=\"M19 3H5c-1.1 0-2 .9-2 2v14c0 1.1.9 2 2 2h14c1.1 0 2-.9 2-2V5c0-1.1-.9-2-2-2zM9 17H7v-7h2v7zm4 0h-2V7h2v10zm4 0h-2v-4h2v4z\"/>\n",
              "    </g>\n",
              "</svg>\n",
              "  </button>\n",
              "\n",
              "<style>\n",
              "  .colab-df-quickchart {\n",
              "      --bg-color: #E8F0FE;\n",
              "      --fill-color: #1967D2;\n",
              "      --hover-bg-color: #E2EBFA;\n",
              "      --hover-fill-color: #174EA6;\n",
              "      --disabled-fill-color: #AAA;\n",
              "      --disabled-bg-color: #DDD;\n",
              "  }\n",
              "\n",
              "  [theme=dark] .colab-df-quickchart {\n",
              "      --bg-color: #3B4455;\n",
              "      --fill-color: #D2E3FC;\n",
              "      --hover-bg-color: #434B5C;\n",
              "      --hover-fill-color: #FFFFFF;\n",
              "      --disabled-bg-color: #3B4455;\n",
              "      --disabled-fill-color: #666;\n",
              "  }\n",
              "\n",
              "  .colab-df-quickchart {\n",
              "    background-color: var(--bg-color);\n",
              "    border: none;\n",
              "    border-radius: 50%;\n",
              "    cursor: pointer;\n",
              "    display: none;\n",
              "    fill: var(--fill-color);\n",
              "    height: 32px;\n",
              "    padding: 0;\n",
              "    width: 32px;\n",
              "  }\n",
              "\n",
              "  .colab-df-quickchart:hover {\n",
              "    background-color: var(--hover-bg-color);\n",
              "    box-shadow: 0 1px 2px rgba(60, 64, 67, 0.3), 0 1px 3px 1px rgba(60, 64, 67, 0.15);\n",
              "    fill: var(--button-hover-fill-color);\n",
              "  }\n",
              "\n",
              "  .colab-df-quickchart-complete:disabled,\n",
              "  .colab-df-quickchart-complete:disabled:hover {\n",
              "    background-color: var(--disabled-bg-color);\n",
              "    fill: var(--disabled-fill-color);\n",
              "    box-shadow: none;\n",
              "  }\n",
              "\n",
              "  .colab-df-spinner {\n",
              "    border: 2px solid var(--fill-color);\n",
              "    border-color: transparent;\n",
              "    border-bottom-color: var(--fill-color);\n",
              "    animation:\n",
              "      spin 1s steps(1) infinite;\n",
              "  }\n",
              "\n",
              "  @keyframes spin {\n",
              "    0% {\n",
              "      border-color: transparent;\n",
              "      border-bottom-color: var(--fill-color);\n",
              "      border-left-color: var(--fill-color);\n",
              "    }\n",
              "    20% {\n",
              "      border-color: transparent;\n",
              "      border-left-color: var(--fill-color);\n",
              "      border-top-color: var(--fill-color);\n",
              "    }\n",
              "    30% {\n",
              "      border-color: transparent;\n",
              "      border-left-color: var(--fill-color);\n",
              "      border-top-color: var(--fill-color);\n",
              "      border-right-color: var(--fill-color);\n",
              "    }\n",
              "    40% {\n",
              "      border-color: transparent;\n",
              "      border-right-color: var(--fill-color);\n",
              "      border-top-color: var(--fill-color);\n",
              "    }\n",
              "    60% {\n",
              "      border-color: transparent;\n",
              "      border-right-color: var(--fill-color);\n",
              "    }\n",
              "    80% {\n",
              "      border-color: transparent;\n",
              "      border-right-color: var(--fill-color);\n",
              "      border-bottom-color: var(--fill-color);\n",
              "    }\n",
              "    90% {\n",
              "      border-color: transparent;\n",
              "      border-bottom-color: var(--fill-color);\n",
              "    }\n",
              "  }\n",
              "</style>\n",
              "\n",
              "  <script>\n",
              "    async function quickchart(key) {\n",
              "      const quickchartButtonEl =\n",
              "        document.querySelector('#' + key + ' button');\n",
              "      quickchartButtonEl.disabled = true;  // To prevent multiple clicks.\n",
              "      quickchartButtonEl.classList.add('colab-df-spinner');\n",
              "      try {\n",
              "        const charts = await google.colab.kernel.invokeFunction(\n",
              "            'suggestCharts', [key], {});\n",
              "      } catch (error) {\n",
              "        console.error('Error during call to suggestCharts:', error);\n",
              "      }\n",
              "      quickchartButtonEl.classList.remove('colab-df-spinner');\n",
              "      quickchartButtonEl.classList.add('colab-df-quickchart-complete');\n",
              "    }\n",
              "    (() => {\n",
              "      let quickchartButtonEl =\n",
              "        document.querySelector('#df-bf7ba106-b008-4adb-8696-0392dbeb7eb6 button');\n",
              "      quickchartButtonEl.style.display =\n",
              "        google.colab.kernel.accessAllowed ? 'block' : 'none';\n",
              "    })();\n",
              "  </script>\n",
              "</div>\n",
              "\n",
              "    </div>\n",
              "  </div>\n"
            ],
            "application/vnd.google.colaboratory.intrinsic+json": {
              "type": "dataframe",
              "variable_name": "df"
            }
          },
          "metadata": {},
          "execution_count": 3
        }
      ],
      "source": [
        "df.head()"
      ],
      "id": "jWzn0SP08CTn"
    },
    {
      "cell_type": "code",
      "execution_count": 4,
      "metadata": {
        "colab": {
          "base_uri": "https://localhost:8080/",
          "height": 209
        },
        "outputId": "0155d08c-107b-48fa-f937-ec473690c3aa",
        "id": "CZ4P4lEo8CTp"
      },
      "outputs": [
        {
          "output_type": "execute_result",
          "data": {
            "text/plain": [
              "video_id          0\n",
              "comment_text     19\n",
              "likes           259\n",
              "replies         300\n",
              "dtype: int64"
            ],
            "text/html": [
              "<div>\n",
              "<style scoped>\n",
              "    .dataframe tbody tr th:only-of-type {\n",
              "        vertical-align: middle;\n",
              "    }\n",
              "\n",
              "    .dataframe tbody tr th {\n",
              "        vertical-align: top;\n",
              "    }\n",
              "\n",
              "    .dataframe thead th {\n",
              "        text-align: right;\n",
              "    }\n",
              "</style>\n",
              "<table border=\"1\" class=\"dataframe\">\n",
              "  <thead>\n",
              "    <tr style=\"text-align: right;\">\n",
              "      <th></th>\n",
              "      <th>0</th>\n",
              "    </tr>\n",
              "  </thead>\n",
              "  <tbody>\n",
              "    <tr>\n",
              "      <th>video_id</th>\n",
              "      <td>0</td>\n",
              "    </tr>\n",
              "    <tr>\n",
              "      <th>comment_text</th>\n",
              "      <td>19</td>\n",
              "    </tr>\n",
              "    <tr>\n",
              "      <th>likes</th>\n",
              "      <td>259</td>\n",
              "    </tr>\n",
              "    <tr>\n",
              "      <th>replies</th>\n",
              "      <td>300</td>\n",
              "    </tr>\n",
              "  </tbody>\n",
              "</table>\n",
              "</div><br><label><b>dtype:</b> int64</label>"
            ]
          },
          "metadata": {},
          "execution_count": 4
        }
      ],
      "source": [
        "## lets find out missing values in your data\n",
        "df.isnull().sum()"
      ],
      "id": "CZ4P4lEo8CTp"
    },
    {
      "cell_type": "code",
      "execution_count": 5,
      "metadata": {
        "id": "ezrjn7_l8CTq"
      },
      "outputs": [],
      "source": [
        "## drop missing values as we have very few & lets update dataframe as well..\n",
        "df.dropna(inplace=True)"
      ],
      "id": "ezrjn7_l8CTq"
    },
    {
      "cell_type": "code",
      "execution_count": 6,
      "metadata": {
        "colab": {
          "base_uri": "https://localhost:8080/",
          "height": 209
        },
        "outputId": "f86baf5a-f2ef-4f58-d477-a2432136f8db",
        "id": "nW3JsA8f8CTr"
      },
      "outputs": [
        {
          "output_type": "execute_result",
          "data": {
            "text/plain": [
              "video_id        0\n",
              "comment_text    0\n",
              "likes           0\n",
              "replies         0\n",
              "dtype: int64"
            ],
            "text/html": [
              "<div>\n",
              "<style scoped>\n",
              "    .dataframe tbody tr th:only-of-type {\n",
              "        vertical-align: middle;\n",
              "    }\n",
              "\n",
              "    .dataframe tbody tr th {\n",
              "        vertical-align: top;\n",
              "    }\n",
              "\n",
              "    .dataframe thead th {\n",
              "        text-align: right;\n",
              "    }\n",
              "</style>\n",
              "<table border=\"1\" class=\"dataframe\">\n",
              "  <thead>\n",
              "    <tr style=\"text-align: right;\">\n",
              "      <th></th>\n",
              "      <th>0</th>\n",
              "    </tr>\n",
              "  </thead>\n",
              "  <tbody>\n",
              "    <tr>\n",
              "      <th>video_id</th>\n",
              "      <td>0</td>\n",
              "    </tr>\n",
              "    <tr>\n",
              "      <th>comment_text</th>\n",
              "      <td>0</td>\n",
              "    </tr>\n",
              "    <tr>\n",
              "      <th>likes</th>\n",
              "      <td>0</td>\n",
              "    </tr>\n",
              "    <tr>\n",
              "      <th>replies</th>\n",
              "      <td>0</td>\n",
              "    </tr>\n",
              "  </tbody>\n",
              "</table>\n",
              "</div><br><label><b>dtype:</b> int64</label>"
            ]
          },
          "metadata": {},
          "execution_count": 6
        }
      ],
      "source": [
        "df.isnull().sum()"
      ],
      "id": "nW3JsA8f8CTr"
    },
    {
      "cell_type": "markdown",
      "metadata": {
        "id": "U3NmAsHc8CTs"
      },
      "source": [
        "***Perform Sentiment Analysis***"
      ],
      "id": "U3NmAsHc8CTs"
    },
    {
      "cell_type": "markdown",
      "source": [
        "**Sentiment analysis is a way for computers to understand and analyze the emotions expressed in text, like whether it's positive, negative, or neutral.\n",
        "example:\n",
        "<br>1.This video is quite helpful-->Positive sentiment [0,1] more it will close to 1 it will positve sentiment\n",
        "<br>2.Uable to understand the topic -->Negative sentiment[-1]\n",
        "<br>3. I'm attending the lecture this afternoon.-->Neutral sentiment[0]\n",
        "<br>The polarity range refers to the scale used in sentiment analysis to measure the degree of positivity or negativity in text, typically ranging from -1 to 1 **"
      ],
      "metadata": {
        "id": "-0niAr8ZgCiw"
      },
      "id": "-0niAr8ZgCiw"
    },
    {
      "cell_type": "markdown",
      "source": [
        "TextBlob is a Python library for processing textual data. It provides a simple API for common natural language processing (NLP) tasks\n"
      ],
      "metadata": {
        "id": "sIFHjUFbgxWF"
      },
      "id": "sIFHjUFbgxWF"
    },
    {
      "cell_type": "code",
      "execution_count": 7,
      "metadata": {
        "colab": {
          "base_uri": "https://localhost:8080/"
        },
        "outputId": "f6ee7cb0-f915-4371-b0b2-8fea37a032ee",
        "id": "a8ASFzLQ8CTv"
      },
      "outputs": [
        {
          "output_type": "stream",
          "name": "stdout",
          "text": [
            "Requirement already satisfied: textblob in /usr/local/lib/python3.10/dist-packages (0.17.1)\n",
            "Requirement already satisfied: nltk>=3.1 in /usr/local/lib/python3.10/dist-packages (from textblob) (3.9.1)\n",
            "Requirement already satisfied: click in /usr/local/lib/python3.10/dist-packages (from nltk>=3.1->textblob) (8.1.7)\n",
            "Requirement already satisfied: joblib in /usr/local/lib/python3.10/dist-packages (from nltk>=3.1->textblob) (1.4.2)\n",
            "Requirement already satisfied: regex>=2021.8.3 in /usr/local/lib/python3.10/dist-packages (from nltk>=3.1->textblob) (2024.9.11)\n",
            "Requirement already satisfied: tqdm in /usr/local/lib/python3.10/dist-packages (from nltk>=3.1->textblob) (4.66.6)\n"
          ]
        }
      ],
      "source": [
        "#!pip install textblob\n",
        "import sys #It's called \"sys\" because it provides access to system-specific parameters and functions.\n",
        "!{sys.executable} -m pip install textblob"
      ],
      "id": "a8ASFzLQ8CTv"
    },
    {
      "cell_type": "code",
      "execution_count": 8,
      "metadata": {
        "id": "d9hgjM-t8CTw"
      },
      "outputs": [],
      "source": [
        "from textblob import TextBlob"
      ],
      "id": "d9hgjM-t8CTw"
    },
    {
      "cell_type": "code",
      "execution_count": 9,
      "metadata": {
        "colab": {
          "base_uri": "https://localhost:8080/",
          "height": 237
        },
        "outputId": "ab982b61-6cee-4355-a508-00067f85e872",
        "id": "gGOz4z4E8CTy"
      },
      "outputs": [
        {
          "output_type": "execute_result",
          "data": {
            "text/plain": [
              "      video_id                                       comment_text likes  \\\n",
              "0  XpVt6Z1Gjjo                \"Logan Paul it's yo big day ‼️‼️‼️\"     4   \n",
              "1  XpVt6Z1Gjjo  \"I've been following you from the start of you...     3   \n",
              "2  XpVt6Z1Gjjo               \"Say hi to Kong and maverick for me\"     3   \n",
              "3  XpVt6Z1Gjjo                              \"MY FAN . attendance\"     3   \n",
              "4  XpVt6Z1Gjjo                                       \"trending 😉\"     3   \n",
              "5  XpVt6Z1Gjjo                          \"#1 on trending AYYEEEEE\"     3   \n",
              "\n",
              "  replies  \n",
              "0       0  \n",
              "1       0  \n",
              "2       0  \n",
              "3       0  \n",
              "4       0  \n",
              "5       0  "
            ],
            "text/html": [
              "\n",
              "  <div id=\"df-eb91d27a-b957-45c2-a424-b8bd1cee3533\" class=\"colab-df-container\">\n",
              "    <div>\n",
              "<style scoped>\n",
              "    .dataframe tbody tr th:only-of-type {\n",
              "        vertical-align: middle;\n",
              "    }\n",
              "\n",
              "    .dataframe tbody tr th {\n",
              "        vertical-align: top;\n",
              "    }\n",
              "\n",
              "    .dataframe thead th {\n",
              "        text-align: right;\n",
              "    }\n",
              "</style>\n",
              "<table border=\"1\" class=\"dataframe\">\n",
              "  <thead>\n",
              "    <tr style=\"text-align: right;\">\n",
              "      <th></th>\n",
              "      <th>video_id</th>\n",
              "      <th>comment_text</th>\n",
              "      <th>likes</th>\n",
              "      <th>replies</th>\n",
              "    </tr>\n",
              "  </thead>\n",
              "  <tbody>\n",
              "    <tr>\n",
              "      <th>0</th>\n",
              "      <td>XpVt6Z1Gjjo</td>\n",
              "      <td>\"Logan Paul it's yo big day ‼️‼️‼️\"</td>\n",
              "      <td>4</td>\n",
              "      <td>0</td>\n",
              "    </tr>\n",
              "    <tr>\n",
              "      <th>1</th>\n",
              "      <td>XpVt6Z1Gjjo</td>\n",
              "      <td>\"I've been following you from the start of you...</td>\n",
              "      <td>3</td>\n",
              "      <td>0</td>\n",
              "    </tr>\n",
              "    <tr>\n",
              "      <th>2</th>\n",
              "      <td>XpVt6Z1Gjjo</td>\n",
              "      <td>\"Say hi to Kong and maverick for me\"</td>\n",
              "      <td>3</td>\n",
              "      <td>0</td>\n",
              "    </tr>\n",
              "    <tr>\n",
              "      <th>3</th>\n",
              "      <td>XpVt6Z1Gjjo</td>\n",
              "      <td>\"MY FAN . attendance\"</td>\n",
              "      <td>3</td>\n",
              "      <td>0</td>\n",
              "    </tr>\n",
              "    <tr>\n",
              "      <th>4</th>\n",
              "      <td>XpVt6Z1Gjjo</td>\n",
              "      <td>\"trending 😉\"</td>\n",
              "      <td>3</td>\n",
              "      <td>0</td>\n",
              "    </tr>\n",
              "    <tr>\n",
              "      <th>5</th>\n",
              "      <td>XpVt6Z1Gjjo</td>\n",
              "      <td>\"#1 on trending AYYEEEEE\"</td>\n",
              "      <td>3</td>\n",
              "      <td>0</td>\n",
              "    </tr>\n",
              "  </tbody>\n",
              "</table>\n",
              "</div>\n",
              "    <div class=\"colab-df-buttons\">\n",
              "\n",
              "  <div class=\"colab-df-container\">\n",
              "    <button class=\"colab-df-convert\" onclick=\"convertToInteractive('df-eb91d27a-b957-45c2-a424-b8bd1cee3533')\"\n",
              "            title=\"Convert this dataframe to an interactive table.\"\n",
              "            style=\"display:none;\">\n",
              "\n",
              "  <svg xmlns=\"http://www.w3.org/2000/svg\" height=\"24px\" viewBox=\"0 -960 960 960\">\n",
              "    <path d=\"M120-120v-720h720v720H120Zm60-500h600v-160H180v160Zm220 220h160v-160H400v160Zm0 220h160v-160H400v160ZM180-400h160v-160H180v160Zm440 0h160v-160H620v160ZM180-180h160v-160H180v160Zm440 0h160v-160H620v160Z\"/>\n",
              "  </svg>\n",
              "    </button>\n",
              "\n",
              "  <style>\n",
              "    .colab-df-container {\n",
              "      display:flex;\n",
              "      gap: 12px;\n",
              "    }\n",
              "\n",
              "    .colab-df-convert {\n",
              "      background-color: #E8F0FE;\n",
              "      border: none;\n",
              "      border-radius: 50%;\n",
              "      cursor: pointer;\n",
              "      display: none;\n",
              "      fill: #1967D2;\n",
              "      height: 32px;\n",
              "      padding: 0 0 0 0;\n",
              "      width: 32px;\n",
              "    }\n",
              "\n",
              "    .colab-df-convert:hover {\n",
              "      background-color: #E2EBFA;\n",
              "      box-shadow: 0px 1px 2px rgba(60, 64, 67, 0.3), 0px 1px 3px 1px rgba(60, 64, 67, 0.15);\n",
              "      fill: #174EA6;\n",
              "    }\n",
              "\n",
              "    .colab-df-buttons div {\n",
              "      margin-bottom: 4px;\n",
              "    }\n",
              "\n",
              "    [theme=dark] .colab-df-convert {\n",
              "      background-color: #3B4455;\n",
              "      fill: #D2E3FC;\n",
              "    }\n",
              "\n",
              "    [theme=dark] .colab-df-convert:hover {\n",
              "      background-color: #434B5C;\n",
              "      box-shadow: 0px 1px 3px 1px rgba(0, 0, 0, 0.15);\n",
              "      filter: drop-shadow(0px 1px 2px rgba(0, 0, 0, 0.3));\n",
              "      fill: #FFFFFF;\n",
              "    }\n",
              "  </style>\n",
              "\n",
              "    <script>\n",
              "      const buttonEl =\n",
              "        document.querySelector('#df-eb91d27a-b957-45c2-a424-b8bd1cee3533 button.colab-df-convert');\n",
              "      buttonEl.style.display =\n",
              "        google.colab.kernel.accessAllowed ? 'block' : 'none';\n",
              "\n",
              "      async function convertToInteractive(key) {\n",
              "        const element = document.querySelector('#df-eb91d27a-b957-45c2-a424-b8bd1cee3533');\n",
              "        const dataTable =\n",
              "          await google.colab.kernel.invokeFunction('convertToInteractive',\n",
              "                                                    [key], {});\n",
              "        if (!dataTable) return;\n",
              "\n",
              "        const docLinkHtml = 'Like what you see? Visit the ' +\n",
              "          '<a target=\"_blank\" href=https://colab.research.google.com/notebooks/data_table.ipynb>data table notebook</a>'\n",
              "          + ' to learn more about interactive tables.';\n",
              "        element.innerHTML = '';\n",
              "        dataTable['output_type'] = 'display_data';\n",
              "        await google.colab.output.renderOutput(dataTable, element);\n",
              "        const docLink = document.createElement('div');\n",
              "        docLink.innerHTML = docLinkHtml;\n",
              "        element.appendChild(docLink);\n",
              "      }\n",
              "    </script>\n",
              "  </div>\n",
              "\n",
              "\n",
              "<div id=\"df-732567ba-9201-4732-beef-f341629d126e\">\n",
              "  <button class=\"colab-df-quickchart\" onclick=\"quickchart('df-732567ba-9201-4732-beef-f341629d126e')\"\n",
              "            title=\"Suggest charts\"\n",
              "            style=\"display:none;\">\n",
              "\n",
              "<svg xmlns=\"http://www.w3.org/2000/svg\" height=\"24px\"viewBox=\"0 0 24 24\"\n",
              "     width=\"24px\">\n",
              "    <g>\n",
              "        <path d=\"M19 3H5c-1.1 0-2 .9-2 2v14c0 1.1.9 2 2 2h14c1.1 0 2-.9 2-2V5c0-1.1-.9-2-2-2zM9 17H7v-7h2v7zm4 0h-2V7h2v10zm4 0h-2v-4h2v4z\"/>\n",
              "    </g>\n",
              "</svg>\n",
              "  </button>\n",
              "\n",
              "<style>\n",
              "  .colab-df-quickchart {\n",
              "      --bg-color: #E8F0FE;\n",
              "      --fill-color: #1967D2;\n",
              "      --hover-bg-color: #E2EBFA;\n",
              "      --hover-fill-color: #174EA6;\n",
              "      --disabled-fill-color: #AAA;\n",
              "      --disabled-bg-color: #DDD;\n",
              "  }\n",
              "\n",
              "  [theme=dark] .colab-df-quickchart {\n",
              "      --bg-color: #3B4455;\n",
              "      --fill-color: #D2E3FC;\n",
              "      --hover-bg-color: #434B5C;\n",
              "      --hover-fill-color: #FFFFFF;\n",
              "      --disabled-bg-color: #3B4455;\n",
              "      --disabled-fill-color: #666;\n",
              "  }\n",
              "\n",
              "  .colab-df-quickchart {\n",
              "    background-color: var(--bg-color);\n",
              "    border: none;\n",
              "    border-radius: 50%;\n",
              "    cursor: pointer;\n",
              "    display: none;\n",
              "    fill: var(--fill-color);\n",
              "    height: 32px;\n",
              "    padding: 0;\n",
              "    width: 32px;\n",
              "  }\n",
              "\n",
              "  .colab-df-quickchart:hover {\n",
              "    background-color: var(--hover-bg-color);\n",
              "    box-shadow: 0 1px 2px rgba(60, 64, 67, 0.3), 0 1px 3px 1px rgba(60, 64, 67, 0.15);\n",
              "    fill: var(--button-hover-fill-color);\n",
              "  }\n",
              "\n",
              "  .colab-df-quickchart-complete:disabled,\n",
              "  .colab-df-quickchart-complete:disabled:hover {\n",
              "    background-color: var(--disabled-bg-color);\n",
              "    fill: var(--disabled-fill-color);\n",
              "    box-shadow: none;\n",
              "  }\n",
              "\n",
              "  .colab-df-spinner {\n",
              "    border: 2px solid var(--fill-color);\n",
              "    border-color: transparent;\n",
              "    border-bottom-color: var(--fill-color);\n",
              "    animation:\n",
              "      spin 1s steps(1) infinite;\n",
              "  }\n",
              "\n",
              "  @keyframes spin {\n",
              "    0% {\n",
              "      border-color: transparent;\n",
              "      border-bottom-color: var(--fill-color);\n",
              "      border-left-color: var(--fill-color);\n",
              "    }\n",
              "    20% {\n",
              "      border-color: transparent;\n",
              "      border-left-color: var(--fill-color);\n",
              "      border-top-color: var(--fill-color);\n",
              "    }\n",
              "    30% {\n",
              "      border-color: transparent;\n",
              "      border-left-color: var(--fill-color);\n",
              "      border-top-color: var(--fill-color);\n",
              "      border-right-color: var(--fill-color);\n",
              "    }\n",
              "    40% {\n",
              "      border-color: transparent;\n",
              "      border-right-color: var(--fill-color);\n",
              "      border-top-color: var(--fill-color);\n",
              "    }\n",
              "    60% {\n",
              "      border-color: transparent;\n",
              "      border-right-color: var(--fill-color);\n",
              "    }\n",
              "    80% {\n",
              "      border-color: transparent;\n",
              "      border-right-color: var(--fill-color);\n",
              "      border-bottom-color: var(--fill-color);\n",
              "    }\n",
              "    90% {\n",
              "      border-color: transparent;\n",
              "      border-bottom-color: var(--fill-color);\n",
              "    }\n",
              "  }\n",
              "</style>\n",
              "\n",
              "  <script>\n",
              "    async function quickchart(key) {\n",
              "      const quickchartButtonEl =\n",
              "        document.querySelector('#' + key + ' button');\n",
              "      quickchartButtonEl.disabled = true;  // To prevent multiple clicks.\n",
              "      quickchartButtonEl.classList.add('colab-df-spinner');\n",
              "      try {\n",
              "        const charts = await google.colab.kernel.invokeFunction(\n",
              "            'suggestCharts', [key], {});\n",
              "      } catch (error) {\n",
              "        console.error('Error during call to suggestCharts:', error);\n",
              "      }\n",
              "      quickchartButtonEl.classList.remove('colab-df-spinner');\n",
              "      quickchartButtonEl.classList.add('colab-df-quickchart-complete');\n",
              "    }\n",
              "    (() => {\n",
              "      let quickchartButtonEl =\n",
              "        document.querySelector('#df-732567ba-9201-4732-beef-f341629d126e button');\n",
              "      quickchartButtonEl.style.display =\n",
              "        google.colab.kernel.accessAllowed ? 'block' : 'none';\n",
              "    })();\n",
              "  </script>\n",
              "</div>\n",
              "\n",
              "    </div>\n",
              "  </div>\n"
            ],
            "application/vnd.google.colaboratory.intrinsic+json": {
              "type": "dataframe",
              "variable_name": "df"
            }
          },
          "metadata": {},
          "execution_count": 9
        }
      ],
      "source": [
        "df.head(6)"
      ],
      "id": "gGOz4z4E8CTy"
    },
    {
      "cell_type": "code",
      "execution_count": 9,
      "metadata": {
        "colab": {
          "base_uri": "https://localhost:8080/"
        },
        "outputId": "d7419f70-cefd-437c-8ced-d1cd7b18b21e",
        "id": "jAI3eyIf8CTz"
      },
      "outputs": [
        {
          "output_type": "execute_result",
          "data": {
            "text/plain": [
              "(564993, 4)"
            ]
          },
          "metadata": {},
          "execution_count": 9
        }
      ],
      "source": [
        "df.shape"
      ],
      "id": "jAI3eyIf8CTz"
    },
    {
      "cell_type": "markdown",
      "source": [
        "\n",
        "***Creating a new DataFrame (sample_df) by selecting the first 1000 rows of an existing DataFrame (df).\n",
        "This can be useful for working with a smaller subset of data, such as when you want to perform quick analyses or tests without using the entire dataset.***"
      ],
      "metadata": {
        "id": "5qy1IE5ghNfe"
      },
      "id": "5qy1IE5ghNfe"
    },
    {
      "cell_type": "code",
      "execution_count": 10,
      "metadata": {
        "id": "uEAGOYGU8CT1"
      },
      "outputs": [],
      "source": [
        "sample_df = df[0:1000]"
      ],
      "id": "uEAGOYGU8CT1"
    },
    {
      "cell_type": "code",
      "execution_count": 11,
      "metadata": {
        "colab": {
          "base_uri": "https://localhost:8080/"
        },
        "outputId": "637c2dd7-043e-452c-dc5c-a6a1d9685bf2",
        "id": "rBtM1zCL8CT2"
      },
      "outputs": [
        {
          "output_type": "execute_result",
          "data": {
            "text/plain": [
              "TextBlob(\"Logan Paul it's yo big day ‼️‼️‼️\")"
            ]
          },
          "metadata": {},
          "execution_count": 11
        }
      ],
      "source": [
        " # normal text box\n",
        "TextBlob(\"Logan Paul it's yo big day ‼️‼️‼️\")"
      ],
      "id": "rBtM1zCL8CT2"
    },
    {
      "cell_type": "code",
      "execution_count": 12,
      "metadata": {
        "colab": {
          "base_uri": "https://localhost:8080/"
        },
        "outputId": "91793e05-8464-4ab4-bf60-2c3f0a0aadd5",
        "id": "24-mnEQ_8CT3"
      },
      "outputs": [
        {
          "output_type": "execute_result",
          "data": {
            "text/plain": [
              "Sentiment(polarity=0.0, subjectivity=0.1)"
            ]
          },
          "metadata": {},
          "execution_count": 12
        }
      ],
      "source": [
        "#attribute\n",
        "TextBlob(\"Logan Paul it's yo big day ‼️‼️‼️\").sentiment"
      ],
      "id": "24-mnEQ_8CT3"
    },
    {
      "cell_type": "code",
      "execution_count": 13,
      "metadata": {
        "colab": {
          "base_uri": "https://localhost:8080/"
        },
        "outputId": "01741674-05e5-4017-f772-4317d90d51e3",
        "id": "vNq3ykDW8CT4"
      },
      "outputs": [
        {
          "output_type": "execute_result",
          "data": {
            "text/plain": [
              "0.0"
            ]
          },
          "metadata": {},
          "execution_count": 13
        }
      ],
      "source": [
        "### its a neutral sentence !\n",
        "TextBlob(\"Logan Paul it's yo big day ‼️‼️‼️\").sentiment.polarity"
      ],
      "id": "vNq3ykDW8CT4"
    },
    {
      "cell_type": "code",
      "execution_count": 14,
      "metadata": {
        "id": "ZhcMIrK-8CT4"
      },
      "outputs": [],
      "source": [
        "#performing sentiment for each row of comment_text'\n",
        "#polarity = [] #--black list\n",
        "\n",
        "#for comment in df['comment_text']:\n",
        "    #TextBlob(comment).sentiment.polarity\n",
        "    #polarity.append(TextBlob(comment).sentiment.polarity)\n",
        "\n",
        "#if there is black txt then will get the exception error . so avoid the exception we have to use try exception block\n",
        "\n",
        "#syntax\n",
        "#try:\n",
        "    # Code that might raise an exception\n",
        " #except :\n",
        "    # Code to handle the exception\n"
      ],
      "id": "ZhcMIrK-8CT4"
    },
    {
      "cell_type": "code",
      "source": [
        "!pip install tqdm\n",
        "!pip install textblob\n",
        "from textblob import TextBlob\n",
        "from tqdm import tqdm  # For progress tracking\n",
        "\n",
        "# Initialize an empty list to store polarity scores\n",
        "polarity = []\n",
        "\n",
        "# Iterate through each comment with a progress bar\n",
        "for comment in tqdm(df['comment_text'], desc=\"Processing comments\"):\n",
        "    try:\n",
        "        # Calculate sentiment polarity for the comment\n",
        "        polarity_score = TextBlob(comment).sentiment.polarity\n",
        "        polarity.append(polarity_score)\n",
        "    except Exception as e:\n",
        "        # Handle exceptions by appending a default polarity of 0\n",
        "        polarity.append(0)\n",
        "        print(f\"Error processing comment: {comment}. Exception: {e}\")\n",
        "\n",
        "# Add the polarity list as a new column to the DataFrame (optional)\n",
        "df['polarity'] = polarity\n"
      ],
      "metadata": {
        "colab": {
          "base_uri": "https://localhost:8080/"
        },
        "id": "yyUfA7yWjpiM",
        "outputId": "001e9999-9f67-4251-d877-ea2d67f8bfc8"
      },
      "execution_count": 15,
      "outputs": [
        {
          "output_type": "stream",
          "name": "stdout",
          "text": [
            "Requirement already satisfied: tqdm in /usr/local/lib/python3.10/dist-packages (4.66.6)\n",
            "Requirement already satisfied: textblob in /usr/local/lib/python3.10/dist-packages (0.17.1)\n",
            "Requirement already satisfied: nltk>=3.1 in /usr/local/lib/python3.10/dist-packages (from textblob) (3.9.1)\n",
            "Requirement already satisfied: click in /usr/local/lib/python3.10/dist-packages (from nltk>=3.1->textblob) (8.1.7)\n",
            "Requirement already satisfied: joblib in /usr/local/lib/python3.10/dist-packages (from nltk>=3.1->textblob) (1.4.2)\n",
            "Requirement already satisfied: regex>=2021.8.3 in /usr/local/lib/python3.10/dist-packages (from nltk>=3.1->textblob) (2024.9.11)\n",
            "Requirement already satisfied: tqdm in /usr/local/lib/python3.10/dist-packages (from nltk>=3.1->textblob) (4.66.6)\n"
          ]
        },
        {
          "output_type": "stream",
          "name": "stderr",
          "text": [
            "Processing comments: 100%|██████████| 564993/564993 [02:28<00:00, 3806.33it/s]\n"
          ]
        }
      ],
      "id": "yyUfA7yWjpiM"
    },
    {
      "cell_type": "code",
      "execution_count": 16,
      "metadata": {
        "id": "mWrJq45w8CT6"
      },
      "outputs": [],
      "source": [
        "polarity = []\n",
        "\n",
        "for comment in df['comment_text']:\n",
        "    try:\n",
        "        polarity.append(TextBlob(comment).sentiment.polarity)\n",
        "    except:\n",
        "        polarity.append(0);"
      ],
      "id": "mWrJq45w8CT6"
    },
    {
      "cell_type": "code",
      "execution_count": 17,
      "metadata": {
        "colab": {
          "base_uri": "https://localhost:8080/"
        },
        "outputId": "d7960d08-2c82-4572-8cb1-dda90d794590",
        "id": "XmtAszRI8CT7"
      },
      "outputs": [
        {
          "output_type": "execute_result",
          "data": {
            "text/plain": [
              "564993"
            ]
          },
          "metadata": {},
          "execution_count": 17
        }
      ],
      "source": [
        "len(polarity)"
      ],
      "id": "XmtAszRI8CT7"
    },
    {
      "cell_type": "markdown",
      "source": [
        "***Inserting polarity values into comments dataframe while defining feature name as \"polarity\"***"
      ],
      "metadata": {
        "id": "XDlCLRZmrSE9"
      },
      "id": "XDlCLRZmrSE9"
    },
    {
      "cell_type": "code",
      "execution_count": 18,
      "metadata": {
        "id": "Q8BTONLq8CT9"
      },
      "outputs": [],
      "source": [
        "df['polarity']  = polarity"
      ],
      "id": "Q8BTONLq8CT9"
    },
    {
      "cell_type": "code",
      "execution_count": 19,
      "metadata": {
        "colab": {
          "base_uri": "https://localhost:8080/",
          "height": 206
        },
        "outputId": "953fa319-a50a-4b84-83c7-7238aea4d0e3",
        "id": "egYqiSpJ8CT-"
      },
      "outputs": [
        {
          "output_type": "execute_result",
          "data": {
            "text/plain": [
              "      video_id                                       comment_text likes  \\\n",
              "0  XpVt6Z1Gjjo                \"Logan Paul it's yo big day ‼️‼️‼️\"     4   \n",
              "1  XpVt6Z1Gjjo  \"I've been following you from the start of you...     3   \n",
              "2  XpVt6Z1Gjjo               \"Say hi to Kong and maverick for me\"     3   \n",
              "3  XpVt6Z1Gjjo                              \"MY FAN . attendance\"     3   \n",
              "4  XpVt6Z1Gjjo                                       \"trending 😉\"     3   \n",
              "\n",
              "  replies  polarity  \n",
              "0       0       0.0  \n",
              "1       0       0.0  \n",
              "2       0       0.0  \n",
              "3       0       0.0  \n",
              "4       0       0.0  "
            ],
            "text/html": [
              "\n",
              "  <div id=\"df-16936f5a-4105-4908-97c7-949205a07d8e\" class=\"colab-df-container\">\n",
              "    <div>\n",
              "<style scoped>\n",
              "    .dataframe tbody tr th:only-of-type {\n",
              "        vertical-align: middle;\n",
              "    }\n",
              "\n",
              "    .dataframe tbody tr th {\n",
              "        vertical-align: top;\n",
              "    }\n",
              "\n",
              "    .dataframe thead th {\n",
              "        text-align: right;\n",
              "    }\n",
              "</style>\n",
              "<table border=\"1\" class=\"dataframe\">\n",
              "  <thead>\n",
              "    <tr style=\"text-align: right;\">\n",
              "      <th></th>\n",
              "      <th>video_id</th>\n",
              "      <th>comment_text</th>\n",
              "      <th>likes</th>\n",
              "      <th>replies</th>\n",
              "      <th>polarity</th>\n",
              "    </tr>\n",
              "  </thead>\n",
              "  <tbody>\n",
              "    <tr>\n",
              "      <th>0</th>\n",
              "      <td>XpVt6Z1Gjjo</td>\n",
              "      <td>\"Logan Paul it's yo big day ‼️‼️‼️\"</td>\n",
              "      <td>4</td>\n",
              "      <td>0</td>\n",
              "      <td>0.0</td>\n",
              "    </tr>\n",
              "    <tr>\n",
              "      <th>1</th>\n",
              "      <td>XpVt6Z1Gjjo</td>\n",
              "      <td>\"I've been following you from the start of you...</td>\n",
              "      <td>3</td>\n",
              "      <td>0</td>\n",
              "      <td>0.0</td>\n",
              "    </tr>\n",
              "    <tr>\n",
              "      <th>2</th>\n",
              "      <td>XpVt6Z1Gjjo</td>\n",
              "      <td>\"Say hi to Kong and maverick for me\"</td>\n",
              "      <td>3</td>\n",
              "      <td>0</td>\n",
              "      <td>0.0</td>\n",
              "    </tr>\n",
              "    <tr>\n",
              "      <th>3</th>\n",
              "      <td>XpVt6Z1Gjjo</td>\n",
              "      <td>\"MY FAN . attendance\"</td>\n",
              "      <td>3</td>\n",
              "      <td>0</td>\n",
              "      <td>0.0</td>\n",
              "    </tr>\n",
              "    <tr>\n",
              "      <th>4</th>\n",
              "      <td>XpVt6Z1Gjjo</td>\n",
              "      <td>\"trending 😉\"</td>\n",
              "      <td>3</td>\n",
              "      <td>0</td>\n",
              "      <td>0.0</td>\n",
              "    </tr>\n",
              "  </tbody>\n",
              "</table>\n",
              "</div>\n",
              "    <div class=\"colab-df-buttons\">\n",
              "\n",
              "  <div class=\"colab-df-container\">\n",
              "    <button class=\"colab-df-convert\" onclick=\"convertToInteractive('df-16936f5a-4105-4908-97c7-949205a07d8e')\"\n",
              "            title=\"Convert this dataframe to an interactive table.\"\n",
              "            style=\"display:none;\">\n",
              "\n",
              "  <svg xmlns=\"http://www.w3.org/2000/svg\" height=\"24px\" viewBox=\"0 -960 960 960\">\n",
              "    <path d=\"M120-120v-720h720v720H120Zm60-500h600v-160H180v160Zm220 220h160v-160H400v160Zm0 220h160v-160H400v160ZM180-400h160v-160H180v160Zm440 0h160v-160H620v160ZM180-180h160v-160H180v160Zm440 0h160v-160H620v160Z\"/>\n",
              "  </svg>\n",
              "    </button>\n",
              "\n",
              "  <style>\n",
              "    .colab-df-container {\n",
              "      display:flex;\n",
              "      gap: 12px;\n",
              "    }\n",
              "\n",
              "    .colab-df-convert {\n",
              "      background-color: #E8F0FE;\n",
              "      border: none;\n",
              "      border-radius: 50%;\n",
              "      cursor: pointer;\n",
              "      display: none;\n",
              "      fill: #1967D2;\n",
              "      height: 32px;\n",
              "      padding: 0 0 0 0;\n",
              "      width: 32px;\n",
              "    }\n",
              "\n",
              "    .colab-df-convert:hover {\n",
              "      background-color: #E2EBFA;\n",
              "      box-shadow: 0px 1px 2px rgba(60, 64, 67, 0.3), 0px 1px 3px 1px rgba(60, 64, 67, 0.15);\n",
              "      fill: #174EA6;\n",
              "    }\n",
              "\n",
              "    .colab-df-buttons div {\n",
              "      margin-bottom: 4px;\n",
              "    }\n",
              "\n",
              "    [theme=dark] .colab-df-convert {\n",
              "      background-color: #3B4455;\n",
              "      fill: #D2E3FC;\n",
              "    }\n",
              "\n",
              "    [theme=dark] .colab-df-convert:hover {\n",
              "      background-color: #434B5C;\n",
              "      box-shadow: 0px 1px 3px 1px rgba(0, 0, 0, 0.15);\n",
              "      filter: drop-shadow(0px 1px 2px rgba(0, 0, 0, 0.3));\n",
              "      fill: #FFFFFF;\n",
              "    }\n",
              "  </style>\n",
              "\n",
              "    <script>\n",
              "      const buttonEl =\n",
              "        document.querySelector('#df-16936f5a-4105-4908-97c7-949205a07d8e button.colab-df-convert');\n",
              "      buttonEl.style.display =\n",
              "        google.colab.kernel.accessAllowed ? 'block' : 'none';\n",
              "\n",
              "      async function convertToInteractive(key) {\n",
              "        const element = document.querySelector('#df-16936f5a-4105-4908-97c7-949205a07d8e');\n",
              "        const dataTable =\n",
              "          await google.colab.kernel.invokeFunction('convertToInteractive',\n",
              "                                                    [key], {});\n",
              "        if (!dataTable) return;\n",
              "\n",
              "        const docLinkHtml = 'Like what you see? Visit the ' +\n",
              "          '<a target=\"_blank\" href=https://colab.research.google.com/notebooks/data_table.ipynb>data table notebook</a>'\n",
              "          + ' to learn more about interactive tables.';\n",
              "        element.innerHTML = '';\n",
              "        dataTable['output_type'] = 'display_data';\n",
              "        await google.colab.output.renderOutput(dataTable, element);\n",
              "        const docLink = document.createElement('div');\n",
              "        docLink.innerHTML = docLinkHtml;\n",
              "        element.appendChild(docLink);\n",
              "      }\n",
              "    </script>\n",
              "  </div>\n",
              "\n",
              "\n",
              "<div id=\"df-ac217a23-36de-4981-89bd-5b436aed877a\">\n",
              "  <button class=\"colab-df-quickchart\" onclick=\"quickchart('df-ac217a23-36de-4981-89bd-5b436aed877a')\"\n",
              "            title=\"Suggest charts\"\n",
              "            style=\"display:none;\">\n",
              "\n",
              "<svg xmlns=\"http://www.w3.org/2000/svg\" height=\"24px\"viewBox=\"0 0 24 24\"\n",
              "     width=\"24px\">\n",
              "    <g>\n",
              "        <path d=\"M19 3H5c-1.1 0-2 .9-2 2v14c0 1.1.9 2 2 2h14c1.1 0 2-.9 2-2V5c0-1.1-.9-2-2-2zM9 17H7v-7h2v7zm4 0h-2V7h2v10zm4 0h-2v-4h2v4z\"/>\n",
              "    </g>\n",
              "</svg>\n",
              "  </button>\n",
              "\n",
              "<style>\n",
              "  .colab-df-quickchart {\n",
              "      --bg-color: #E8F0FE;\n",
              "      --fill-color: #1967D2;\n",
              "      --hover-bg-color: #E2EBFA;\n",
              "      --hover-fill-color: #174EA6;\n",
              "      --disabled-fill-color: #AAA;\n",
              "      --disabled-bg-color: #DDD;\n",
              "  }\n",
              "\n",
              "  [theme=dark] .colab-df-quickchart {\n",
              "      --bg-color: #3B4455;\n",
              "      --fill-color: #D2E3FC;\n",
              "      --hover-bg-color: #434B5C;\n",
              "      --hover-fill-color: #FFFFFF;\n",
              "      --disabled-bg-color: #3B4455;\n",
              "      --disabled-fill-color: #666;\n",
              "  }\n",
              "\n",
              "  .colab-df-quickchart {\n",
              "    background-color: var(--bg-color);\n",
              "    border: none;\n",
              "    border-radius: 50%;\n",
              "    cursor: pointer;\n",
              "    display: none;\n",
              "    fill: var(--fill-color);\n",
              "    height: 32px;\n",
              "    padding: 0;\n",
              "    width: 32px;\n",
              "  }\n",
              "\n",
              "  .colab-df-quickchart:hover {\n",
              "    background-color: var(--hover-bg-color);\n",
              "    box-shadow: 0 1px 2px rgba(60, 64, 67, 0.3), 0 1px 3px 1px rgba(60, 64, 67, 0.15);\n",
              "    fill: var(--button-hover-fill-color);\n",
              "  }\n",
              "\n",
              "  .colab-df-quickchart-complete:disabled,\n",
              "  .colab-df-quickchart-complete:disabled:hover {\n",
              "    background-color: var(--disabled-bg-color);\n",
              "    fill: var(--disabled-fill-color);\n",
              "    box-shadow: none;\n",
              "  }\n",
              "\n",
              "  .colab-df-spinner {\n",
              "    border: 2px solid var(--fill-color);\n",
              "    border-color: transparent;\n",
              "    border-bottom-color: var(--fill-color);\n",
              "    animation:\n",
              "      spin 1s steps(1) infinite;\n",
              "  }\n",
              "\n",
              "  @keyframes spin {\n",
              "    0% {\n",
              "      border-color: transparent;\n",
              "      border-bottom-color: var(--fill-color);\n",
              "      border-left-color: var(--fill-color);\n",
              "    }\n",
              "    20% {\n",
              "      border-color: transparent;\n",
              "      border-left-color: var(--fill-color);\n",
              "      border-top-color: var(--fill-color);\n",
              "    }\n",
              "    30% {\n",
              "      border-color: transparent;\n",
              "      border-left-color: var(--fill-color);\n",
              "      border-top-color: var(--fill-color);\n",
              "      border-right-color: var(--fill-color);\n",
              "    }\n",
              "    40% {\n",
              "      border-color: transparent;\n",
              "      border-right-color: var(--fill-color);\n",
              "      border-top-color: var(--fill-color);\n",
              "    }\n",
              "    60% {\n",
              "      border-color: transparent;\n",
              "      border-right-color: var(--fill-color);\n",
              "    }\n",
              "    80% {\n",
              "      border-color: transparent;\n",
              "      border-right-color: var(--fill-color);\n",
              "      border-bottom-color: var(--fill-color);\n",
              "    }\n",
              "    90% {\n",
              "      border-color: transparent;\n",
              "      border-bottom-color: var(--fill-color);\n",
              "    }\n",
              "  }\n",
              "</style>\n",
              "\n",
              "  <script>\n",
              "    async function quickchart(key) {\n",
              "      const quickchartButtonEl =\n",
              "        document.querySelector('#' + key + ' button');\n",
              "      quickchartButtonEl.disabled = true;  // To prevent multiple clicks.\n",
              "      quickchartButtonEl.classList.add('colab-df-spinner');\n",
              "      try {\n",
              "        const charts = await google.colab.kernel.invokeFunction(\n",
              "            'suggestCharts', [key], {});\n",
              "      } catch (error) {\n",
              "        console.error('Error during call to suggestCharts:', error);\n",
              "      }\n",
              "      quickchartButtonEl.classList.remove('colab-df-spinner');\n",
              "      quickchartButtonEl.classList.add('colab-df-quickchart-complete');\n",
              "    }\n",
              "    (() => {\n",
              "      let quickchartButtonEl =\n",
              "        document.querySelector('#df-ac217a23-36de-4981-89bd-5b436aed877a button');\n",
              "      quickchartButtonEl.style.display =\n",
              "        google.colab.kernel.accessAllowed ? 'block' : 'none';\n",
              "    })();\n",
              "  </script>\n",
              "</div>\n",
              "\n",
              "    </div>\n",
              "  </div>\n"
            ],
            "application/vnd.google.colaboratory.intrinsic+json": {
              "type": "dataframe",
              "variable_name": "df"
            }
          },
          "metadata": {},
          "execution_count": 19
        }
      ],
      "source": [
        "df.head(5)"
      ],
      "id": "egYqiSpJ8CT-"
    },
    {
      "cell_type": "markdown",
      "metadata": {
        "id": "FPCHZnUm8CT-"
      },
      "source": [
        "***Wordcloud Analysis of your data: #Word cloud analysis is a visual representation technique that displays the most frequently occurring words in a text dataset***"
      ],
      "id": "FPCHZnUm8CT-"
    },
    {
      "cell_type": "code",
      "execution_count": 20,
      "metadata": {
        "id": "2TpjNRzF8CT_"
      },
      "outputs": [],
      "source": [
        "filter1 = df['polarity']==1\n",
        "comments_positive=df[filter1]"
      ],
      "id": "2TpjNRzF8CT_"
    },
    {
      "cell_type": "code",
      "execution_count": 27,
      "metadata": {
        "id": "fa7zmfgd8CUA"
      },
      "outputs": [],
      "source": [
        "filter2 = df['polarity']==-1\n",
        "comments_negative= df[filter2]"
      ],
      "id": "fa7zmfgd8CUA"
    },
    {
      "cell_type": "code",
      "execution_count": 21,
      "metadata": {
        "colab": {
          "base_uri": "https://localhost:8080/"
        },
        "outputId": "07c07adb-a443-4838-b115-5d25e0dd96f3",
        "id": "wjocKxMR8CUB"
      },
      "outputs": [
        {
          "output_type": "stream",
          "name": "stdout",
          "text": [
            "Requirement already satisfied: wordcloud in /usr/local/lib/python3.10/dist-packages (1.9.4)\n",
            "Requirement already satisfied: numpy>=1.6.1 in /usr/local/lib/python3.10/dist-packages (from wordcloud) (1.26.4)\n",
            "Requirement already satisfied: pillow in /usr/local/lib/python3.10/dist-packages (from wordcloud) (11.0.0)\n",
            "Requirement already satisfied: matplotlib in /usr/local/lib/python3.10/dist-packages (from wordcloud) (3.8.0)\n",
            "Requirement already satisfied: contourpy>=1.0.1 in /usr/local/lib/python3.10/dist-packages (from matplotlib->wordcloud) (1.3.1)\n",
            "Requirement already satisfied: cycler>=0.10 in /usr/local/lib/python3.10/dist-packages (from matplotlib->wordcloud) (0.12.1)\n",
            "Requirement already satisfied: fonttools>=4.22.0 in /usr/local/lib/python3.10/dist-packages (from matplotlib->wordcloud) (4.55.1)\n",
            "Requirement already satisfied: kiwisolver>=1.0.1 in /usr/local/lib/python3.10/dist-packages (from matplotlib->wordcloud) (1.4.7)\n",
            "Requirement already satisfied: packaging>=20.0 in /usr/local/lib/python3.10/dist-packages (from matplotlib->wordcloud) (24.2)\n",
            "Requirement already satisfied: pyparsing>=2.3.1 in /usr/local/lib/python3.10/dist-packages (from matplotlib->wordcloud) (3.2.0)\n",
            "Requirement already satisfied: python-dateutil>=2.7 in /usr/local/lib/python3.10/dist-packages (from matplotlib->wordcloud) (2.8.2)\n",
            "Requirement already satisfied: six>=1.5 in /usr/local/lib/python3.10/dist-packages (from python-dateutil>=2.7->matplotlib->wordcloud) (1.16.0)\n"
          ]
        }
      ],
      "source": [
        "#!pip install wordcloud\n",
        "import sys\n",
        "!{sys.executable} -m pip install wordcloud"
      ],
      "id": "wjocKxMR8CUB"
    },
    {
      "cell_type": "markdown",
      "source": [
        "\n",
        "***Stopwords are common words like \"the,\" \"is,\" and \"and\" that are often removed from text during analysis because they don't carry significant meaning.***"
      ],
      "metadata": {
        "id": "Yjci0WiFr2A6"
      },
      "id": "Yjci0WiFr2A6"
    },
    {
      "cell_type": "code",
      "execution_count": 22,
      "metadata": {
        "id": "mP4s2scM8CUD"
      },
      "outputs": [],
      "source": [
        "from wordcloud import WordCloud , STOPWORDS"
      ],
      "id": "mP4s2scM8CUD"
    },
    {
      "cell_type": "code",
      "execution_count": 23,
      "metadata": {
        "colab": {
          "base_uri": "https://localhost:8080/"
        },
        "outputId": "3d3180cd-4117-47c8-f6af-202f78709a42",
        "id": "c-ptS0Sf8CUD"
      },
      "outputs": [
        {
          "output_type": "execute_result",
          "data": {
            "text/plain": [
              "{'a',\n",
              " 'about',\n",
              " 'above',\n",
              " 'after',\n",
              " 'again',\n",
              " 'against',\n",
              " 'all',\n",
              " 'also',\n",
              " 'am',\n",
              " 'an',\n",
              " 'and',\n",
              " 'any',\n",
              " 'are',\n",
              " \"aren't\",\n",
              " 'as',\n",
              " 'at',\n",
              " 'be',\n",
              " 'because',\n",
              " 'been',\n",
              " 'before',\n",
              " 'being',\n",
              " 'below',\n",
              " 'between',\n",
              " 'both',\n",
              " 'but',\n",
              " 'by',\n",
              " 'can',\n",
              " \"can't\",\n",
              " 'cannot',\n",
              " 'com',\n",
              " 'could',\n",
              " \"couldn't\",\n",
              " 'did',\n",
              " \"didn't\",\n",
              " 'do',\n",
              " 'does',\n",
              " \"doesn't\",\n",
              " 'doing',\n",
              " \"don't\",\n",
              " 'down',\n",
              " 'during',\n",
              " 'each',\n",
              " 'else',\n",
              " 'ever',\n",
              " 'few',\n",
              " 'for',\n",
              " 'from',\n",
              " 'further',\n",
              " 'get',\n",
              " 'had',\n",
              " \"hadn't\",\n",
              " 'has',\n",
              " \"hasn't\",\n",
              " 'have',\n",
              " \"haven't\",\n",
              " 'having',\n",
              " 'he',\n",
              " \"he'd\",\n",
              " \"he'll\",\n",
              " \"he's\",\n",
              " 'hence',\n",
              " 'her',\n",
              " 'here',\n",
              " \"here's\",\n",
              " 'hers',\n",
              " 'herself',\n",
              " 'him',\n",
              " 'himself',\n",
              " 'his',\n",
              " 'how',\n",
              " \"how's\",\n",
              " 'however',\n",
              " 'http',\n",
              " 'i',\n",
              " \"i'd\",\n",
              " \"i'll\",\n",
              " \"i'm\",\n",
              " \"i've\",\n",
              " 'if',\n",
              " 'in',\n",
              " 'into',\n",
              " 'is',\n",
              " \"isn't\",\n",
              " 'it',\n",
              " \"it's\",\n",
              " 'its',\n",
              " 'itself',\n",
              " 'just',\n",
              " 'k',\n",
              " \"let's\",\n",
              " 'like',\n",
              " 'me',\n",
              " 'more',\n",
              " 'most',\n",
              " \"mustn't\",\n",
              " 'my',\n",
              " 'myself',\n",
              " 'no',\n",
              " 'nor',\n",
              " 'not',\n",
              " 'of',\n",
              " 'off',\n",
              " 'on',\n",
              " 'once',\n",
              " 'only',\n",
              " 'or',\n",
              " 'other',\n",
              " 'otherwise',\n",
              " 'ought',\n",
              " 'our',\n",
              " 'ours',\n",
              " 'ourselves',\n",
              " 'out',\n",
              " 'over',\n",
              " 'own',\n",
              " 'r',\n",
              " 'same',\n",
              " 'shall',\n",
              " \"shan't\",\n",
              " 'she',\n",
              " \"she'd\",\n",
              " \"she'll\",\n",
              " \"she's\",\n",
              " 'should',\n",
              " \"shouldn't\",\n",
              " 'since',\n",
              " 'so',\n",
              " 'some',\n",
              " 'such',\n",
              " 'than',\n",
              " 'that',\n",
              " \"that's\",\n",
              " 'the',\n",
              " 'their',\n",
              " 'theirs',\n",
              " 'them',\n",
              " 'themselves',\n",
              " 'then',\n",
              " 'there',\n",
              " \"there's\",\n",
              " 'therefore',\n",
              " 'these',\n",
              " 'they',\n",
              " \"they'd\",\n",
              " \"they'll\",\n",
              " \"they're\",\n",
              " \"they've\",\n",
              " 'this',\n",
              " 'those',\n",
              " 'through',\n",
              " 'to',\n",
              " 'too',\n",
              " 'under',\n",
              " 'until',\n",
              " 'up',\n",
              " 'very',\n",
              " 'was',\n",
              " \"wasn't\",\n",
              " 'we',\n",
              " \"we'd\",\n",
              " \"we'll\",\n",
              " \"we're\",\n",
              " \"we've\",\n",
              " 'were',\n",
              " \"weren't\",\n",
              " 'what',\n",
              " \"what's\",\n",
              " 'when',\n",
              " \"when's\",\n",
              " 'where',\n",
              " \"where's\",\n",
              " 'which',\n",
              " 'while',\n",
              " 'who',\n",
              " \"who's\",\n",
              " 'whom',\n",
              " 'why',\n",
              " \"why's\",\n",
              " 'with',\n",
              " \"won't\",\n",
              " 'would',\n",
              " \"wouldn't\",\n",
              " 'www',\n",
              " 'you',\n",
              " \"you'd\",\n",
              " \"you'll\",\n",
              " \"you're\",\n",
              " \"you've\",\n",
              " 'your',\n",
              " 'yours',\n",
              " 'yourself',\n",
              " 'yourselves'}"
            ]
          },
          "metadata": {},
          "execution_count": 23
        }
      ],
      "source": [
        "set(STOPWORDS)\n",
        "#turns the stopwords list into a unique collection of words for faster processing."
      ],
      "id": "c-ptS0Sf8CUD"
    },
    {
      "cell_type": "code",
      "execution_count": 24,
      "metadata": {
        "colab": {
          "base_uri": "https://localhost:8080/",
          "height": 458
        },
        "outputId": "b03937f1-2743-4657-ffb3-e7932b6ae044",
        "id": "xtfBv-My8CUE"
      },
      "outputs": [
        {
          "output_type": "execute_result",
          "data": {
            "text/plain": [
              "0                       \"Logan Paul it's yo big day ‼️‼️‼️\"\n",
              "1         \"I've been following you from the start of you...\n",
              "2                      \"Say hi to Kong and maverick for me\"\n",
              "3                                     \"MY FAN . attendance\"\n",
              "4                                              \"trending 😉\"\n",
              "                                ...                        \n",
              "565288                                             \"Лучшая\"\n",
              "565289    \"qu'est ce que j'aimerais que tu viennes à Roa...\n",
              "565290                          \"Ven a mexico! 😍 te amo LP\"\n",
              "565291                                    \"Islığı yeter...\"\n",
              "565292    \"Kocham tą piosenkę😍❤❤❤byłam zakochana po uszy...\n",
              "Name: comment_text, Length: 564993, dtype: object"
            ],
            "text/html": [
              "<div>\n",
              "<style scoped>\n",
              "    .dataframe tbody tr th:only-of-type {\n",
              "        vertical-align: middle;\n",
              "    }\n",
              "\n",
              "    .dataframe tbody tr th {\n",
              "        vertical-align: top;\n",
              "    }\n",
              "\n",
              "    .dataframe thead th {\n",
              "        text-align: right;\n",
              "    }\n",
              "</style>\n",
              "<table border=\"1\" class=\"dataframe\">\n",
              "  <thead>\n",
              "    <tr style=\"text-align: right;\">\n",
              "      <th></th>\n",
              "      <th>comment_text</th>\n",
              "    </tr>\n",
              "  </thead>\n",
              "  <tbody>\n",
              "    <tr>\n",
              "      <th>0</th>\n",
              "      <td>\"Logan Paul it's yo big day ‼️‼️‼️\"</td>\n",
              "    </tr>\n",
              "    <tr>\n",
              "      <th>1</th>\n",
              "      <td>\"I've been following you from the start of you...</td>\n",
              "    </tr>\n",
              "    <tr>\n",
              "      <th>2</th>\n",
              "      <td>\"Say hi to Kong and maverick for me\"</td>\n",
              "    </tr>\n",
              "    <tr>\n",
              "      <th>3</th>\n",
              "      <td>\"MY FAN . attendance\"</td>\n",
              "    </tr>\n",
              "    <tr>\n",
              "      <th>4</th>\n",
              "      <td>\"trending 😉\"</td>\n",
              "    </tr>\n",
              "    <tr>\n",
              "      <th>...</th>\n",
              "      <td>...</td>\n",
              "    </tr>\n",
              "    <tr>\n",
              "      <th>565288</th>\n",
              "      <td>\"Лучшая\"</td>\n",
              "    </tr>\n",
              "    <tr>\n",
              "      <th>565289</th>\n",
              "      <td>\"qu'est ce que j'aimerais que tu viennes à Roa...</td>\n",
              "    </tr>\n",
              "    <tr>\n",
              "      <th>565290</th>\n",
              "      <td>\"Ven a mexico! 😍 te amo LP\"</td>\n",
              "    </tr>\n",
              "    <tr>\n",
              "      <th>565291</th>\n",
              "      <td>\"Islığı yeter...\"</td>\n",
              "    </tr>\n",
              "    <tr>\n",
              "      <th>565292</th>\n",
              "      <td>\"Kocham tą piosenkę😍❤❤❤byłam zakochana po uszy...</td>\n",
              "    </tr>\n",
              "  </tbody>\n",
              "</table>\n",
              "<p>564993 rows × 1 columns</p>\n",
              "</div><br><label><b>dtype:</b> object</label>"
            ]
          },
          "metadata": {},
          "execution_count": 24
        }
      ],
      "source": [
        "df['comment_text']"
      ],
      "id": "xtfBv-My8CUE"
    },
    {
      "cell_type": "code",
      "execution_count": 25,
      "metadata": {
        "colab": {
          "base_uri": "https://localhost:8080/",
          "height": 203
        },
        "outputId": "74ba1c17-f328-40ce-f261-ff35952e27e5",
        "id": "JmAfp_bO8CUF"
      },
      "outputs": [
        {
          "output_type": "execute_result",
          "data": {
            "text/plain": [
              "pandas.core.series.Series"
            ],
            "text/html": [
              "<div style=\"max-width:800px; border: 1px solid var(--colab-border-color);\"><style>\n",
              "      pre.function-repr-contents {\n",
              "        overflow-x: auto;\n",
              "        padding: 8px 12px;\n",
              "        max-height: 500px;\n",
              "      }\n",
              "\n",
              "      pre.function-repr-contents.function-repr-contents-collapsed {\n",
              "        cursor: pointer;\n",
              "        max-height: 100px;\n",
              "      }\n",
              "    </style>\n",
              "    <pre style=\"white-space: initial; background:\n",
              "         var(--colab-secondary-surface-color); padding: 8px 12px;\n",
              "         border-bottom: 1px solid var(--colab-border-color);\"><b>pandas.core.series.Series</b><br/>def __init__(data=None, index=None, dtype: Dtype | None=None, name=None, copy: bool | None=None, fastpath: bool | lib.NoDefault=lib.no_default) -&gt; None</pre><pre class=\"function-repr-contents function-repr-contents-collapsed\" style=\"\"><a class=\"filepath\" style=\"display:none\" href=\"#\">/usr/local/lib/python3.10/dist-packages/pandas/core/series.py</a>One-dimensional ndarray with axis labels (including time series).\n",
              "\n",
              "Labels need not be unique but must be a hashable type. The object\n",
              "supports both integer- and label-based indexing and provides a host of\n",
              "methods for performing operations involving the index. Statistical\n",
              "methods from ndarray have been overridden to automatically exclude\n",
              "missing data (currently represented as NaN).\n",
              "\n",
              "Operations between Series (+, -, /, \\*, \\*\\*) align values based on their\n",
              "associated index values-- they need not be the same length. The result\n",
              "index will be the sorted union of the two indexes.\n",
              "\n",
              "Parameters\n",
              "----------\n",
              "data : array-like, Iterable, dict, or scalar value\n",
              "    Contains data stored in Series. If data is a dict, argument order is\n",
              "    maintained.\n",
              "index : array-like or Index (1d)\n",
              "    Values must be hashable and have the same length as `data`.\n",
              "    Non-unique index values are allowed. Will default to\n",
              "    RangeIndex (0, 1, 2, ..., n) if not provided. If data is dict-like\n",
              "    and index is None, then the keys in the data are used as the index. If the\n",
              "    index is not None, the resulting Series is reindexed with the index values.\n",
              "dtype : str, numpy.dtype, or ExtensionDtype, optional\n",
              "    Data type for the output Series. If not specified, this will be\n",
              "    inferred from `data`.\n",
              "    See the :ref:`user guide &lt;basics.dtypes&gt;` for more usages.\n",
              "name : Hashable, default None\n",
              "    The name to give to the Series.\n",
              "copy : bool, default False\n",
              "    Copy input data. Only affects Series or 1d ndarray input. See examples.\n",
              "\n",
              "Notes\n",
              "-----\n",
              "Please reference the :ref:`User Guide &lt;basics.series&gt;` for more information.\n",
              "\n",
              "Examples\n",
              "--------\n",
              "Constructing Series from a dictionary with an Index specified\n",
              "\n",
              "&gt;&gt;&gt; d = {&#x27;a&#x27;: 1, &#x27;b&#x27;: 2, &#x27;c&#x27;: 3}\n",
              "&gt;&gt;&gt; ser = pd.Series(data=d, index=[&#x27;a&#x27;, &#x27;b&#x27;, &#x27;c&#x27;])\n",
              "&gt;&gt;&gt; ser\n",
              "a   1\n",
              "b   2\n",
              "c   3\n",
              "dtype: int64\n",
              "\n",
              "The keys of the dictionary match with the Index values, hence the Index\n",
              "values have no effect.\n",
              "\n",
              "&gt;&gt;&gt; d = {&#x27;a&#x27;: 1, &#x27;b&#x27;: 2, &#x27;c&#x27;: 3}\n",
              "&gt;&gt;&gt; ser = pd.Series(data=d, index=[&#x27;x&#x27;, &#x27;y&#x27;, &#x27;z&#x27;])\n",
              "&gt;&gt;&gt; ser\n",
              "x   NaN\n",
              "y   NaN\n",
              "z   NaN\n",
              "dtype: float64\n",
              "\n",
              "Note that the Index is first build with the keys from the dictionary.\n",
              "After this the Series is reindexed with the given Index values, hence we\n",
              "get all NaN as a result.\n",
              "\n",
              "Constructing Series from a list with `copy=False`.\n",
              "\n",
              "&gt;&gt;&gt; r = [1, 2]\n",
              "&gt;&gt;&gt; ser = pd.Series(r, copy=False)\n",
              "&gt;&gt;&gt; ser.iloc[0] = 999\n",
              "&gt;&gt;&gt; r\n",
              "[1, 2]\n",
              "&gt;&gt;&gt; ser\n",
              "0    999\n",
              "1      2\n",
              "dtype: int64\n",
              "\n",
              "Due to input data type the Series has a `copy` of\n",
              "the original data even though `copy=False`, so\n",
              "the data is unchanged.\n",
              "\n",
              "Constructing Series from a 1d ndarray with `copy=False`.\n",
              "\n",
              "&gt;&gt;&gt; r = np.array([1, 2])\n",
              "&gt;&gt;&gt; ser = pd.Series(r, copy=False)\n",
              "&gt;&gt;&gt; ser.iloc[0] = 999\n",
              "&gt;&gt;&gt; r\n",
              "array([999,   2])\n",
              "&gt;&gt;&gt; ser\n",
              "0    999\n",
              "1      2\n",
              "dtype: int64\n",
              "\n",
              "Due to input data type the Series has a `view` on\n",
              "the original data, so\n",
              "the data is changed as well.</pre>\n",
              "      <script>\n",
              "      if (google.colab.kernel.accessAllowed && google.colab.files && google.colab.files.view) {\n",
              "        for (const element of document.querySelectorAll('.filepath')) {\n",
              "          element.style.display = 'block'\n",
              "          element.onclick = (event) => {\n",
              "            event.preventDefault();\n",
              "            event.stopPropagation();\n",
              "            google.colab.files.view(element.textContent, 263);\n",
              "          };\n",
              "        }\n",
              "      }\n",
              "      for (const element of document.querySelectorAll('.function-repr-contents')) {\n",
              "        element.onclick = (event) => {\n",
              "          event.preventDefault();\n",
              "          event.stopPropagation();\n",
              "          element.classList.toggle('function-repr-contents-collapsed');\n",
              "        };\n",
              "      }\n",
              "      </script>\n",
              "      </div>"
            ]
          },
          "metadata": {},
          "execution_count": 25
        }
      ],
      "source": [
        "type(df['comment_text'])"
      ],
      "id": "JmAfp_bO8CUF"
    },
    {
      "cell_type": "markdown",
      "source": [
        "***For wordcloud , we need to frame our 'comment_text' feature into string.\n",
        "<br>joins all the text data from the 'comment_text' column in the DataFrame 'comments_positive' into a single string, separated by spaces.***"
      ],
      "metadata": {
        "id": "s3VtbO_AsDja"
      },
      "id": "s3VtbO_AsDja"
    },
    {
      "cell_type": "code",
      "execution_count": 26,
      "metadata": {
        "id": "ptEwvuDO8CUH"
      },
      "outputs": [],
      "source": [
        "total_comments_positive = ' '.join(comments_positive['comment_text'])"
      ],
      "id": "ptEwvuDO8CUH"
    },
    {
      "cell_type": "markdown",
      "source": [
        "***This line of code creates a word cloud from the text data in `total_comments_positive`, using a predefined set of stopwords to filter out common words that don't carry significant meaning.***"
      ],
      "metadata": {
        "id": "VxlixkQPt3lM"
      },
      "id": "VxlixkQPt3lM"
    },
    {
      "cell_type": "code",
      "execution_count": 28,
      "metadata": {
        "id": "x1WruEzD8CUI"
      },
      "outputs": [],
      "source": [
        "wordcloud = WordCloud(stopwords=set(STOPWORDS)).generate(total_comments_positive)"
      ],
      "id": "x1WruEzD8CUI"
    },
    {
      "cell_type": "markdown",
      "source": [
        "\n",
        "***The imshow() function in matplotlib is used to display images, and in this case, it's used to display the word cloud generated by the WordCloud library.***"
      ],
      "metadata": {
        "id": "gHsyYsa0u-gr"
      },
      "id": "gHsyYsa0u-gr"
    },
    {
      "cell_type": "code",
      "execution_count": 29,
      "metadata": {
        "colab": {
          "base_uri": "https://localhost:8080/",
          "height": 303
        },
        "outputId": "f97dc919-31b0-497f-8f19-06cb51800d60",
        "id": "tMYbRIJa8CUK"
      },
      "outputs": [
        {
          "output_type": "execute_result",
          "data": {
            "text/plain": [
              "(-0.5, 399.5, 199.5, -0.5)"
            ]
          },
          "metadata": {},
          "execution_count": 29
        },
        {
          "output_type": "display_data",
          "data": {
            "text/plain": [
              "<Figure size 640x480 with 1 Axes>"
            ],
            "image/png": "[encoded data removed]"
          },
          "metadata": {}
        }
      ],
      "source": [
        "plt.imshow(wordcloud)\n",
        "plt.axis('off')"
      ],
      "id": "tMYbRIJa8CUK"
    },
    {
      "cell_type": "markdown",
      "metadata": {
        "id": "ciJ3bFy68CUL"
      },
      "source": [
        "***Conclusion: Positive Users are emphasizing more on best , awesome , perfect , amazing , look , happy  etc..***"
      ],
      "id": "ciJ3bFy68CUL"
    },
    {
      "cell_type": "raw",
      "metadata": {
        "id": "7LXtkPbE8CUL"
      },
      "source": [
        "same for negative"
      ],
      "id": "7LXtkPbE8CUL"
    },
    {
      "cell_type": "code",
      "execution_count": 30,
      "metadata": {
        "id": "xAoDTMpc8CUM"
      },
      "outputs": [],
      "source": [
        "total_comments_negative = ' '.join(comments_negative['comment_text'])"
      ],
      "id": "xAoDTMpc8CUM"
    },
    {
      "cell_type": "code",
      "execution_count": 31,
      "metadata": {
        "id": "6MPxmFoi8CUN"
      },
      "outputs": [],
      "source": [
        "wordcloud = WordCloud(stopwords=set(STOPWORDS)).generate(total_comments_negative)"
      ],
      "id": "6MPxmFoi8CUN"
    },
    {
      "cell_type": "code",
      "execution_count": 32,
      "metadata": {
        "colab": {
          "base_uri": "https://localhost:8080/",
          "height": 303
        },
        "outputId": "87bd4a11-cd44-4507-850b-5319cda563aa",
        "id": "0TWoEGTG8CUN"
      },
      "outputs": [
        {
          "output_type": "execute_result",
          "data": {
            "text/plain": [
              "(-0.5, 399.5, 199.5, -0.5)"
            ]
          },
          "metadata": {},
          "execution_count": 32
        },
        {
          "output_type": "display_data",
          "data": {
            "text/plain": [
              "<Figure size 640x480 with 1 Axes>"
            ],
            "image/png": "[encoded data removed]"
          },
          "metadata": {}
        }
      ],
      "source": [
        "plt.imshow(wordcloud)\n",
        "plt.axis('off')"
      ],
      "id": "0TWoEGTG8CUN"
    },
    {
      "cell_type": "markdown",
      "source": [
        "***Word cloud analysis is a visual representation technique that displays the most frequently occurring words in a text dataset***"
      ],
      "metadata": {
        "id": "BtqCpjtyojtZ"
      },
      "id": "BtqCpjtyojtZ"
    },
    {
      "cell_type": "markdown",
      "metadata": {
        "id": "sjLqec5V8CUP"
      },
      "source": [
        "***Perform Emoji's Analysis***"
      ],
      "id": "sjLqec5V8CUP"
    },
    {
      "cell_type": "code",
      "execution_count": 34,
      "metadata": {
        "colab": {
          "base_uri": "https://localhost:8080/"
        },
        "outputId": "f242f4fa-f28f-4417-f38d-d72b6ef76213",
        "id": "D222dpZM8CUP"
      },
      "outputs": [
        {
          "output_type": "stream",
          "name": "stdout",
          "text": [
            "Collecting emoji==2.10.1\n",
            "  Downloading emoji-2.10.1-py2.py3-none-any.whl.metadata (5.3 kB)\n",
            "Downloading emoji-2.10.1-py2.py3-none-any.whl (421 kB)\n",
            "\u001b[?25l   \u001b[90m━━━━━━━━━━━━━━━━━━━━━━━━━━━━━━━━━━━━━━━━\u001b[0m \u001b[32m0.0/421.5 kB\u001b[0m \u001b[31m?\u001b[0m eta \u001b[36m-:--:--\u001b[0m\r\u001b[2K   \u001b[90m━━━━━━━━━━━━━━━━━━━━━━━━━━━━━━━━━━━━━━━━\u001b[0m \u001b[32m421.5/421.5 kB\u001b[0m \u001b[31m24.1 MB/s\u001b[0m eta \u001b[36m0:00:00\u001b[0m\n",
            "\u001b[?25hInstalling collected packages: emoji\n",
            "Successfully installed emoji-2.10.1\n"
          ]
        }
      ],
      "source": [
        "#!pip install emoji==2.10.1\n",
        "import sys\n",
        "!{sys.executable} -m pip install emoji==2.10.1\n",
        "## 2.10.0 is a most stable version till date , hence installing this version makes sense !"
      ],
      "id": "D222dpZM8CUP"
    },
    {
      "cell_type": "code",
      "execution_count": 33,
      "metadata": {
        "id": "6eaopSQo8CUQ"
      },
      "outputs": [],
      "source": [
        "import emoji"
      ],
      "id": "6eaopSQo8CUQ"
    },
    {
      "cell_type": "code",
      "execution_count": 34,
      "metadata": {
        "colab": {
          "base_uri": "https://localhost:8080/",
          "height": 36
        },
        "outputId": "535aee6c-2317-4e32-9d90-1ca27bcaf6c5",
        "id": "0B8clJwS8CUR"
      },
      "outputs": [
        {
          "output_type": "execute_result",
          "data": {
            "text/plain": [
              "'2.10.1'"
            ],
            "application/vnd.google.colaboratory.intrinsic+json": {
              "type": "string"
            }
          },
          "metadata": {},
          "execution_count": 34
        }
      ],
      "source": [
        "emoji.__version__"
      ],
      "id": "0B8clJwS8CUR"
    },
    {
      "cell_type": "code",
      "execution_count": 35,
      "metadata": {
        "colab": {
          "base_uri": "https://localhost:8080/",
          "height": 272
        },
        "outputId": "7687b81c-7075-4cbd-89e5-062e746e56cd",
        "id": "edyejhzg8CUS"
      },
      "outputs": [
        {
          "output_type": "execute_result",
          "data": {
            "text/plain": [
              "0                  \"Logan Paul it's yo big day ‼️‼️‼️\"\n",
              "1    \"I've been following you from the start of you...\n",
              "2                 \"Say hi to Kong and maverick for me\"\n",
              "3                                \"MY FAN . attendance\"\n",
              "4                                         \"trending 😉\"\n",
              "5                            \"#1 on trending AYYEEEEE\"\n",
              "Name: comment_text, dtype: object"
            ],
            "text/html": [
              "<div>\n",
              "<style scoped>\n",
              "    .dataframe tbody tr th:only-of-type {\n",
              "        vertical-align: middle;\n",
              "    }\n",
              "\n",
              "    .dataframe tbody tr th {\n",
              "        vertical-align: top;\n",
              "    }\n",
              "\n",
              "    .dataframe thead th {\n",
              "        text-align: right;\n",
              "    }\n",
              "</style>\n",
              "<table border=\"1\" class=\"dataframe\">\n",
              "  <thead>\n",
              "    <tr style=\"text-align: right;\">\n",
              "      <th></th>\n",
              "      <th>comment_text</th>\n",
              "    </tr>\n",
              "  </thead>\n",
              "  <tbody>\n",
              "    <tr>\n",
              "      <th>0</th>\n",
              "      <td>\"Logan Paul it's yo big day ‼️‼️‼️\"</td>\n",
              "    </tr>\n",
              "    <tr>\n",
              "      <th>1</th>\n",
              "      <td>\"I've been following you from the start of you...</td>\n",
              "    </tr>\n",
              "    <tr>\n",
              "      <th>2</th>\n",
              "      <td>\"Say hi to Kong and maverick for me\"</td>\n",
              "    </tr>\n",
              "    <tr>\n",
              "      <th>3</th>\n",
              "      <td>\"MY FAN . attendance\"</td>\n",
              "    </tr>\n",
              "    <tr>\n",
              "      <th>4</th>\n",
              "      <td>\"trending 😉\"</td>\n",
              "    </tr>\n",
              "    <tr>\n",
              "      <th>5</th>\n",
              "      <td>\"#1 on trending AYYEEEEE\"</td>\n",
              "    </tr>\n",
              "  </tbody>\n",
              "</table>\n",
              "</div><br><label><b>dtype:</b> object</label>"
            ]
          },
          "metadata": {},
          "execution_count": 35
        }
      ],
      "source": [
        "df['comment_text'].head(6)"
      ],
      "id": "edyejhzg8CUS"
    },
    {
      "cell_type": "code",
      "execution_count": 36,
      "metadata": {
        "id": "Wcj2F6GE8CUT"
      },
      "outputs": [],
      "source": [
        "comment = 'trending 😉'"
      ],
      "id": "Wcj2F6GE8CUT"
    },
    {
      "cell_type": "markdown",
      "source": [
        "***The code snippet you provided is a list comprehension that filters out characters from a string (comment) if they are present in the emoji.\n",
        "<br>EMOJI_DATA dictionary. It's a way to extract emojis from a text string.***"
      ],
      "metadata": {
        "id": "yojijwMSvRWP"
      },
      "id": "yojijwMSvRWP"
    },
    {
      "cell_type": "code",
      "execution_count": 37,
      "metadata": {
        "colab": {
          "base_uri": "https://localhost:8080/"
        },
        "outputId": "c2044acd-87c7-4d7e-dbe8-01a764d22428",
        "id": "VI7xLmYc8CUU"
      },
      "outputs": [
        {
          "output_type": "execute_result",
          "data": {
            "text/plain": [
              "['😉']"
            ]
          },
          "metadata": {},
          "execution_count": 37
        }
      ],
      "source": [
        "[char for char in comment if char in emoji.EMOJI_DATA]"
      ],
      "id": "VI7xLmYc8CUU"
    },
    {
      "cell_type": "code",
      "execution_count": 38,
      "metadata": {
        "colab": {
          "base_uri": "https://localhost:8080/"
        },
        "outputId": "e2fa9c5b-db38-4e01-dd98-6406d28bfc92",
        "id": "kIRFUH538CUV"
      },
      "outputs": [
        {
          "output_type": "execute_result",
          "data": {
            "text/plain": [
              "['😉']"
            ]
          },
          "metadata": {},
          "execution_count": 38
        }
      ],
      "source": [
        "## lets try to write above code in a more simpler & readable way :\n",
        "emoji_list = []\n",
        "\n",
        "for char in comment:\n",
        "    if char in emoji.EMOJI_DATA:\n",
        "        emoji_list.append(char)\n",
        "\n",
        "emoji_list"
      ],
      "id": "kIRFUH538CUV"
    },
    {
      "cell_type": "code",
      "execution_count": 39,
      "metadata": {
        "id": "PFoXQHYT8CUV"
      },
      "outputs": [],
      "source": [
        "all_emojis_list = []\n",
        "\n",
        "for comment in df['comment_text'].dropna(): ## in case u have missing values , call dropna()\n",
        "    for char in comment:\n",
        "        if char in emoji.EMOJI_DATA:\n",
        "            all_emojis_list.append(char)"
      ],
      "id": "PFoXQHYT8CUV"
    },
    {
      "cell_type": "code",
      "execution_count": 40,
      "metadata": {
        "colab": {
          "base_uri": "https://localhost:8080/"
        },
        "outputId": "b978d96b-85bd-4179-9092-0ceb41d96437",
        "id": "UL7WkTOK8CUW"
      },
      "outputs": [
        {
          "output_type": "execute_result",
          "data": {
            "text/plain": [
              "['‼', '‼', '‼', '😉', '😭', '👍', '🏻', '❤', '😍', '💋']"
            ]
          },
          "metadata": {},
          "execution_count": 40
        }
      ],
      "source": [
        "all_emojis_list[0:10]# 1st 10 emojis"
      ],
      "id": "UL7WkTOK8CUW"
    },
    {
      "cell_type": "markdown",
      "source": [
        "***Now we have to compute frequencies of each & every emoji in \"all_emojis_list\"..***"
      ],
      "metadata": {
        "id": "jQF3vd1zo61B"
      },
      "id": "jQF3vd1zo61B"
    },
    {
      "cell_type": "code",
      "execution_count": 41,
      "metadata": {
        "id": "V16zYN7z8CUX"
      },
      "outputs": [],
      "source": [
        "from collections import Counter # collection package"
      ],
      "id": "V16zYN7z8CUX"
    },
    {
      "cell_type": "code",
      "execution_count": 42,
      "metadata": {
        "colab": {
          "base_uri": "https://localhost:8080/"
        },
        "outputId": "e86fa02d-3086-4215-f144-2b85a3c0c5de",
        "id": "CTFO5UvJ8CUY"
      },
      "outputs": [
        {
          "output_type": "execute_result",
          "data": {
            "text/plain": [
              "[('😂', 33283),\n",
              " ('❤', 27897),\n",
              " ('😍', 26333),\n",
              " ('🔥', 8164),\n",
              " ('😭', 7615),\n",
              " ('👏', 5251),\n",
              " ('👍', 4921),\n",
              " ('💖', 4855),\n",
              " ('😘', 4852),\n",
              " ('💕', 4461)]"
            ]
          },
          "metadata": {},
          "execution_count": 42
        }
      ],
      "source": [
        "Counter(all_emojis_list).most_common(10)"
      ],
      "id": "CTFO5UvJ8CUY"
    },
    {
      "cell_type": "code",
      "execution_count": 43,
      "metadata": {
        "colab": {
          "base_uri": "https://localhost:8080/"
        },
        "outputId": "0a247a3d-483b-4b07-a2bb-82acaff63423",
        "id": "hSHuL3zl8CUZ"
      },
      "outputs": [
        {
          "output_type": "execute_result",
          "data": {
            "text/plain": [
              "('😂', 33283)"
            ]
          },
          "metadata": {},
          "execution_count": 43
        }
      ],
      "source": [
        "Counter(all_emojis_list).most_common(10)[0]"
      ],
      "id": "hSHuL3zl8CUZ"
    },
    {
      "cell_type": "code",
      "execution_count": 44,
      "metadata": {
        "colab": {
          "base_uri": "https://localhost:8080/",
          "height": 36
        },
        "outputId": "7d8a9d95-0b69-45da-e1fb-1db5bf86ea88",
        "id": "TzVB4nky8CUa"
      },
      "outputs": [
        {
          "output_type": "execute_result",
          "data": {
            "text/plain": [
              "'😂'"
            ],
            "application/vnd.google.colaboratory.intrinsic+json": {
              "type": "string"
            }
          },
          "metadata": {},
          "execution_count": 44
        }
      ],
      "source": [
        "Counter(all_emojis_list).most_common(10)[0][0]"
      ],
      "id": "TzVB4nky8CUa"
    },
    {
      "cell_type": "code",
      "execution_count": 45,
      "metadata": {
        "colab": {
          "base_uri": "https://localhost:8080/"
        },
        "outputId": "755c48a9-2414-41cf-bf9f-4c88bff0a6a0",
        "id": "NqzJzACE8CUb"
      },
      "outputs": [
        {
          "output_type": "execute_result",
          "data": {
            "text/plain": [
              "33283"
            ]
          },
          "metadata": {},
          "execution_count": 45
        }
      ],
      "source": [
        "Counter(all_emojis_list).most_common(10)[0][1]"
      ],
      "id": "NqzJzACE8CUb"
    },
    {
      "cell_type": "code",
      "execution_count": 46,
      "metadata": {
        "colab": {
          "base_uri": "https://localhost:8080/",
          "height": 36
        },
        "outputId": "29ecfca9-ea61-4203-83b6-c12ab976deaf",
        "id": "_0E7VfpR8CUb"
      },
      "outputs": [
        {
          "output_type": "execute_result",
          "data": {
            "text/plain": [
              "'❤'"
            ],
            "application/vnd.google.colaboratory.intrinsic+json": {
              "type": "string"
            }
          },
          "metadata": {},
          "execution_count": 46
        }
      ],
      "source": [
        "Counter(all_emojis_list).most_common(10)[1][0]"
      ],
      "id": "_0E7VfpR8CUb"
    },
    {
      "cell_type": "code",
      "execution_count": 47,
      "metadata": {
        "colab": {
          "base_uri": "https://localhost:8080/",
          "height": 36
        },
        "outputId": "590c9419-4a9b-46b6-8f52-c945aace29c3",
        "id": "O3qScCHl8CUc"
      },
      "outputs": [
        {
          "output_type": "execute_result",
          "data": {
            "text/plain": [
              "'😍'"
            ],
            "application/vnd.google.colaboratory.intrinsic+json": {
              "type": "string"
            }
          },
          "metadata": {},
          "execution_count": 47
        }
      ],
      "source": [
        "Counter(all_emojis_list).most_common(10)[2][0]"
      ],
      "id": "O3qScCHl8CUc"
    },
    {
      "cell_type": "code",
      "execution_count": 48,
      "metadata": {
        "colab": {
          "base_uri": "https://localhost:8080/"
        },
        "outputId": "0c44c12f-2e21-40af-d4c9-d0f784cba137",
        "id": "mAXjMdAx8CUc"
      },
      "outputs": [
        {
          "output_type": "execute_result",
          "data": {
            "text/plain": [
              "33283"
            ]
          },
          "metadata": {},
          "execution_count": 48
        }
      ],
      "source": [
        "Counter(all_emojis_list).most_common(10)[0][1]"
      ],
      "id": "mAXjMdAx8CUc"
    },
    {
      "cell_type": "code",
      "execution_count": 49,
      "metadata": {
        "colab": {
          "base_uri": "https://localhost:8080/"
        },
        "outputId": "5bc24287-95e8-438e-9e89-c98eb6f5132c",
        "id": "-h5NHUpc8CUd"
      },
      "outputs": [
        {
          "output_type": "execute_result",
          "data": {
            "text/plain": [
              "27897"
            ]
          },
          "metadata": {},
          "execution_count": 49
        }
      ],
      "source": [
        "Counter(all_emojis_list).most_common(10)[1][1]"
      ],
      "id": "-h5NHUpc8CUd"
    },
    {
      "cell_type": "code",
      "execution_count": 50,
      "metadata": {
        "colab": {
          "base_uri": "https://localhost:8080/"
        },
        "outputId": "29238f23-a628-4cc9-9aba-ba1a51ca1787",
        "id": "Tu_mgq0Q8CUe"
      },
      "outputs": [
        {
          "output_type": "execute_result",
          "data": {
            "text/plain": [
              "26333"
            ]
          },
          "metadata": {},
          "execution_count": 50
        }
      ],
      "source": [
        "Counter(all_emojis_list).most_common(10)[2][1]"
      ],
      "id": "Tu_mgq0Q8CUe"
    },
    {
      "cell_type": "code",
      "execution_count": 51,
      "metadata": {
        "colab": {
          "base_uri": "https://localhost:8080/"
        },
        "outputId": "45aec5c8-def5-4ae5-ba3c-17a94df88f49",
        "id": "eahCWFSs8CUf"
      },
      "outputs": [
        {
          "output_type": "execute_result",
          "data": {
            "text/plain": [
              "[33283, 27897, 26333, 8164, 7615, 5251, 4921, 4855, 4852, 4461]"
            ]
          },
          "metadata": {},
          "execution_count": 51
        }
      ],
      "source": [
        "freqs = [Counter(all_emojis_list).most_common(10)[i][1] for i in range(10)]\n",
        "freqs"
      ],
      "id": "eahCWFSs8CUf"
    },
    {
      "cell_type": "code",
      "execution_count": 52,
      "metadata": {
        "colab": {
          "base_uri": "https://localhost:8080/"
        },
        "outputId": "fcc34a62-6423-4c9a-884f-0174761cf02d",
        "id": "jA5wy95_8CUg"
      },
      "outputs": [
        {
          "output_type": "execute_result",
          "data": {
            "text/plain": [
              "['😂', '❤', '😍', '🔥', '😭', '👏', '👍', '💖', '😘', '💕']"
            ]
          },
          "metadata": {},
          "execution_count": 52
        }
      ],
      "source": [
        "emojis = [Counter(all_emojis_list).most_common(10)[i][0] for i in range(10)]\n",
        "emojis"
      ],
      "id": "jA5wy95_8CUg"
    },
    {
      "cell_type": "code",
      "execution_count": 60,
      "metadata": {
        "colab": {
          "base_uri": "https://localhost:8080/",
          "height": 334
        },
        "outputId": "0ad20889-6ba8-41a5-a47f-965266c96016",
        "id": "9cmeK_-g8CUg"
      },
      "outputs": [
        {
          "output_type": "stream",
          "name": "stdout",
          "text": [
            "Collecting plotly==5.24.1\n",
            "  Downloading plotly-5.24.1-py3-none-any.whl.metadata (7.3 kB)\n",
            "Requirement already satisfied: tenacity>=6.2.0 in /usr/local/lib/python3.10/dist-packages (from plotly==5.24.1) (9.0.0)\n",
            "Requirement already satisfied: packaging in /usr/local/lib/python3.10/dist-packages (from plotly==5.24.1) (24.2)\n",
            "Downloading plotly-5.24.1-py3-none-any.whl (19.1 MB)\n",
            "\u001b[2K   \u001b[90m━━━━━━━━━━━━━━━━━━━━━━━━━━━━━━━━━━━━━━━━\u001b[0m \u001b[32m19.1/19.1 MB\u001b[0m \u001b[31m83.7 MB/s\u001b[0m eta \u001b[36m0:00:00\u001b[0m\n",
            "\u001b[?25hInstalling collected packages: plotly\n",
            "  Attempting uninstall: plotly\n",
            "    Found existing installation: plotly 5.14.1\n",
            "    Uninstalling plotly-5.14.1:\n",
            "      Successfully uninstalled plotly-5.14.1\n",
            "Successfully installed plotly-5.24.1\n"
          ]
        },
        {
          "output_type": "display_data",
          "data": {
            "application/vnd.colab-display-data+json": {
              "pip_warning": {
                "packages": [
                  "_plotly_utils",
                  "plotly"
                ]
              },
              "id": "bf1040b8d46f46efb17db819d9b16271"
            }
          },
          "metadata": {}
        }
      ],
      "source": [
        "#pip install plotly\n",
        "!pip install plotly==5.24.1"
      ],
      "id": "9cmeK_-g8CUg"
    },
    {
      "cell_type": "code",
      "execution_count": 53,
      "metadata": {
        "id": "55NqAtDI8CUg"
      },
      "outputs": [],
      "source": [
        "import plotly.io as pio\n",
        "pio.renderers.default = 'iframe_connected'"
      ],
      "id": "55NqAtDI8CUg"
    },
    {
      "cell_type": "markdown",
      "source": [
        " ***use this if your chart is not displaying\n",
        "<br>Plotly is configured to display plots correctly.***"
      ],
      "metadata": {
        "id": "yHTwvT4HvuER"
      },
      "id": "yHTwvT4HvuER"
    },
    {
      "cell_type": "code",
      "source": [
        "from plotly.offline import init_notebook_mode, iplot\n",
        "import plotly.graph_objs as go\n",
        "\n",
        "# Initialize notebook mode for offline plotting\n",
        "init_notebook_mode(connected=True)\n",
        "\n",
        "# Example data\n",
        "emojis = ['😀', '😂', '😍', '😭', '😊']\n",
        "freqs = [10, 20, 15, 25, 30]\n",
        "\n",
        "# Create bar chart\n",
        "trace = go.Bar(x=emojis, y=freqs)\n",
        "iplot([trace])"
      ],
      "metadata": {
        "colab": {
          "base_uri": "https://localhost:8080/",
          "height": 542
        },
        "id": "wKDsXpVe__Sv",
        "outputId": "d490abfe-7f98-4e15-c426-38bd6447c65f"
      },
      "id": "wKDsXpVe__Sv",
      "execution_count": 57,
      "outputs": [
        {
          "output_type": "display_data",
          "data": {
            "text/html": [
              "        <script type=\"text/javascript\">\n",
              "        window.PlotlyConfig = {MathJaxConfig: 'local'};\n",
              "        if (window.MathJax && window.MathJax.Hub && window.MathJax.Hub.Config) {window.MathJax.Hub.Config({SVG: {font: \"STIX-Web\"}});}\n",
              "        if (typeof require !== 'undefined') {\n",
              "        require.undef(\"plotly\");\n",
              "        requirejs.config({\n",
              "            paths: {\n",
              "                'plotly': ['https://cdn.plot.ly/plotly-2.35.2.min']\n",
              "            }\n",
              "        });\n",
              "        require(['plotly'], function(Plotly) {\n",
              "            window._Plotly = Plotly;\n",
              "        });\n",
              "        }\n",
              "        </script>\n",
              "        "
            ]
          },
          "metadata": {}
        },
        {
          "output_type": "display_data",
          "data": {
            "application/vnd.plotly.v1+json": {
              "data": [
                {
                  "x": [
                    "😀",
                    "😂",
                    "😍",
                    "😭",
                    "😊"
                  ],
                  "y": [
                    10,
                    20,
                    15,
                    25,
                    30
                  ],
                  "type": "bar"
                }
              ],
              "layout": {
                "template": {
                  "data": {
                    "barpolar": [
                      {
                        "marker": {
                          "line": {
                            "color": "#E5ECF6",
                            "width": 0.5
                          },
                          "pattern": {
                            "fillmode": "overlay",
                            "size": 10,
                            "solidity": 0.2
                          }
                        },
                        "type": "barpolar"
                      }
                    ],
                    "bar": [
                      {
                        "error_x": {
                          "color": "#2a3f5f"
                        },
                        "error_y": {
                          "color": "#2a3f5f"
                        },
                        "marker": {
                          "line": {
                            "color": "#E5ECF6",
                            "width": 0.5
                          },
                          "pattern": {
                            "fillmode": "overlay",
                            "size": 10,
                            "solidity": 0.2
                          }
                        },
                        "type": "bar"
                      }
                    ],
                    "carpet": [
                      {
                        "aaxis": {
                          "endlinecolor": "#2a3f5f",
                          "gridcolor": "white",
                          "linecolor": "white",
                          "minorgridcolor": "white",
                          "startlinecolor": "#2a3f5f"
                        },
                        "baxis": {
                          "endlinecolor": "#2a3f5f",
                          "gridcolor": "white",
                          "linecolor": "white",
                          "minorgridcolor": "white",
                          "startlinecolor": "#2a3f5f"
                        },
                        "type": "carpet"
                      }
                    ],
                    "choropleth": [
                      {
                        "colorbar": {
                          "outlinewidth": 0,
                          "ticks": ""
                        },
                        "type": "choropleth"
                      }
                    ],
                    "contourcarpet": [
                      {
                        "colorbar": {
                          "outlinewidth": 0,
                          "ticks": ""
                        },
                        "type": "contourcarpet"
                      }
                    ],
                    "contour": [
                      {
                        "colorbar": {
                          "outlinewidth": 0,
                          "ticks": ""
                        },
                        "colorscale": [
                          [
                            0,
                            "#0d0887"
                          ],
                          [
                            0.1111111111111111,
                            "#46039f"
                          ],
                          [
                            0.2222222222222222,
                            "#7201a8"
                          ],
                          [
                            0.3333333333333333,
                            "#9c179e"
                          ],
                          [
                            0.4444444444444444,
                            "#bd3786"
                          ],
                          [
                            0.5555555555555556,
                            "#d8576b"
                          ],
                          [
                            0.6666666666666666,
                            "#ed7953"
                          ],
                          [
                            0.7777777777777778,
                            "#fb9f3a"
                          ],
                          [
                            0.8888888888888888,
                            "#fdca26"
                          ],
                          [
                            1,
                            "#f0f921"
                          ]
                        ],
                        "type": "contour"
                      }
                    ],
                    "heatmapgl": [
                      {
                        "colorbar": {
                          "outlinewidth": 0,
                          "ticks": ""
                        },
                        "colorscale": [
                          [
                            0,
                            "#0d0887"
                          ],
                          [
                            0.1111111111111111,
                            "#46039f"
                          ],
                          [
                            0.2222222222222222,
                            "#7201a8"
                          ],
                          [
                            0.3333333333333333,
                            "#9c179e"
                          ],
                          [
                            0.4444444444444444,
                            "#bd3786"
                          ],
                          [
                            0.5555555555555556,
                            "#d8576b"
                          ],
                          [
                            0.6666666666666666,
                            "#ed7953"
                          ],
                          [
                            0.7777777777777778,
                            "#fb9f3a"
                          ],
                          [
                            0.8888888888888888,
                            "#fdca26"
                          ],
                          [
                            1,
                            "#f0f921"
                          ]
                        ],
                        "type": "heatmapgl"
                      }
                    ],
                    "heatmap": [
                      {
                        "colorbar": {
                          "outlinewidth": 0,
                          "ticks": ""
                        },
                        "colorscale": [
                          [
                            0,
                            "#0d0887"
                          ],
                          [
                            0.1111111111111111,
                            "#46039f"
                          ],
                          [
                            0.2222222222222222,
                            "#7201a8"
                          ],
                          [
                            0.3333333333333333,
                            "#9c179e"
                          ],
                          [
                            0.4444444444444444,
                            "#bd3786"
                          ],
                          [
                            0.5555555555555556,
                            "#d8576b"
                          ],
                          [
                            0.6666666666666666,
                            "#ed7953"
                          ],
                          [
                            0.7777777777777778,
                            "#fb9f3a"
                          ],
                          [
                            0.8888888888888888,
                            "#fdca26"
                          ],
                          [
                            1,
                            "#f0f921"
                          ]
                        ],
                        "type": "heatmap"
                      }
                    ],
                    "histogram2dcontour": [
                      {
                        "colorbar": {
                          "outlinewidth": 0,
                          "ticks": ""
                        },
                        "colorscale": [
                          [
                            0,
                            "#0d0887"
                          ],
                          [
                            0.1111111111111111,
                            "#46039f"
                          ],
                          [
                            0.2222222222222222,
                            "#7201a8"
                          ],
                          [
                            0.3333333333333333,
                            "#9c179e"
                          ],
                          [
                            0.4444444444444444,
                            "#bd3786"
                          ],
                          [
                            0.5555555555555556,
                            "#d8576b"
                          ],
                          [
                            0.6666666666666666,
                            "#ed7953"
                          ],
                          [
                            0.7777777777777778,
                            "#fb9f3a"
                          ],
                          [
                            0.8888888888888888,
                            "#fdca26"
                          ],
                          [
                            1,
                            "#f0f921"
                          ]
                        ],
                        "type": "histogram2dcontour"
                      }
                    ],
                    "histogram2d": [
                      {
                        "colorbar": {
                          "outlinewidth": 0,
                          "ticks": ""
                        },
                        "colorscale": [
                          [
                            0,
                            "#0d0887"
                          ],
                          [
                            0.1111111111111111,
                            "#46039f"
                          ],
                          [
                            0.2222222222222222,
                            "#7201a8"
                          ],
                          [
                            0.3333333333333333,
                            "#9c179e"
                          ],
                          [
                            0.4444444444444444,
                            "#bd3786"
                          ],
                          [
                            0.5555555555555556,
                            "#d8576b"
                          ],
                          [
                            0.6666666666666666,
                            "#ed7953"
                          ],
                          [
                            0.7777777777777778,
                            "#fb9f3a"
                          ],
                          [
                            0.8888888888888888,
                            "#fdca26"
                          ],
                          [
                            1,
                            "#f0f921"
                          ]
                        ],
                        "type": "histogram2d"
                      }
                    ],
                    "histogram": [
                      {
                        "marker": {
                          "pattern": {
                            "fillmode": "overlay",
                            "size": 10,
                            "solidity": 0.2
                          }
                        },
                        "type": "histogram"
                      }
                    ],
                    "mesh3d": [
                      {
                        "colorbar": {
                          "outlinewidth": 0,
                          "ticks": ""
                        },
                        "type": "mesh3d"
                      }
                    ],
                    "parcoords": [
                      {
                        "line": {
                          "colorbar": {
                            "outlinewidth": 0,
                            "ticks": ""
                          }
                        },
                        "type": "parcoords"
                      }
                    ],
                    "pie": [
                      {
                        "automargin": true,
                        "type": "pie"
                      }
                    ],
                    "scatter3d": [
                      {
                        "line": {
                          "colorbar": {
                            "outlinewidth": 0,
                            "ticks": ""
                          }
                        },
                        "marker": {
                          "colorbar": {
                            "outlinewidth": 0,
                            "ticks": ""
                          }
                        },
                        "type": "scatter3d"
                      }
                    ],
                    "scattercarpet": [
                      {
                        "marker": {
                          "colorbar": {
                            "outlinewidth": 0,
                            "ticks": ""
                          }
                        },
                        "type": "scattercarpet"
                      }
                    ],
                    "scattergeo": [
                      {
                        "marker": {
                          "colorbar": {
                            "outlinewidth": 0,
                            "ticks": ""
                          }
                        },
                        "type": "scattergeo"
                      }
                    ],
                    "scattergl": [
                      {
                        "marker": {
                          "colorbar": {
                            "outlinewidth": 0,
                            "ticks": ""
                          }
                        },
                        "type": "scattergl"
                      }
                    ],
                    "scattermapbox": [
                      {
                        "marker": {
                          "colorbar": {
                            "outlinewidth": 0,
                            "ticks": ""
                          }
                        },
                        "type": "scattermapbox"
                      }
                    ],
                    "scatterpolargl": [
                      {
                        "marker": {
                          "colorbar": {
                            "outlinewidth": 0,
                            "ticks": ""
                          }
                        },
                        "type": "scatterpolargl"
                      }
                    ],
                    "scatterpolar": [
                      {
                        "marker": {
                          "colorbar": {
                            "outlinewidth": 0,
                            "ticks": ""
                          }
                        },
                        "type": "scatterpolar"
                      }
                    ],
                    "scatter": [
                      {
                        "fillpattern": {
                          "fillmode": "overlay",
                          "size": 10,
                          "solidity": 0.2
                        },
                        "type": "scatter"
                      }
                    ],
                    "scatterternary": [
                      {
                        "marker": {
                          "colorbar": {
                            "outlinewidth": 0,
                            "ticks": ""
                          }
                        },
                        "type": "scatterternary"
                      }
                    ],
                    "surface": [
                      {
                        "colorbar": {
                          "outlinewidth": 0,
                          "ticks": ""
                        },
                        "colorscale": [
                          [
                            0,
                            "#0d0887"
                          ],
                          [
                            0.1111111111111111,
                            "#46039f"
                          ],
                          [
                            0.2222222222222222,
                            "#7201a8"
                          ],
                          [
                            0.3333333333333333,
                            "#9c179e"
                          ],
                          [
                            0.4444444444444444,
                            "#bd3786"
                          ],
                          [
                            0.5555555555555556,
                            "#d8576b"
                          ],
                          [
                            0.6666666666666666,
                            "#ed7953"
                          ],
                          [
                            0.7777777777777778,
                            "#fb9f3a"
                          ],
                          [
                            0.8888888888888888,
                            "#fdca26"
                          ],
                          [
                            1,
                            "#f0f921"
                          ]
                        ],
                        "type": "surface"
                      }
                    ],
                    "table": [
                      {
                        "cells": {
                          "fill": {
                            "color": "#EBF0F8"
                          },
                          "line": {
                            "color": "white"
                          }
                        },
                        "header": {
                          "fill": {
                            "color": "#C8D4E3"
                          },
                          "line": {
                            "color": "white"
                          }
                        },
                        "type": "table"
                      }
                    ]
                  },
                  "layout": {
                    "annotationdefaults": {
                      "arrowcolor": "#2a3f5f",
                      "arrowhead": 0,
                      "arrowwidth": 1
                    },
                    "autotypenumbers": "strict",
                    "coloraxis": {
                      "colorbar": {
                        "outlinewidth": 0,
                        "ticks": ""
                      }
                    },
                    "colorscale": {
                      "diverging": [
                        [
                          0,
                          "#8e0152"
                        ],
                        [
                          0.1,
                          "#c51b7d"
                        ],
                        [
                          0.2,
                          "#de77ae"
                        ],
                        [
                          0.3,
                          "#f1b6da"
                        ],
                        [
                          0.4,
                          "#fde0ef"
                        ],
                        [
                          0.5,
                          "#f7f7f7"
                        ],
                        [
                          0.6,
                          "#e6f5d0"
                        ],
                        [
                          0.7,
                          "#b8e186"
                        ],
                        [
                          0.8,
                          "#7fbc41"
                        ],
                        [
                          0.9,
                          "#4d9221"
                        ],
                        [
                          1,
                          "#276419"
                        ]
                      ],
                      "sequential": [
                        [
                          0,
                          "#0d0887"
                        ],
                        [
                          0.1111111111111111,
                          "#46039f"
                        ],
                        [
                          0.2222222222222222,
                          "#7201a8"
                        ],
                        [
                          0.3333333333333333,
                          "#9c179e"
                        ],
                        [
                          0.4444444444444444,
                          "#bd3786"
                        ],
                        [
                          0.5555555555555556,
                          "#d8576b"
                        ],
                        [
                          0.6666666666666666,
                          "#ed7953"
                        ],
                        [
                          0.7777777777777778,
                          "#fb9f3a"
                        ],
                        [
                          0.8888888888888888,
                          "#fdca26"
                        ],
                        [
                          1,
                          "#f0f921"
                        ]
                      ],
                      "sequentialminus": [
                        [
                          0,
                          "#0d0887"
                        ],
                        [
                          0.1111111111111111,
                          "#46039f"
                        ],
                        [
                          0.2222222222222222,
                          "#7201a8"
                        ],
                        [
                          0.3333333333333333,
                          "#9c179e"
                        ],
                        [
                          0.4444444444444444,
                          "#bd3786"
                        ],
                        [
                          0.5555555555555556,
                          "#d8576b"
                        ],
                        [
                          0.6666666666666666,
                          "#ed7953"
                        ],
                        [
                          0.7777777777777778,
                          "#fb9f3a"
                        ],
                        [
                          0.8888888888888888,
                          "#fdca26"
                        ],
                        [
                          1,
                          "#f0f921"
                        ]
                      ]
                    },
                    "colorway": [
                      "#636efa",
                      "#EF553B",
                      "#00cc96",
                      "#ab63fa",
                      "#FFA15A",
                      "#19d3f3",
                      "#FF6692",
                      "#B6E880",
                      "#FF97FF",
                      "#FECB52"
                    ],
                    "font": {
                      "color": "#2a3f5f"
                    },
                    "geo": {
                      "bgcolor": "white",
                      "lakecolor": "white",
                      "landcolor": "#E5ECF6",
                      "showlakes": true,
                      "showland": true,
                      "subunitcolor": "white"
                    },
                    "hoverlabel": {
                      "align": "left"
                    },
                    "hovermode": "closest",
                    "mapbox": {
                      "style": "light"
                    },
                    "paper_bgcolor": "white",
                    "plot_bgcolor": "#E5ECF6",
                    "polar": {
                      "angularaxis": {
                        "gridcolor": "white",
                        "linecolor": "white",
                        "ticks": ""
                      },
                      "bgcolor": "#E5ECF6",
                      "radialaxis": {
                        "gridcolor": "white",
                        "linecolor": "white",
                        "ticks": ""
                      }
                    },
                    "scene": {
                      "xaxis": {
                        "backgroundcolor": "#E5ECF6",
                        "gridcolor": "white",
                        "gridwidth": 2,
                        "linecolor": "white",
                        "showbackground": true,
                        "ticks": "",
                        "zerolinecolor": "white"
                      },
                      "yaxis": {
                        "backgroundcolor": "#E5ECF6",
                        "gridcolor": "white",
                        "gridwidth": 2,
                        "linecolor": "white",
                        "showbackground": true,
                        "ticks": "",
                        "zerolinecolor": "white"
                      },
                      "zaxis": {
                        "backgroundcolor": "#E5ECF6",
                        "gridcolor": "white",
                        "gridwidth": 2,
                        "linecolor": "white",
                        "showbackground": true,
                        "ticks": "",
                        "zerolinecolor": "white"
                      }
                    },
                    "shapedefaults": {
                      "line": {
                        "color": "#2a3f5f"
                      }
                    },
                    "ternary": {
                      "aaxis": {
                        "gridcolor": "white",
                        "linecolor": "white",
                        "ticks": ""
                      },
                      "baxis": {
                        "gridcolor": "white",
                        "linecolor": "white",
                        "ticks": ""
                      },
                      "bgcolor": "#E5ECF6",
                      "caxis": {
                        "gridcolor": "white",
                        "linecolor": "white",
                        "ticks": ""
                      }
                    },
                    "title": {
                      "x": 0.05
                    },
                    "xaxis": {
                      "automargin": true,
                      "gridcolor": "white",
                      "linecolor": "white",
                      "ticks": "",
                      "title": {
                        "standoff": 15
                      },
                      "zerolinecolor": "white",
                      "zerolinewidth": 2
                    },
                    "yaxis": {
                      "automargin": true,
                      "gridcolor": "white",
                      "linecolor": "white",
                      "ticks": "",
                      "title": {
                        "standoff": 15
                      },
                      "zerolinecolor": "white",
                      "zerolinewidth": 2
                    }
                  }
                }
              },
              "config": {
                "showLink": false,
                "linkText": "Export to plot.ly",
                "plotlyServerURL": "https://plot.ly"
              }
            },
            "text/html": [
              "<div>                            <div id=\"5f1a0cca-d05c-4265-a5d5-d31aa4b84e0e\" class=\"plotly-graph-div\" style=\"height:525px; width:100%;\"></div>            <script type=\"text/javascript\">                require([\"plotly\"], function(Plotly) {                    window.PLOTLYENV=window.PLOTLYENV || {};                                    if (document.getElementById(\"5f1a0cca-d05c-4265-a5d5-d31aa4b84e0e\")) {                    Plotly.newPlot(                        \"5f1a0cca-d05c-4265-a5d5-d31aa4b84e0e\",                        [{\"x\":[\"😀\",\"😂\",\"😍\",\"😭\",\"😊\"],\"y\":[10,20,15,25,30],\"type\":\"bar\"}],                        {\"template\":{\"data\":{\"barpolar\":[{\"marker\":{\"line\":{\"color\":\"#E5ECF6\",\"width\":0.5},\"pattern\":{\"fillmode\":\"overlay\",\"size\":10,\"solidity\":0.2}},\"type\":\"barpolar\"}],\"bar\":[{\"error_x\":{\"color\":\"#2a3f5f\"},\"error_y\":{\"color\":\"#2a3f5f\"},\"marker\":{\"line\":{\"color\":\"#E5ECF6\",\"width\":0.5},\"pattern\":{\"fillmode\":\"overlay\",\"size\":10,\"solidity\":0.2}},\"type\":\"bar\"}],\"carpet\":[{\"aaxis\":{\"endlinecolor\":\"#2a3f5f\",\"gridcolor\":\"white\",\"linecolor\":\"white\",\"minorgridcolor\":\"white\",\"startlinecolor\":\"#2a3f5f\"},\"baxis\":{\"endlinecolor\":\"#2a3f5f\",\"gridcolor\":\"white\",\"linecolor\":\"white\",\"minorgridcolor\":\"white\",\"startlinecolor\":\"#2a3f5f\"},\"type\":\"carpet\"}],\"choropleth\":[{\"colorbar\":{\"outlinewidth\":0,\"ticks\":\"\"},\"type\":\"choropleth\"}],\"contourcarpet\":[{\"colorbar\":{\"outlinewidth\":0,\"ticks\":\"\"},\"type\":\"contourcarpet\"}],\"contour\":[{\"colorbar\":{\"outlinewidth\":0,\"ticks\":\"\"},\"colorscale\":[[0.0,\"#0d0887\"],[0.1111111111111111,\"#46039f\"],[0.2222222222222222,\"#7201a8\"],[0.3333333333333333,\"#9c179e\"],[0.4444444444444444,\"#bd3786\"],[0.5555555555555556,\"#d8576b\"],[0.6666666666666666,\"#ed7953\"],[0.7777777777777778,\"#fb9f3a\"],[0.8888888888888888,\"#fdca26\"],[1.0,\"#f0f921\"]],\"type\":\"contour\"}],\"heatmapgl\":[{\"colorbar\":{\"outlinewidth\":0,\"ticks\":\"\"},\"colorscale\":[[0.0,\"#0d0887\"],[0.1111111111111111,\"#46039f\"],[0.2222222222222222,\"#7201a8\"],[0.3333333333333333,\"#9c179e\"],[0.4444444444444444,\"#bd3786\"],[0.5555555555555556,\"#d8576b\"],[0.6666666666666666,\"#ed7953\"],[0.7777777777777778,\"#fb9f3a\"],[0.8888888888888888,\"#fdca26\"],[1.0,\"#f0f921\"]],\"type\":\"heatmapgl\"}],\"heatmap\":[{\"colorbar\":{\"outlinewidth\":0,\"ticks\":\"\"},\"colorscale\":[[0.0,\"#0d0887\"],[0.1111111111111111,\"#46039f\"],[0.2222222222222222,\"#7201a8\"],[0.3333333333333333,\"#9c179e\"],[0.4444444444444444,\"#bd3786\"],[0.5555555555555556,\"#d8576b\"],[0.6666666666666666,\"#ed7953\"],[0.7777777777777778,\"#fb9f3a\"],[0.8888888888888888,\"#fdca26\"],[1.0,\"#f0f921\"]],\"type\":\"heatmap\"}],\"histogram2dcontour\":[{\"colorbar\":{\"outlinewidth\":0,\"ticks\":\"\"},\"colorscale\":[[0.0,\"#0d0887\"],[0.1111111111111111,\"#46039f\"],[0.2222222222222222,\"#7201a8\"],[0.3333333333333333,\"#9c179e\"],[0.4444444444444444,\"#bd3786\"],[0.5555555555555556,\"#d8576b\"],[0.6666666666666666,\"#ed7953\"],[0.7777777777777778,\"#fb9f3a\"],[0.8888888888888888,\"#fdca26\"],[1.0,\"#f0f921\"]],\"type\":\"histogram2dcontour\"}],\"histogram2d\":[{\"colorbar\":{\"outlinewidth\":0,\"ticks\":\"\"},\"colorscale\":[[0.0,\"#0d0887\"],[0.1111111111111111,\"#46039f\"],[0.2222222222222222,\"#7201a8\"],[0.3333333333333333,\"#9c179e\"],[0.4444444444444444,\"#bd3786\"],[0.5555555555555556,\"#d8576b\"],[0.6666666666666666,\"#ed7953\"],[0.7777777777777778,\"#fb9f3a\"],[0.8888888888888888,\"#fdca26\"],[1.0,\"#f0f921\"]],\"type\":\"histogram2d\"}],\"histogram\":[{\"marker\":{\"pattern\":{\"fillmode\":\"overlay\",\"size\":10,\"solidity\":0.2}},\"type\":\"histogram\"}],\"mesh3d\":[{\"colorbar\":{\"outlinewidth\":0,\"ticks\":\"\"},\"type\":\"mesh3d\"}],\"parcoords\":[{\"line\":{\"colorbar\":{\"outlinewidth\":0,\"ticks\":\"\"}},\"type\":\"parcoords\"}],\"pie\":[{\"automargin\":true,\"type\":\"pie\"}],\"scatter3d\":[{\"line\":{\"colorbar\":{\"outlinewidth\":0,\"ticks\":\"\"}},\"marker\":{\"colorbar\":{\"outlinewidth\":0,\"ticks\":\"\"}},\"type\":\"scatter3d\"}],\"scattercarpet\":[{\"marker\":{\"colorbar\":{\"outlinewidth\":0,\"ticks\":\"\"}},\"type\":\"scattercarpet\"}],\"scattergeo\":[{\"marker\":{\"colorbar\":{\"outlinewidth\":0,\"ticks\":\"\"}},\"type\":\"scattergeo\"}],\"scattergl\":[{\"marker\":{\"colorbar\":{\"outlinewidth\":0,\"ticks\":\"\"}},\"type\":\"scattergl\"}],\"scattermapbox\":[{\"marker\":{\"colorbar\":{\"outlinewidth\":0,\"ticks\":\"\"}},\"type\":\"scattermapbox\"}],\"scatterpolargl\":[{\"marker\":{\"colorbar\":{\"outlinewidth\":0,\"ticks\":\"\"}},\"type\":\"scatterpolargl\"}],\"scatterpolar\":[{\"marker\":{\"colorbar\":{\"outlinewidth\":0,\"ticks\":\"\"}},\"type\":\"scatterpolar\"}],\"scatter\":[{\"fillpattern\":{\"fillmode\":\"overlay\",\"size\":10,\"solidity\":0.2},\"type\":\"scatter\"}],\"scatterternary\":[{\"marker\":{\"colorbar\":{\"outlinewidth\":0,\"ticks\":\"\"}},\"type\":\"scatterternary\"}],\"surface\":[{\"colorbar\":{\"outlinewidth\":0,\"ticks\":\"\"},\"colorscale\":[[0.0,\"#0d0887\"],[0.1111111111111111,\"#46039f\"],[0.2222222222222222,\"#7201a8\"],[0.3333333333333333,\"#9c179e\"],[0.4444444444444444,\"#bd3786\"],[0.5555555555555556,\"#d8576b\"],[0.6666666666666666,\"#ed7953\"],[0.7777777777777778,\"#fb9f3a\"],[0.8888888888888888,\"#fdca26\"],[1.0,\"#f0f921\"]],\"type\":\"surface\"}],\"table\":[{\"cells\":{\"fill\":{\"color\":\"#EBF0F8\"},\"line\":{\"color\":\"white\"}},\"header\":{\"fill\":{\"color\":\"#C8D4E3\"},\"line\":{\"color\":\"white\"}},\"type\":\"table\"}]},\"layout\":{\"annotationdefaults\":{\"arrowcolor\":\"#2a3f5f\",\"arrowhead\":0,\"arrowwidth\":1},\"autotypenumbers\":\"strict\",\"coloraxis\":{\"colorbar\":{\"outlinewidth\":0,\"ticks\":\"\"}},\"colorscale\":{\"diverging\":[[0,\"#8e0152\"],[0.1,\"#c51b7d\"],[0.2,\"#de77ae\"],[0.3,\"#f1b6da\"],[0.4,\"#fde0ef\"],[0.5,\"#f7f7f7\"],[0.6,\"#e6f5d0\"],[0.7,\"#b8e186\"],[0.8,\"#7fbc41\"],[0.9,\"#4d9221\"],[1,\"#276419\"]],\"sequential\":[[0.0,\"#0d0887\"],[0.1111111111111111,\"#46039f\"],[0.2222222222222222,\"#7201a8\"],[0.3333333333333333,\"#9c179e\"],[0.4444444444444444,\"#bd3786\"],[0.5555555555555556,\"#d8576b\"],[0.6666666666666666,\"#ed7953\"],[0.7777777777777778,\"#fb9f3a\"],[0.8888888888888888,\"#fdca26\"],[1.0,\"#f0f921\"]],\"sequentialminus\":[[0.0,\"#0d0887\"],[0.1111111111111111,\"#46039f\"],[0.2222222222222222,\"#7201a8\"],[0.3333333333333333,\"#9c179e\"],[0.4444444444444444,\"#bd3786\"],[0.5555555555555556,\"#d8576b\"],[0.6666666666666666,\"#ed7953\"],[0.7777777777777778,\"#fb9f3a\"],[0.8888888888888888,\"#fdca26\"],[1.0,\"#f0f921\"]]},\"colorway\":[\"#636efa\",\"#EF553B\",\"#00cc96\",\"#ab63fa\",\"#FFA15A\",\"#19d3f3\",\"#FF6692\",\"#B6E880\",\"#FF97FF\",\"#FECB52\"],\"font\":{\"color\":\"#2a3f5f\"},\"geo\":{\"bgcolor\":\"white\",\"lakecolor\":\"white\",\"landcolor\":\"#E5ECF6\",\"showlakes\":true,\"showland\":true,\"subunitcolor\":\"white\"},\"hoverlabel\":{\"align\":\"left\"},\"hovermode\":\"closest\",\"mapbox\":{\"style\":\"light\"},\"paper_bgcolor\":\"white\",\"plot_bgcolor\":\"#E5ECF6\",\"polar\":{\"angularaxis\":{\"gridcolor\":\"white\",\"linecolor\":\"white\",\"ticks\":\"\"},\"bgcolor\":\"#E5ECF6\",\"radialaxis\":{\"gridcolor\":\"white\",\"linecolor\":\"white\",\"ticks\":\"\"}},\"scene\":{\"xaxis\":{\"backgroundcolor\":\"#E5ECF6\",\"gridcolor\":\"white\",\"gridwidth\":2,\"linecolor\":\"white\",\"showbackground\":true,\"ticks\":\"\",\"zerolinecolor\":\"white\"},\"yaxis\":{\"backgroundcolor\":\"#E5ECF6\",\"gridcolor\":\"white\",\"gridwidth\":2,\"linecolor\":\"white\",\"showbackground\":true,\"ticks\":\"\",\"zerolinecolor\":\"white\"},\"zaxis\":{\"backgroundcolor\":\"#E5ECF6\",\"gridcolor\":\"white\",\"gridwidth\":2,\"linecolor\":\"white\",\"showbackground\":true,\"ticks\":\"\",\"zerolinecolor\":\"white\"}},\"shapedefaults\":{\"line\":{\"color\":\"#2a3f5f\"}},\"ternary\":{\"aaxis\":{\"gridcolor\":\"white\",\"linecolor\":\"white\",\"ticks\":\"\"},\"baxis\":{\"gridcolor\":\"white\",\"linecolor\":\"white\",\"ticks\":\"\"},\"bgcolor\":\"#E5ECF6\",\"caxis\":{\"gridcolor\":\"white\",\"linecolor\":\"white\",\"ticks\":\"\"}},\"title\":{\"x\":0.05},\"xaxis\":{\"automargin\":true,\"gridcolor\":\"white\",\"linecolor\":\"white\",\"ticks\":\"\",\"title\":{\"standoff\":15},\"zerolinecolor\":\"white\",\"zerolinewidth\":2},\"yaxis\":{\"automargin\":true,\"gridcolor\":\"white\",\"linecolor\":\"white\",\"ticks\":\"\",\"title\":{\"standoff\":15},\"zerolinecolor\":\"white\",\"zerolinewidth\":2}}}},                        {\"responsive\": true}                    ).then(function(){\n",
              "                            \n",
              "var gd = document.getElementById('5f1a0cca-d05c-4265-a5d5-d31aa4b84e0e');\n",
              "var x = new MutationObserver(function (mutations, observer) {{\n",
              "        var display = window.getComputedStyle(gd).display;\n",
              "        if (!display || display === 'none') {{\n",
              "            console.log([gd, 'removed!']);\n",
              "            Plotly.purge(gd);\n",
              "            observer.disconnect();\n",
              "        }}\n",
              "}});\n",
              "\n",
              "// Listen for the removal of the full notebook cells\n",
              "var notebookContainer = gd.closest('#notebook-container');\n",
              "if (notebookContainer) {{\n",
              "    x.observe(notebookContainer, {childList: true});\n",
              "}}\n",
              "\n",
              "// Listen for the clearing of the current output cell\n",
              "var outputEl = gd.closest('.output');\n",
              "if (outputEl) {{\n",
              "    x.observe(outputEl, {childList: true});\n",
              "}}\n",
              "\n",
              "                        })                };                });            </script>        </div>"
            ]
          },
          "metadata": {}
        }
      ]
    },
    {
      "cell_type": "markdown",
      "source": [
        "***Conclusions : Majority of the customers are happy as most of them are using emojis like: funny , love , heart , outstanding..***"
      ],
      "metadata": {
        "id": "FvJ1ccQKwAHq"
      },
      "id": "FvJ1ccQKwAHq"
    },
    {
      "cell_type": "markdown",
      "metadata": {
        "id": "YRKZRkO68CUj"
      },
      "source": [
        "***Collect Entire data of Youtube !***"
      ],
      "id": "YRKZRkO68CUj"
    },
    {
      "cell_type": "code",
      "execution_count": null,
      "id": "58bf4ffa-22d0-43d6-a440-3b4be33d120d",
      "metadata": {
        "id": "58bf4ffa-22d0-43d6-a440-3b4be33d120d"
      },
      "outputs": [],
      "source": [
        "import os"
      ]
    },
    {
      "cell_type": "code",
      "execution_count": null,
      "id": "7f70f346-d3c9-408d-ba30-fe4f09f85da6",
      "metadata": {
        "id": "7f70f346-d3c9-408d-ba30-fe4f09f85da6"
      },
      "outputs": [],
      "source": [
        "files= os.listdir(r'C:\\Users\\Desktop\\youtube_Project\\YT_additional_data')"
      ]
    },
    {
      "cell_type": "code",
      "execution_count": null,
      "id": "3a98b564-2402-4109-ad02-1c83543e7798",
      "metadata": {
        "id": "3a98b564-2402-4109-ad02-1c83543e7798",
        "outputId": "d8fea358-07b0-443d-d046-66f36143d216"
      },
      "outputs": [
        {
          "data": {
            "text/plain": [
              "['.git',\n",
              " 'CAvideos.csv',\n",
              " 'CA_category_id.json',\n",
              " 'DEvideos.csv',\n",
              " 'DE_category_id.json',\n",
              " 'FRvideos.csv',\n",
              " 'FR_category_id.json',\n",
              " 'GBvideos.csv',\n",
              " 'GB_category_id.json',\n",
              " 'INvideos.csv',\n",
              " 'IN_category_id.json',\n",
              " 'JPvideos.csv',\n",
              " 'JP_category_id.json',\n",
              " 'KRvideos.csv',\n",
              " 'KR_category_id.json',\n",
              " 'MXvideos.csv',\n",
              " 'MX_category_id.json',\n",
              " 'README.md',\n",
              " 'RUvideos.csv',\n",
              " 'RU_category_id.json',\n",
              " 'USvideos.csv',\n",
              " 'US_category_id.json']"
            ]
          },
          "execution_count": 63,
          "metadata": {},
          "output_type": "execute_result"
        }
      ],
      "source": [
        "files"
      ]
    },
    {
      "cell_type": "code",
      "execution_count": null,
      "id": "f81ac9a3-a677-41c1-b2ad-f0ce96225aa0",
      "metadata": {
        "id": "f81ac9a3-a677-41c1-b2ad-f0ce96225aa0",
        "outputId": "18fcef06-7bf0-4736-b7c9-07b2bc2051bc"
      },
      "outputs": [
        {
          "data": {
            "text/plain": [
              "['CAvideos.csv',\n",
              " 'DEvideos.csv',\n",
              " 'FRvideos.csv',\n",
              " 'GBvideos.csv',\n",
              " 'INvideos.csv',\n",
              " 'JPvideos.csv',\n",
              " 'KRvideos.csv',\n",
              " 'MXvideos.csv',\n",
              " 'RUvideos.csv',\n",
              " 'USvideos.csv']"
            ]
          },
          "execution_count": 64,
          "metadata": {},
          "output_type": "execute_result"
        }
      ],
      "source": [
        "## extracting csv files only from above list ..\n",
        "\n",
        "files_csv = [file for file in files if '.csv' in file]\n",
        "files_csv"
      ]
    },
    {
      "cell_type": "code",
      "execution_count": null,
      "id": "bb9164dd-0f17-44ce-b1ae-c05418e66594",
      "metadata": {
        "id": "bb9164dd-0f17-44ce-b1ae-c05418e66594"
      },
      "outputs": [],
      "source": [
        "#while colllecting the data if you encounter any kind of warning its always good to consider a warning modules.\n",
        "import warnings\n",
        "from warnings import filterwarnings\n",
        "filterwarnings('ignore')"
      ]
    },
    {
      "cell_type": "markdown",
      "id": "268422aa-608a-4132-8358-eb7e42bad23a",
      "metadata": {
        "id": "268422aa-608a-4132-8358-eb7e42bad23a"
      },
      "source": [
        "#### different types of encoding-->>\n",
        "    Note : encoding may change depending upon data  , country data , sometimes regional data as well.\n",
        "    Fore more inforation on Encoding -- Follow below\n",
        "### https://docs.python.org/3/library/codecs.html#standard-encodings¶"
      ]
    },
    {
      "cell_type": "code",
      "execution_count": null,
      "id": "3ff93586-0ba4-42ad-8397-d10af7709e8d",
      "metadata": {
        "id": "3ff93586-0ba4-42ad-8397-d10af7709e8d"
      },
      "outputs": [],
      "source": [
        "#all the csv file i have to store in big data frame\n",
        "\n",
        "full_df = pd.DataFrame()\n",
        "path = r'C:\\Users\\Desktop\\youtube_Project\\YT_additional_data'\n",
        "for file in files_csv:\n",
        "    current_df = pd.read_csv(path+'/'+file, encoding='iso-8859-1')\n",
        "    full_df = pd.concat([full_df, current_df], ignore_index=True)"
      ]
    },
    {
      "cell_type": "code",
      "execution_count": null,
      "id": "7a236d60-88ed-4b57-9e14-1b1ccd430f93",
      "metadata": {
        "id": "7a236d60-88ed-4b57-9e14-1b1ccd430f93",
        "outputId": "4ccc2d08-0ff9-4861-ca09-be1104810e61"
      },
      "outputs": [
        {
          "data": {
            "text/plain": [
              "(375942, 16)"
            ]
          },
          "execution_count": 67,
          "metadata": {},
          "output_type": "execute_result"
        }
      ],
      "source": [
        "full_df.shape"
      ]
    },
    {
      "cell_type": "code",
      "execution_count": null,
      "id": "687dee9d-a878-4eeb-994d-1db7cd176db4",
      "metadata": {
        "scrolled": true,
        "id": "687dee9d-a878-4eeb-994d-1db7cd176db4",
        "outputId": "05256bf2-890d-4c74-fdb9-1cab239a3a01"
      },
      "outputs": [
        {
          "data": {
            "text/plain": [
              "0         False\n",
              "1         False\n",
              "2         False\n",
              "3         False\n",
              "4         False\n",
              "          ...  \n",
              "375937     True\n",
              "375938    False\n",
              "375939    False\n",
              "375940    False\n",
              "375941    False\n",
              "Length: 375942, dtype: bool"
            ]
          },
          "execution_count": 68,
          "metadata": {},
          "output_type": "execute_result"
        }
      ],
      "source": [
        "full_df.duplicated() #True will represent the duplicate rows and  False represent the uniques rows."
      ]
    },
    {
      "cell_type": "code",
      "execution_count": null,
      "id": "207e62af-f456-4c68-bc43-fc7dfc61c0e2",
      "metadata": {
        "id": "207e62af-f456-4c68-bc43-fc7dfc61c0e2",
        "outputId": "503c28fc-a0fa-4490-82b9-cbfeb4df919d"
      },
      "outputs": [
        {
          "data": {
            "text/plain": [
              "(36417, 16)"
            ]
          },
          "execution_count": 69,
          "metadata": {},
          "output_type": "execute_result"
        }
      ],
      "source": [
        "full_df[full_df.duplicated()].shape"
      ]
    },
    {
      "cell_type": "code",
      "execution_count": null,
      "id": "0ab2a0b7-1074-4209-9558-3719c5b0ba06",
      "metadata": {
        "id": "0ab2a0b7-1074-4209-9558-3719c5b0ba06"
      },
      "outputs": [],
      "source": [
        "full_df = full_df.drop_duplicates() ## lets drop duplicate rows .."
      ]
    },
    {
      "cell_type": "code",
      "execution_count": null,
      "id": "468f9701-8d9d-483e-91d7-4b58f13ef3fe",
      "metadata": {
        "id": "468f9701-8d9d-483e-91d7-4b58f13ef3fe",
        "outputId": "8867af6b-634d-41a9-8235-197bd5fc8f0b"
      },
      "outputs": [
        {
          "data": {
            "text/plain": [
              "(339525, 16)"
            ]
          },
          "execution_count": 72,
          "metadata": {},
          "output_type": "execute_result"
        }
      ],
      "source": [
        "full_df.shape"
      ]
    },
    {
      "cell_type": "code",
      "execution_count": null,
      "id": "557c500a-0fb8-40ca-a6c2-c2babef2008a",
      "metadata": {
        "id": "557c500a-0fb8-40ca-a6c2-c2babef2008a"
      },
      "outputs": [],
      "source": [
        "#### a... Storing data into csv ..\n",
        "full_df[0:1000].to_csv(r'C:\\Users\\Desktop\\youtube_Project\\export_data/youtube_sample.csv' , index=False)"
      ]
    },
    {
      "cell_type": "code",
      "execution_count": null,
      "id": "1b6c08ea-a239-4e2e-a63d-770b6c00051e",
      "metadata": {
        "id": "1b6c08ea-a239-4e2e-a63d-770b6c00051e"
      },
      "outputs": [],
      "source": [
        "#### b... Storing data into json\n",
        "full_df[0:1000].to_json(r'C:\\Users\\Desktop\\youtube_Project\\youtube_sample.json')"
      ]
    },
    {
      "cell_type": "markdown",
      "id": "e5ca2898-7ad6-4eed-bc91-bdb44a6913e2",
      "metadata": {
        "id": "e5ca2898-7ad6-4eed-bc91-bdb44a6913e2"
      },
      "source": [
        "***Q. Which Category has the maximum likes ?***"
      ]
    },
    {
      "cell_type": "code",
      "execution_count": null,
      "id": "2403c9fd-4da1-4320-a6ab-8456f0c6804e",
      "metadata": {
        "id": "2403c9fd-4da1-4320-a6ab-8456f0c6804e",
        "outputId": "127234d4-edf0-4af7-ef10-291cdffd01ee"
      },
      "outputs": [
        {
          "data": {
            "text/html": [
              "<div>\n",
              "<style scoped>\n",
              "    .dataframe tbody tr th:only-of-type {\n",
              "        vertical-align: middle;\n",
              "    }\n",
              "\n",
              "    .dataframe tbody tr th {\n",
              "        vertical-align: top;\n",
              "    }\n",
              "\n",
              "    .dataframe thead th {\n",
              "        text-align: right;\n",
              "    }\n",
              "</style>\n",
              "<table border=\"1\" class=\"dataframe\">\n",
              "  <thead>\n",
              "    <tr style=\"text-align: right;\">\n",
              "      <th></th>\n",
              "      <th>video_id</th>\n",
              "      <th>trending_date</th>\n",
              "      <th>title</th>\n",
              "      <th>channel_title</th>\n",
              "      <th>category_id</th>\n",
              "      <th>publish_time</th>\n",
              "      <th>tags</th>\n",
              "      <th>views</th>\n",
              "      <th>likes</th>\n",
              "      <th>dislikes</th>\n",
              "      <th>comment_count</th>\n",
              "      <th>thumbnail_link</th>\n",
              "      <th>comments_disabled</th>\n",
              "      <th>ratings_disabled</th>\n",
              "      <th>video_error_or_removed</th>\n",
              "      <th>description</th>\n",
              "    </tr>\n",
              "  </thead>\n",
              "  <tbody>\n",
              "    <tr>\n",
              "      <th>0</th>\n",
              "      <td>n1WpP7iowLc</td>\n",
              "      <td>17.14.11</td>\n",
              "      <td>Eminem - Walk On Water (Audio) ft. BeyoncÃ©</td>\n",
              "      <td>EminemVEVO</td>\n",
              "      <td>10</td>\n",
              "      <td>2017-11-10T17:00:03.000Z</td>\n",
              "      <td>Eminem|\"Walk\"|\"On\"|\"Water\"|\"Aftermath/Shady/In...</td>\n",
              "      <td>17158579</td>\n",
              "      <td>787425</td>\n",
              "      <td>43420</td>\n",
              "      <td>125882</td>\n",
              "      <td>https://i.ytimg.com/vi/n1WpP7iowLc/default.jpg</td>\n",
              "      <td>False</td>\n",
              "      <td>False</td>\n",
              "      <td>False</td>\n",
              "      <td>Eminem's new track Walk on Water ft. BeyoncÃ© ...</td>\n",
              "    </tr>\n",
              "    <tr>\n",
              "      <th>1</th>\n",
              "      <td>0dBIkQ4Mz1M</td>\n",
              "      <td>17.14.11</td>\n",
              "      <td>PLUSH - Bad Unboxing Fan Mail</td>\n",
              "      <td>iDubbbzTV</td>\n",
              "      <td>23</td>\n",
              "      <td>2017-11-13T17:00:00.000Z</td>\n",
              "      <td>plush|\"bad unboxing\"|\"unboxing\"|\"fan mail\"|\"id...</td>\n",
              "      <td>1014651</td>\n",
              "      <td>127794</td>\n",
              "      <td>1688</td>\n",
              "      <td>13030</td>\n",
              "      <td>https://i.ytimg.com/vi/0dBIkQ4Mz1M/default.jpg</td>\n",
              "      <td>False</td>\n",
              "      <td>False</td>\n",
              "      <td>False</td>\n",
              "      <td>STill got a lot of packages. Probably will las...</td>\n",
              "    </tr>\n",
              "    <tr>\n",
              "      <th>2</th>\n",
              "      <td>5qpjK5DgCt4</td>\n",
              "      <td>17.14.11</td>\n",
              "      <td>Racist Superman | Rudy Mancuso, King Bach &amp; Le...</td>\n",
              "      <td>Rudy Mancuso</td>\n",
              "      <td>23</td>\n",
              "      <td>2017-11-12T19:05:24.000Z</td>\n",
              "      <td>racist superman|\"rudy\"|\"mancuso\"|\"king\"|\"bach\"...</td>\n",
              "      <td>3191434</td>\n",
              "      <td>146035</td>\n",
              "      <td>5339</td>\n",
              "      <td>8181</td>\n",
              "      <td>https://i.ytimg.com/vi/5qpjK5DgCt4/default.jpg</td>\n",
              "      <td>False</td>\n",
              "      <td>False</td>\n",
              "      <td>False</td>\n",
              "      <td>WATCH MY PREVIOUS VIDEO â¶ \\n\\nSUBSCRIBE âº ...</td>\n",
              "    </tr>\n",
              "    <tr>\n",
              "      <th>3</th>\n",
              "      <td>d380meD0W0M</td>\n",
              "      <td>17.14.11</td>\n",
              "      <td>I Dare You: GOING BALD!?</td>\n",
              "      <td>nigahiga</td>\n",
              "      <td>24</td>\n",
              "      <td>2017-11-12T18:01:41.000Z</td>\n",
              "      <td>ryan|\"higa\"|\"higatv\"|\"nigahiga\"|\"i dare you\"|\"...</td>\n",
              "      <td>2095828</td>\n",
              "      <td>132239</td>\n",
              "      <td>1989</td>\n",
              "      <td>17518</td>\n",
              "      <td>https://i.ytimg.com/vi/d380meD0W0M/default.jpg</td>\n",
              "      <td>False</td>\n",
              "      <td>False</td>\n",
              "      <td>False</td>\n",
              "      <td>I know it's been a while since we did this sho...</td>\n",
              "    </tr>\n",
              "    <tr>\n",
              "      <th>4</th>\n",
              "      <td>2Vv-BfVoq4g</td>\n",
              "      <td>17.14.11</td>\n",
              "      <td>Ed Sheeran - Perfect (Official Music Video)</td>\n",
              "      <td>Ed Sheeran</td>\n",
              "      <td>10</td>\n",
              "      <td>2017-11-09T11:04:14.000Z</td>\n",
              "      <td>edsheeran|\"ed sheeran\"|\"acoustic\"|\"live\"|\"cove...</td>\n",
              "      <td>33523622</td>\n",
              "      <td>1634130</td>\n",
              "      <td>21082</td>\n",
              "      <td>85067</td>\n",
              "      <td>https://i.ytimg.com/vi/2Vv-BfVoq4g/default.jpg</td>\n",
              "      <td>False</td>\n",
              "      <td>False</td>\n",
              "      <td>False</td>\n",
              "      <td>ð§: https://ad.gt/yt-perfect\\nð°: https://...</td>\n",
              "    </tr>\n",
              "  </tbody>\n",
              "</table>\n",
              "</div>"
            ],
            "text/plain": [
              "      video_id trending_date  \\\n",
              "0  n1WpP7iowLc      17.14.11   \n",
              "1  0dBIkQ4Mz1M      17.14.11   \n",
              "2  5qpjK5DgCt4      17.14.11   \n",
              "3  d380meD0W0M      17.14.11   \n",
              "4  2Vv-BfVoq4g      17.14.11   \n",
              "\n",
              "                                               title channel_title  \\\n",
              "0        Eminem - Walk On Water (Audio) ft. BeyoncÃ©    EminemVEVO   \n",
              "1                      PLUSH - Bad Unboxing Fan Mail     iDubbbzTV   \n",
              "2  Racist Superman | Rudy Mancuso, King Bach & Le...  Rudy Mancuso   \n",
              "3                           I Dare You: GOING BALD!?      nigahiga   \n",
              "4        Ed Sheeran - Perfect (Official Music Video)    Ed Sheeran   \n",
              "\n",
              "   category_id              publish_time  \\\n",
              "0           10  2017-11-10T17:00:03.000Z   \n",
              "1           23  2017-11-13T17:00:00.000Z   \n",
              "2           23  2017-11-12T19:05:24.000Z   \n",
              "3           24  2017-11-12T18:01:41.000Z   \n",
              "4           10  2017-11-09T11:04:14.000Z   \n",
              "\n",
              "                                                tags     views    likes  \\\n",
              "0  Eminem|\"Walk\"|\"On\"|\"Water\"|\"Aftermath/Shady/In...  17158579   787425   \n",
              "1  plush|\"bad unboxing\"|\"unboxing\"|\"fan mail\"|\"id...   1014651   127794   \n",
              "2  racist superman|\"rudy\"|\"mancuso\"|\"king\"|\"bach\"...   3191434   146035   \n",
              "3  ryan|\"higa\"|\"higatv\"|\"nigahiga\"|\"i dare you\"|\"...   2095828   132239   \n",
              "4  edsheeran|\"ed sheeran\"|\"acoustic\"|\"live\"|\"cove...  33523622  1634130   \n",
              "\n",
              "   dislikes  comment_count                                  thumbnail_link  \\\n",
              "0     43420         125882  https://i.ytimg.com/vi/n1WpP7iowLc/default.jpg   \n",
              "1      1688          13030  https://i.ytimg.com/vi/0dBIkQ4Mz1M/default.jpg   \n",
              "2      5339           8181  https://i.ytimg.com/vi/5qpjK5DgCt4/default.jpg   \n",
              "3      1989          17518  https://i.ytimg.com/vi/d380meD0W0M/default.jpg   \n",
              "4     21082          85067  https://i.ytimg.com/vi/2Vv-BfVoq4g/default.jpg   \n",
              "\n",
              "   comments_disabled  ratings_disabled  video_error_or_removed  \\\n",
              "0              False             False                   False   \n",
              "1              False             False                   False   \n",
              "2              False             False                   False   \n",
              "3              False             False                   False   \n",
              "4              False             False                   False   \n",
              "\n",
              "                                         description  \n",
              "0  Eminem's new track Walk on Water ft. BeyoncÃ© ...  \n",
              "1  STill got a lot of packages. Probably will las...  \n",
              "2  WATCH MY PREVIOUS VIDEO â¶ \\n\\nSUBSCRIBE âº ...  \n",
              "3  I know it's been a while since we did this sho...  \n",
              "4  ð§: https://ad.gt/yt-perfect\\nð°: https://...  "
            ]
          },
          "execution_count": 75,
          "metadata": {},
          "output_type": "execute_result"
        }
      ],
      "source": [
        "full_df.head(5)"
      ]
    },
    {
      "cell_type": "code",
      "execution_count": null,
      "id": "c97f36f1-9e9c-48ca-b71b-6b1813fedb35",
      "metadata": {
        "id": "c97f36f1-9e9c-48ca-b71b-6b1813fedb35",
        "outputId": "c74dfa34-9b6b-48c5-869c-b6d46a0a375c"
      },
      "outputs": [
        {
          "data": {
            "text/plain": [
              "array([10, 23, 24, 25, 22, 26,  1, 28, 20, 17, 29, 15, 19,  2, 27, 43, 30,\n",
              "       44], dtype=int64)"
            ]
          },
          "execution_count": 76,
          "metadata": {},
          "output_type": "execute_result"
        }
      ],
      "source": [
        "full_df['category_id'].unique() #returns an array containing the unique values of the category_id"
      ]
    },
    {
      "cell_type": "code",
      "execution_count": null,
      "id": "49ba034a-2c6b-4b67-84d7-c690064d403b",
      "metadata": {
        "id": "49ba034a-2c6b-4b67-84d7-c690064d403b"
      },
      "outputs": [],
      "source": [
        "## lets read json file ..\n",
        "json_df = pd.read_json(r'C:\\Users\\Desktop\\youtube_Project\\YT_additional_data/US_category_id.json')"
      ]
    },
    {
      "cell_type": "code",
      "execution_count": null,
      "id": "76638fcd-060e-4c70-ae5f-8c664a23977d",
      "metadata": {
        "id": "76638fcd-060e-4c70-ae5f-8c664a23977d",
        "outputId": "bb89338a-65a6-4541-dd90-f3f51c9aaf15"
      },
      "outputs": [
        {
          "data": {
            "text/html": [
              "<div>\n",
              "<style scoped>\n",
              "    .dataframe tbody tr th:only-of-type {\n",
              "        vertical-align: middle;\n",
              "    }\n",
              "\n",
              "    .dataframe tbody tr th {\n",
              "        vertical-align: top;\n",
              "    }\n",
              "\n",
              "    .dataframe thead th {\n",
              "        text-align: right;\n",
              "    }\n",
              "</style>\n",
              "<table border=\"1\" class=\"dataframe\">\n",
              "  <thead>\n",
              "    <tr style=\"text-align: right;\">\n",
              "      <th></th>\n",
              "      <th>kind</th>\n",
              "      <th>etag</th>\n",
              "      <th>items</th>\n",
              "    </tr>\n",
              "  </thead>\n",
              "  <tbody>\n",
              "    <tr>\n",
              "      <th>0</th>\n",
              "      <td>youtube#videoCategoryListResponse</td>\n",
              "      <td>\"m2yskBQFythfE4irbTIeOgYYfBU/S730Ilt-Fi-emsQJv...</td>\n",
              "      <td>{'kind': 'youtube#videoCategory', 'etag': '\"m2...</td>\n",
              "    </tr>\n",
              "    <tr>\n",
              "      <th>1</th>\n",
              "      <td>youtube#videoCategoryListResponse</td>\n",
              "      <td>\"m2yskBQFythfE4irbTIeOgYYfBU/S730Ilt-Fi-emsQJv...</td>\n",
              "      <td>{'kind': 'youtube#videoCategory', 'etag': '\"m2...</td>\n",
              "    </tr>\n",
              "    <tr>\n",
              "      <th>2</th>\n",
              "      <td>youtube#videoCategoryListResponse</td>\n",
              "      <td>\"m2yskBQFythfE4irbTIeOgYYfBU/S730Ilt-Fi-emsQJv...</td>\n",
              "      <td>{'kind': 'youtube#videoCategory', 'etag': '\"m2...</td>\n",
              "    </tr>\n",
              "    <tr>\n",
              "      <th>3</th>\n",
              "      <td>youtube#videoCategoryListResponse</td>\n",
              "      <td>\"m2yskBQFythfE4irbTIeOgYYfBU/S730Ilt-Fi-emsQJv...</td>\n",
              "      <td>{'kind': 'youtube#videoCategory', 'etag': '\"m2...</td>\n",
              "    </tr>\n",
              "    <tr>\n",
              "      <th>4</th>\n",
              "      <td>youtube#videoCategoryListResponse</td>\n",
              "      <td>\"m2yskBQFythfE4irbTIeOgYYfBU/S730Ilt-Fi-emsQJv...</td>\n",
              "      <td>{'kind': 'youtube#videoCategory', 'etag': '\"m2...</td>\n",
              "    </tr>\n",
              "    <tr>\n",
              "      <th>5</th>\n",
              "      <td>youtube#videoCategoryListResponse</td>\n",
              "      <td>\"m2yskBQFythfE4irbTIeOgYYfBU/S730Ilt-Fi-emsQJv...</td>\n",
              "      <td>{'kind': 'youtube#videoCategory', 'etag': '\"m2...</td>\n",
              "    </tr>\n",
              "    <tr>\n",
              "      <th>6</th>\n",
              "      <td>youtube#videoCategoryListResponse</td>\n",
              "      <td>\"m2yskBQFythfE4irbTIeOgYYfBU/S730Ilt-Fi-emsQJv...</td>\n",
              "      <td>{'kind': 'youtube#videoCategory', 'etag': '\"m2...</td>\n",
              "    </tr>\n",
              "    <tr>\n",
              "      <th>7</th>\n",
              "      <td>youtube#videoCategoryListResponse</td>\n",
              "      <td>\"m2yskBQFythfE4irbTIeOgYYfBU/S730Ilt-Fi-emsQJv...</td>\n",
              "      <td>{'kind': 'youtube#videoCategory', 'etag': '\"m2...</td>\n",
              "    </tr>\n",
              "    <tr>\n",
              "      <th>8</th>\n",
              "      <td>youtube#videoCategoryListResponse</td>\n",
              "      <td>\"m2yskBQFythfE4irbTIeOgYYfBU/S730Ilt-Fi-emsQJv...</td>\n",
              "      <td>{'kind': 'youtube#videoCategory', 'etag': '\"m2...</td>\n",
              "    </tr>\n",
              "    <tr>\n",
              "      <th>9</th>\n",
              "      <td>youtube#videoCategoryListResponse</td>\n",
              "      <td>\"m2yskBQFythfE4irbTIeOgYYfBU/S730Ilt-Fi-emsQJv...</td>\n",
              "      <td>{'kind': 'youtube#videoCategory', 'etag': '\"m2...</td>\n",
              "    </tr>\n",
              "    <tr>\n",
              "      <th>10</th>\n",
              "      <td>youtube#videoCategoryListResponse</td>\n",
              "      <td>\"m2yskBQFythfE4irbTIeOgYYfBU/S730Ilt-Fi-emsQJv...</td>\n",
              "      <td>{'kind': 'youtube#videoCategory', 'etag': '\"m2...</td>\n",
              "    </tr>\n",
              "    <tr>\n",
              "      <th>11</th>\n",
              "      <td>youtube#videoCategoryListResponse</td>\n",
              "      <td>\"m2yskBQFythfE4irbTIeOgYYfBU/S730Ilt-Fi-emsQJv...</td>\n",
              "      <td>{'kind': 'youtube#videoCategory', 'etag': '\"m2...</td>\n",
              "    </tr>\n",
              "    <tr>\n",
              "      <th>12</th>\n",
              "      <td>youtube#videoCategoryListResponse</td>\n",
              "      <td>\"m2yskBQFythfE4irbTIeOgYYfBU/S730Ilt-Fi-emsQJv...</td>\n",
              "      <td>{'kind': 'youtube#videoCategory', 'etag': '\"m2...</td>\n",
              "    </tr>\n",
              "    <tr>\n",
              "      <th>13</th>\n",
              "      <td>youtube#videoCategoryListResponse</td>\n",
              "      <td>\"m2yskBQFythfE4irbTIeOgYYfBU/S730Ilt-Fi-emsQJv...</td>\n",
              "      <td>{'kind': 'youtube#videoCategory', 'etag': '\"m2...</td>\n",
              "    </tr>\n",
              "    <tr>\n",
              "      <th>14</th>\n",
              "      <td>youtube#videoCategoryListResponse</td>\n",
              "      <td>\"m2yskBQFythfE4irbTIeOgYYfBU/S730Ilt-Fi-emsQJv...</td>\n",
              "      <td>{'kind': 'youtube#videoCategory', 'etag': '\"m2...</td>\n",
              "    </tr>\n",
              "    <tr>\n",
              "      <th>15</th>\n",
              "      <td>youtube#videoCategoryListResponse</td>\n",
              "      <td>\"m2yskBQFythfE4irbTIeOgYYfBU/S730Ilt-Fi-emsQJv...</td>\n",
              "      <td>{'kind': 'youtube#videoCategory', 'etag': '\"m2...</td>\n",
              "    </tr>\n",
              "    <tr>\n",
              "      <th>16</th>\n",
              "      <td>youtube#videoCategoryListResponse</td>\n",
              "      <td>\"m2yskBQFythfE4irbTIeOgYYfBU/S730Ilt-Fi-emsQJv...</td>\n",
              "      <td>{'kind': 'youtube#videoCategory', 'etag': '\"m2...</td>\n",
              "    </tr>\n",
              "    <tr>\n",
              "      <th>17</th>\n",
              "      <td>youtube#videoCategoryListResponse</td>\n",
              "      <td>\"m2yskBQFythfE4irbTIeOgYYfBU/S730Ilt-Fi-emsQJv...</td>\n",
              "      <td>{'kind': 'youtube#videoCategory', 'etag': '\"m2...</td>\n",
              "    </tr>\n",
              "    <tr>\n",
              "      <th>18</th>\n",
              "      <td>youtube#videoCategoryListResponse</td>\n",
              "      <td>\"m2yskBQFythfE4irbTIeOgYYfBU/S730Ilt-Fi-emsQJv...</td>\n",
              "      <td>{'kind': 'youtube#videoCategory', 'etag': '\"m2...</td>\n",
              "    </tr>\n",
              "    <tr>\n",
              "      <th>19</th>\n",
              "      <td>youtube#videoCategoryListResponse</td>\n",
              "      <td>\"m2yskBQFythfE4irbTIeOgYYfBU/S730Ilt-Fi-emsQJv...</td>\n",
              "      <td>{'kind': 'youtube#videoCategory', 'etag': '\"m2...</td>\n",
              "    </tr>\n",
              "    <tr>\n",
              "      <th>20</th>\n",
              "      <td>youtube#videoCategoryListResponse</td>\n",
              "      <td>\"m2yskBQFythfE4irbTIeOgYYfBU/S730Ilt-Fi-emsQJv...</td>\n",
              "      <td>{'kind': 'youtube#videoCategory', 'etag': '\"m2...</td>\n",
              "    </tr>\n",
              "    <tr>\n",
              "      <th>21</th>\n",
              "      <td>youtube#videoCategoryListResponse</td>\n",
              "      <td>\"m2yskBQFythfE4irbTIeOgYYfBU/S730Ilt-Fi-emsQJv...</td>\n",
              "      <td>{'kind': 'youtube#videoCategory', 'etag': '\"m2...</td>\n",
              "    </tr>\n",
              "    <tr>\n",
              "      <th>22</th>\n",
              "      <td>youtube#videoCategoryListResponse</td>\n",
              "      <td>\"m2yskBQFythfE4irbTIeOgYYfBU/S730Ilt-Fi-emsQJv...</td>\n",
              "      <td>{'kind': 'youtube#videoCategory', 'etag': '\"m2...</td>\n",
              "    </tr>\n",
              "    <tr>\n",
              "      <th>23</th>\n",
              "      <td>youtube#videoCategoryListResponse</td>\n",
              "      <td>\"m2yskBQFythfE4irbTIeOgYYfBU/S730Ilt-Fi-emsQJv...</td>\n",
              "      <td>{'kind': 'youtube#videoCategory', 'etag': '\"m2...</td>\n",
              "    </tr>\n",
              "    <tr>\n",
              "      <th>24</th>\n",
              "      <td>youtube#videoCategoryListResponse</td>\n",
              "      <td>\"m2yskBQFythfE4irbTIeOgYYfBU/S730Ilt-Fi-emsQJv...</td>\n",
              "      <td>{'kind': 'youtube#videoCategory', 'etag': '\"m2...</td>\n",
              "    </tr>\n",
              "    <tr>\n",
              "      <th>25</th>\n",
              "      <td>youtube#videoCategoryListResponse</td>\n",
              "      <td>\"m2yskBQFythfE4irbTIeOgYYfBU/S730Ilt-Fi-emsQJv...</td>\n",
              "      <td>{'kind': 'youtube#videoCategory', 'etag': '\"m2...</td>\n",
              "    </tr>\n",
              "    <tr>\n",
              "      <th>26</th>\n",
              "      <td>youtube#videoCategoryListResponse</td>\n",
              "      <td>\"m2yskBQFythfE4irbTIeOgYYfBU/S730Ilt-Fi-emsQJv...</td>\n",
              "      <td>{'kind': 'youtube#videoCategory', 'etag': '\"m2...</td>\n",
              "    </tr>\n",
              "    <tr>\n",
              "      <th>27</th>\n",
              "      <td>youtube#videoCategoryListResponse</td>\n",
              "      <td>\"m2yskBQFythfE4irbTIeOgYYfBU/S730Ilt-Fi-emsQJv...</td>\n",
              "      <td>{'kind': 'youtube#videoCategory', 'etag': '\"m2...</td>\n",
              "    </tr>\n",
              "    <tr>\n",
              "      <th>28</th>\n",
              "      <td>youtube#videoCategoryListResponse</td>\n",
              "      <td>\"m2yskBQFythfE4irbTIeOgYYfBU/S730Ilt-Fi-emsQJv...</td>\n",
              "      <td>{'kind': 'youtube#videoCategory', 'etag': '\"m2...</td>\n",
              "    </tr>\n",
              "    <tr>\n",
              "      <th>29</th>\n",
              "      <td>youtube#videoCategoryListResponse</td>\n",
              "      <td>\"m2yskBQFythfE4irbTIeOgYYfBU/S730Ilt-Fi-emsQJv...</td>\n",
              "      <td>{'kind': 'youtube#videoCategory', 'etag': '\"m2...</td>\n",
              "    </tr>\n",
              "    <tr>\n",
              "      <th>30</th>\n",
              "      <td>youtube#videoCategoryListResponse</td>\n",
              "      <td>\"m2yskBQFythfE4irbTIeOgYYfBU/S730Ilt-Fi-emsQJv...</td>\n",
              "      <td>{'kind': 'youtube#videoCategory', 'etag': '\"m2...</td>\n",
              "    </tr>\n",
              "    <tr>\n",
              "      <th>31</th>\n",
              "      <td>youtube#videoCategoryListResponse</td>\n",
              "      <td>\"m2yskBQFythfE4irbTIeOgYYfBU/S730Ilt-Fi-emsQJv...</td>\n",
              "      <td>{'kind': 'youtube#videoCategory', 'etag': '\"m2...</td>\n",
              "    </tr>\n",
              "  </tbody>\n",
              "</table>\n",
              "</div>"
            ],
            "text/plain": [
              "                                 kind  \\\n",
              "0   youtube#videoCategoryListResponse   \n",
              "1   youtube#videoCategoryListResponse   \n",
              "2   youtube#videoCategoryListResponse   \n",
              "3   youtube#videoCategoryListResponse   \n",
              "4   youtube#videoCategoryListResponse   \n",
              "5   youtube#videoCategoryListResponse   \n",
              "6   youtube#videoCategoryListResponse   \n",
              "7   youtube#videoCategoryListResponse   \n",
              "8   youtube#videoCategoryListResponse   \n",
              "9   youtube#videoCategoryListResponse   \n",
              "10  youtube#videoCategoryListResponse   \n",
              "11  youtube#videoCategoryListResponse   \n",
              "12  youtube#videoCategoryListResponse   \n",
              "13  youtube#videoCategoryListResponse   \n",
              "14  youtube#videoCategoryListResponse   \n",
              "15  youtube#videoCategoryListResponse   \n",
              "16  youtube#videoCategoryListResponse   \n",
              "17  youtube#videoCategoryListResponse   \n",
              "18  youtube#videoCategoryListResponse   \n",
              "19  youtube#videoCategoryListResponse   \n",
              "20  youtube#videoCategoryListResponse   \n",
              "21  youtube#videoCategoryListResponse   \n",
              "22  youtube#videoCategoryListResponse   \n",
              "23  youtube#videoCategoryListResponse   \n",
              "24  youtube#videoCategoryListResponse   \n",
              "25  youtube#videoCategoryListResponse   \n",
              "26  youtube#videoCategoryListResponse   \n",
              "27  youtube#videoCategoryListResponse   \n",
              "28  youtube#videoCategoryListResponse   \n",
              "29  youtube#videoCategoryListResponse   \n",
              "30  youtube#videoCategoryListResponse   \n",
              "31  youtube#videoCategoryListResponse   \n",
              "\n",
              "                                                 etag  \\\n",
              "0   \"m2yskBQFythfE4irbTIeOgYYfBU/S730Ilt-Fi-emsQJv...   \n",
              "1   \"m2yskBQFythfE4irbTIeOgYYfBU/S730Ilt-Fi-emsQJv...   \n",
              "2   \"m2yskBQFythfE4irbTIeOgYYfBU/S730Ilt-Fi-emsQJv...   \n",
              "3   \"m2yskBQFythfE4irbTIeOgYYfBU/S730Ilt-Fi-emsQJv...   \n",
              "4   \"m2yskBQFythfE4irbTIeOgYYfBU/S730Ilt-Fi-emsQJv...   \n",
              "5   \"m2yskBQFythfE4irbTIeOgYYfBU/S730Ilt-Fi-emsQJv...   \n",
              "6   \"m2yskBQFythfE4irbTIeOgYYfBU/S730Ilt-Fi-emsQJv...   \n",
              "7   \"m2yskBQFythfE4irbTIeOgYYfBU/S730Ilt-Fi-emsQJv...   \n",
              "8   \"m2yskBQFythfE4irbTIeOgYYfBU/S730Ilt-Fi-emsQJv...   \n",
              "9   \"m2yskBQFythfE4irbTIeOgYYfBU/S730Ilt-Fi-emsQJv...   \n",
              "10  \"m2yskBQFythfE4irbTIeOgYYfBU/S730Ilt-Fi-emsQJv...   \n",
              "11  \"m2yskBQFythfE4irbTIeOgYYfBU/S730Ilt-Fi-emsQJv...   \n",
              "12  \"m2yskBQFythfE4irbTIeOgYYfBU/S730Ilt-Fi-emsQJv...   \n",
              "13  \"m2yskBQFythfE4irbTIeOgYYfBU/S730Ilt-Fi-emsQJv...   \n",
              "14  \"m2yskBQFythfE4irbTIeOgYYfBU/S730Ilt-Fi-emsQJv...   \n",
              "15  \"m2yskBQFythfE4irbTIeOgYYfBU/S730Ilt-Fi-emsQJv...   \n",
              "16  \"m2yskBQFythfE4irbTIeOgYYfBU/S730Ilt-Fi-emsQJv...   \n",
              "17  \"m2yskBQFythfE4irbTIeOgYYfBU/S730Ilt-Fi-emsQJv...   \n",
              "18  \"m2yskBQFythfE4irbTIeOgYYfBU/S730Ilt-Fi-emsQJv...   \n",
              "19  \"m2yskBQFythfE4irbTIeOgYYfBU/S730Ilt-Fi-emsQJv...   \n",
              "20  \"m2yskBQFythfE4irbTIeOgYYfBU/S730Ilt-Fi-emsQJv...   \n",
              "21  \"m2yskBQFythfE4irbTIeOgYYfBU/S730Ilt-Fi-emsQJv...   \n",
              "22  \"m2yskBQFythfE4irbTIeOgYYfBU/S730Ilt-Fi-emsQJv...   \n",
              "23  \"m2yskBQFythfE4irbTIeOgYYfBU/S730Ilt-Fi-emsQJv...   \n",
              "24  \"m2yskBQFythfE4irbTIeOgYYfBU/S730Ilt-Fi-emsQJv...   \n",
              "25  \"m2yskBQFythfE4irbTIeOgYYfBU/S730Ilt-Fi-emsQJv...   \n",
              "26  \"m2yskBQFythfE4irbTIeOgYYfBU/S730Ilt-Fi-emsQJv...   \n",
              "27  \"m2yskBQFythfE4irbTIeOgYYfBU/S730Ilt-Fi-emsQJv...   \n",
              "28  \"m2yskBQFythfE4irbTIeOgYYfBU/S730Ilt-Fi-emsQJv...   \n",
              "29  \"m2yskBQFythfE4irbTIeOgYYfBU/S730Ilt-Fi-emsQJv...   \n",
              "30  \"m2yskBQFythfE4irbTIeOgYYfBU/S730Ilt-Fi-emsQJv...   \n",
              "31  \"m2yskBQFythfE4irbTIeOgYYfBU/S730Ilt-Fi-emsQJv...   \n",
              "\n",
              "                                                items  \n",
              "0   {'kind': 'youtube#videoCategory', 'etag': '\"m2...  \n",
              "1   {'kind': 'youtube#videoCategory', 'etag': '\"m2...  \n",
              "2   {'kind': 'youtube#videoCategory', 'etag': '\"m2...  \n",
              "3   {'kind': 'youtube#videoCategory', 'etag': '\"m2...  \n",
              "4   {'kind': 'youtube#videoCategory', 'etag': '\"m2...  \n",
              "5   {'kind': 'youtube#videoCategory', 'etag': '\"m2...  \n",
              "6   {'kind': 'youtube#videoCategory', 'etag': '\"m2...  \n",
              "7   {'kind': 'youtube#videoCategory', 'etag': '\"m2...  \n",
              "8   {'kind': 'youtube#videoCategory', 'etag': '\"m2...  \n",
              "9   {'kind': 'youtube#videoCategory', 'etag': '\"m2...  \n",
              "10  {'kind': 'youtube#videoCategory', 'etag': '\"m2...  \n",
              "11  {'kind': 'youtube#videoCategory', 'etag': '\"m2...  \n",
              "12  {'kind': 'youtube#videoCategory', 'etag': '\"m2...  \n",
              "13  {'kind': 'youtube#videoCategory', 'etag': '\"m2...  \n",
              "14  {'kind': 'youtube#videoCategory', 'etag': '\"m2...  \n",
              "15  {'kind': 'youtube#videoCategory', 'etag': '\"m2...  \n",
              "16  {'kind': 'youtube#videoCategory', 'etag': '\"m2...  \n",
              "17  {'kind': 'youtube#videoCategory', 'etag': '\"m2...  \n",
              "18  {'kind': 'youtube#videoCategory', 'etag': '\"m2...  \n",
              "19  {'kind': 'youtube#videoCategory', 'etag': '\"m2...  \n",
              "20  {'kind': 'youtube#videoCategory', 'etag': '\"m2...  \n",
              "21  {'kind': 'youtube#videoCategory', 'etag': '\"m2...  \n",
              "22  {'kind': 'youtube#videoCategory', 'etag': '\"m2...  \n",
              "23  {'kind': 'youtube#videoCategory', 'etag': '\"m2...  \n",
              "24  {'kind': 'youtube#videoCategory', 'etag': '\"m2...  \n",
              "25  {'kind': 'youtube#videoCategory', 'etag': '\"m2...  \n",
              "26  {'kind': 'youtube#videoCategory', 'etag': '\"m2...  \n",
              "27  {'kind': 'youtube#videoCategory', 'etag': '\"m2...  \n",
              "28  {'kind': 'youtube#videoCategory', 'etag': '\"m2...  \n",
              "29  {'kind': 'youtube#videoCategory', 'etag': '\"m2...  \n",
              "30  {'kind': 'youtube#videoCategory', 'etag': '\"m2...  \n",
              "31  {'kind': 'youtube#videoCategory', 'etag': '\"m2...  "
            ]
          },
          "execution_count": 78,
          "metadata": {},
          "output_type": "execute_result"
        }
      ],
      "source": [
        "json_df"
      ]
    },
    {
      "cell_type": "markdown",
      "source": [
        "\n",
        "***Retrieves the first item (index 0) from the 'items' column of the DataFrame***"
      ],
      "metadata": {
        "id": "KzJK1PxPA8CL"
      },
      "id": "KzJK1PxPA8CL"
    },
    {
      "cell_type": "code",
      "execution_count": null,
      "id": "a223728d-7b5d-48dc-972f-3dac42b00f10",
      "metadata": {
        "id": "a223728d-7b5d-48dc-972f-3dac42b00f10",
        "outputId": "60929a02-cf4e-4c34-8353-fe1b4c1d9ab1"
      },
      "outputs": [
        {
          "data": {
            "text/plain": [
              "{'kind': 'youtube#videoCategory',\n",
              " 'etag': '\"m2yskBQFythfE4irbTIeOgYYfBU/Xy1mB4_yLrHy_BmKmPBggty2mZQ\"',\n",
              " 'id': '1',\n",
              " 'snippet': {'channelId': 'UCBR8-60-B28hp2BmDPdntcQ',\n",
              "  'title': 'Film & Animation',\n",
              "  'assignable': True}}"
            ]
          },
          "execution_count": 79,
          "metadata": {},
          "output_type": "execute_result"
        }
      ],
      "source": [
        "json_df['items'][0]"
      ]
    },
    {
      "cell_type": "code",
      "execution_count": null,
      "id": "564d72c1-412e-47f8-942b-2019edf2fc4c",
      "metadata": {
        "id": "564d72c1-412e-47f8-942b-2019edf2fc4c"
      },
      "outputs": [],
      "source": [
        "#now i want id and title in a dictionary\n",
        "cat_dict = {} #empty dict\n",
        "\n",
        "\n",
        "for item in json_df['items'].values:     #values here return the array representation\n",
        "    ## cat_dict[key] = value (Syntax to insert key:value in dictionary)\n",
        "    cat_dict[int(item['id'])] = item['snippet']['title'] # snippet here is the sub dict so we have to write this way  ['snippet']['title']"
      ]
    },
    {
      "cell_type": "code",
      "execution_count": null,
      "id": "448077e0-42a3-4d5b-87bd-94db2251e54a",
      "metadata": {
        "id": "448077e0-42a3-4d5b-87bd-94db2251e54a",
        "outputId": "89baec46-beda-4d97-a3b9-3162f61d2b20"
      },
      "outputs": [
        {
          "data": {
            "text/plain": [
              "{1: 'Film & Animation',\n",
              " 2: 'Autos & Vehicles',\n",
              " 10: 'Music',\n",
              " 15: 'Pets & Animals',\n",
              " 17: 'Sports',\n",
              " 18: 'Short Movies',\n",
              " 19: 'Travel & Events',\n",
              " 20: 'Gaming',\n",
              " 21: 'Videoblogging',\n",
              " 22: 'People & Blogs',\n",
              " 23: 'Comedy',\n",
              " 24: 'Entertainment',\n",
              " 25: 'News & Politics',\n",
              " 26: 'Howto & Style',\n",
              " 27: 'Education',\n",
              " 28: 'Science & Technology',\n",
              " 29: 'Nonprofits & Activism',\n",
              " 30: 'Movies',\n",
              " 31: 'Anime/Animation',\n",
              " 32: 'Action/Adventure',\n",
              " 33: 'Classics',\n",
              " 34: 'Comedy',\n",
              " 35: 'Documentary',\n",
              " 36: 'Drama',\n",
              " 37: 'Family',\n",
              " 38: 'Foreign',\n",
              " 39: 'Horror',\n",
              " 40: 'Sci-Fi/Fantasy',\n",
              " 41: 'Thriller',\n",
              " 42: 'Shorts',\n",
              " 43: 'Shows',\n",
              " 44: 'Trailers'}"
            ]
          },
          "execution_count": 81,
          "metadata": {},
          "output_type": "execute_result"
        }
      ],
      "source": [
        "cat_dict"
      ]
    },
    {
      "cell_type": "markdown",
      "source": [
        "\n",
        "***Maps category IDs in the 'category_id' column of full_df DataFrame to their corresponding category titles using the cat_dict dictionary.***"
      ],
      "metadata": {
        "id": "KILvrix5BIO-"
      },
      "id": "KILvrix5BIO-"
    },
    {
      "cell_type": "code",
      "execution_count": null,
      "id": "de804d20-fc14-4ed9-8ad7-d4fc9a2f4cf1",
      "metadata": {
        "id": "de804d20-fc14-4ed9-8ad7-d4fc9a2f4cf1",
        "outputId": "5fad3da2-3d5a-4c29-92d0-7ab6fb6f17fb"
      },
      "outputs": [
        {
          "data": {
            "text/plain": [
              "0                    Music\n",
              "1                   Comedy\n",
              "2                   Comedy\n",
              "3            Entertainment\n",
              "4                    Music\n",
              "                ...       \n",
              "375936      People & Blogs\n",
              "375938      People & Blogs\n",
              "375939       Entertainment\n",
              "375940    Film & Animation\n",
              "375941              Gaming\n",
              "Name: category_name, Length: 339525, dtype: object"
            ]
          },
          "execution_count": 83,
          "metadata": {},
          "output_type": "execute_result"
        }
      ],
      "source": [
        "full_df['category_name'] = full_df['category_id'].map(cat_dict)\n",
        "full_df['category_name']"
      ]
    },
    {
      "cell_type": "markdown",
      "source": [
        "***Now you can notice that you have a new feature which is a category name ***"
      ],
      "metadata": {
        "id": "ht-PFGW3BOTU"
      },
      "id": "ht-PFGW3BOTU"
    },
    {
      "cell_type": "code",
      "execution_count": null,
      "id": "4de16dce-ea52-45e1-8fb0-c62d2d6ccf6c",
      "metadata": {
        "id": "4de16dce-ea52-45e1-8fb0-c62d2d6ccf6c",
        "outputId": "54af936b-a123-4d07-84fd-a952994ebb04"
      },
      "outputs": [
        {
          "data": {
            "text/html": [
              "<div>\n",
              "<style scoped>\n",
              "    .dataframe tbody tr th:only-of-type {\n",
              "        vertical-align: middle;\n",
              "    }\n",
              "\n",
              "    .dataframe tbody tr th {\n",
              "        vertical-align: top;\n",
              "    }\n",
              "\n",
              "    .dataframe thead th {\n",
              "        text-align: right;\n",
              "    }\n",
              "</style>\n",
              "<table border=\"1\" class=\"dataframe\">\n",
              "  <thead>\n",
              "    <tr style=\"text-align: right;\">\n",
              "      <th></th>\n",
              "      <th>video_id</th>\n",
              "      <th>trending_date</th>\n",
              "      <th>title</th>\n",
              "      <th>channel_title</th>\n",
              "      <th>category_id</th>\n",
              "      <th>publish_time</th>\n",
              "      <th>tags</th>\n",
              "      <th>views</th>\n",
              "      <th>likes</th>\n",
              "      <th>dislikes</th>\n",
              "      <th>comment_count</th>\n",
              "      <th>thumbnail_link</th>\n",
              "      <th>comments_disabled</th>\n",
              "      <th>ratings_disabled</th>\n",
              "      <th>video_error_or_removed</th>\n",
              "      <th>description</th>\n",
              "      <th>category_name</th>\n",
              "    </tr>\n",
              "  </thead>\n",
              "  <tbody>\n",
              "    <tr>\n",
              "      <th>0</th>\n",
              "      <td>n1WpP7iowLc</td>\n",
              "      <td>17.14.11</td>\n",
              "      <td>Eminem - Walk On Water (Audio) ft. BeyoncÃ©</td>\n",
              "      <td>EminemVEVO</td>\n",
              "      <td>10</td>\n",
              "      <td>2017-11-10T17:00:03.000Z</td>\n",
              "      <td>Eminem|\"Walk\"|\"On\"|\"Water\"|\"Aftermath/Shady/In...</td>\n",
              "      <td>17158579</td>\n",
              "      <td>787425</td>\n",
              "      <td>43420</td>\n",
              "      <td>125882</td>\n",
              "      <td>https://i.ytimg.com/vi/n1WpP7iowLc/default.jpg</td>\n",
              "      <td>False</td>\n",
              "      <td>False</td>\n",
              "      <td>False</td>\n",
              "      <td>Eminem's new track Walk on Water ft. BeyoncÃ© ...</td>\n",
              "      <td>Music</td>\n",
              "    </tr>\n",
              "    <tr>\n",
              "      <th>1</th>\n",
              "      <td>0dBIkQ4Mz1M</td>\n",
              "      <td>17.14.11</td>\n",
              "      <td>PLUSH - Bad Unboxing Fan Mail</td>\n",
              "      <td>iDubbbzTV</td>\n",
              "      <td>23</td>\n",
              "      <td>2017-11-13T17:00:00.000Z</td>\n",
              "      <td>plush|\"bad unboxing\"|\"unboxing\"|\"fan mail\"|\"id...</td>\n",
              "      <td>1014651</td>\n",
              "      <td>127794</td>\n",
              "      <td>1688</td>\n",
              "      <td>13030</td>\n",
              "      <td>https://i.ytimg.com/vi/0dBIkQ4Mz1M/default.jpg</td>\n",
              "      <td>False</td>\n",
              "      <td>False</td>\n",
              "      <td>False</td>\n",
              "      <td>STill got a lot of packages. Probably will las...</td>\n",
              "      <td>Comedy</td>\n",
              "    </tr>\n",
              "    <tr>\n",
              "      <th>2</th>\n",
              "      <td>5qpjK5DgCt4</td>\n",
              "      <td>17.14.11</td>\n",
              "      <td>Racist Superman | Rudy Mancuso, King Bach &amp; Le...</td>\n",
              "      <td>Rudy Mancuso</td>\n",
              "      <td>23</td>\n",
              "      <td>2017-11-12T19:05:24.000Z</td>\n",
              "      <td>racist superman|\"rudy\"|\"mancuso\"|\"king\"|\"bach\"...</td>\n",
              "      <td>3191434</td>\n",
              "      <td>146035</td>\n",
              "      <td>5339</td>\n",
              "      <td>8181</td>\n",
              "      <td>https://i.ytimg.com/vi/5qpjK5DgCt4/default.jpg</td>\n",
              "      <td>False</td>\n",
              "      <td>False</td>\n",
              "      <td>False</td>\n",
              "      <td>WATCH MY PREVIOUS VIDEO â¶ \\n\\nSUBSCRIBE âº ...</td>\n",
              "      <td>Comedy</td>\n",
              "    </tr>\n",
              "    <tr>\n",
              "      <th>3</th>\n",
              "      <td>d380meD0W0M</td>\n",
              "      <td>17.14.11</td>\n",
              "      <td>I Dare You: GOING BALD!?</td>\n",
              "      <td>nigahiga</td>\n",
              "      <td>24</td>\n",
              "      <td>2017-11-12T18:01:41.000Z</td>\n",
              "      <td>ryan|\"higa\"|\"higatv\"|\"nigahiga\"|\"i dare you\"|\"...</td>\n",
              "      <td>2095828</td>\n",
              "      <td>132239</td>\n",
              "      <td>1989</td>\n",
              "      <td>17518</td>\n",
              "      <td>https://i.ytimg.com/vi/d380meD0W0M/default.jpg</td>\n",
              "      <td>False</td>\n",
              "      <td>False</td>\n",
              "      <td>False</td>\n",
              "      <td>I know it's been a while since we did this sho...</td>\n",
              "      <td>Entertainment</td>\n",
              "    </tr>\n",
              "  </tbody>\n",
              "</table>\n",
              "</div>"
            ],
            "text/plain": [
              "      video_id trending_date  \\\n",
              "0  n1WpP7iowLc      17.14.11   \n",
              "1  0dBIkQ4Mz1M      17.14.11   \n",
              "2  5qpjK5DgCt4      17.14.11   \n",
              "3  d380meD0W0M      17.14.11   \n",
              "\n",
              "                                               title channel_title  \\\n",
              "0        Eminem - Walk On Water (Audio) ft. BeyoncÃ©    EminemVEVO   \n",
              "1                      PLUSH - Bad Unboxing Fan Mail     iDubbbzTV   \n",
              "2  Racist Superman | Rudy Mancuso, King Bach & Le...  Rudy Mancuso   \n",
              "3                           I Dare You: GOING BALD!?      nigahiga   \n",
              "\n",
              "   category_id              publish_time  \\\n",
              "0           10  2017-11-10T17:00:03.000Z   \n",
              "1           23  2017-11-13T17:00:00.000Z   \n",
              "2           23  2017-11-12T19:05:24.000Z   \n",
              "3           24  2017-11-12T18:01:41.000Z   \n",
              "\n",
              "                                                tags     views   likes  \\\n",
              "0  Eminem|\"Walk\"|\"On\"|\"Water\"|\"Aftermath/Shady/In...  17158579  787425   \n",
              "1  plush|\"bad unboxing\"|\"unboxing\"|\"fan mail\"|\"id...   1014651  127794   \n",
              "2  racist superman|\"rudy\"|\"mancuso\"|\"king\"|\"bach\"...   3191434  146035   \n",
              "3  ryan|\"higa\"|\"higatv\"|\"nigahiga\"|\"i dare you\"|\"...   2095828  132239   \n",
              "\n",
              "   dislikes  comment_count                                  thumbnail_link  \\\n",
              "0     43420         125882  https://i.ytimg.com/vi/n1WpP7iowLc/default.jpg   \n",
              "1      1688          13030  https://i.ytimg.com/vi/0dBIkQ4Mz1M/default.jpg   \n",
              "2      5339           8181  https://i.ytimg.com/vi/5qpjK5DgCt4/default.jpg   \n",
              "3      1989          17518  https://i.ytimg.com/vi/d380meD0W0M/default.jpg   \n",
              "\n",
              "   comments_disabled  ratings_disabled  video_error_or_removed  \\\n",
              "0              False             False                   False   \n",
              "1              False             False                   False   \n",
              "2              False             False                   False   \n",
              "3              False             False                   False   \n",
              "\n",
              "                                         description  category_name  \n",
              "0  Eminem's new track Walk on Water ft. BeyoncÃ© ...          Music  \n",
              "1  STill got a lot of packages. Probably will las...         Comedy  \n",
              "2  WATCH MY PREVIOUS VIDEO â¶ \\n\\nSUBSCRIBE âº ...         Comedy  \n",
              "3  I know it's been a while since we did this sho...  Entertainment  "
            ]
          },
          "execution_count": 84,
          "metadata": {},
          "output_type": "execute_result"
        }
      ],
      "source": [
        "full_df.head(4)"
      ]
    },
    {
      "cell_type": "markdown",
      "source": [
        "***Q. which category has the maximum likes ?***"
      ],
      "metadata": {
        "id": "BUA97ODNBinN"
      },
      "id": "BUA97ODNBinN"
    },
    {
      "cell_type": "code",
      "execution_count": null,
      "id": "fc927017-b4bd-4d2e-92bc-d59de1290373",
      "metadata": {
        "id": "fc927017-b4bd-4d2e-92bc-d59de1290373",
        "outputId": "bb9885f9-ee30-47d0-b4fe-364571c7df90"
      },
      "outputs": [
        {
          "data": {
            "text/plain": [
              "([0, 1, 2, 3, 4, 5, 6, 7, 8, 9, 10, 11, 12, 13, 14, 15, 16, 17],\n",
              " [Text(0, 0, 'Music'),\n",
              "  Text(1, 0, 'Comedy'),\n",
              "  Text(2, 0, 'Entertainment'),\n",
              "  Text(3, 0, 'News & Politics'),\n",
              "  Text(4, 0, 'People & Blogs'),\n",
              "  Text(5, 0, 'Howto & Style'),\n",
              "  Text(6, 0, 'Film & Animation'),\n",
              "  Text(7, 0, 'Science & Technology'),\n",
              "  Text(8, 0, 'Gaming'),\n",
              "  Text(9, 0, 'Sports'),\n",
              "  Text(10, 0, 'Nonprofits & Activism'),\n",
              "  Text(11, 0, 'Pets & Animals'),\n",
              "  Text(12, 0, 'Travel & Events'),\n",
              "  Text(13, 0, 'Autos & Vehicles'),\n",
              "  Text(14, 0, 'Education'),\n",
              "  Text(15, 0, 'Shows'),\n",
              "  Text(16, 0, 'Movies'),\n",
              "  Text(17, 0, 'Trailers')])"
            ]
          },
          "execution_count": 85,
          "metadata": {},
          "output_type": "execute_result"
        },
        {
          "data": {
            "image/png": "[encoded data removed]",
            "text/plain": [
              "<Figure size 1200x800 with 1 Axes>"
            ]
          },
          "metadata": {},
          "output_type": "display_data"
        }
      ],
      "source": [
        "plt.figure(figsize=(12,8))#Creates a new figure with a specified size of 12 inches by 8 inches for better visualization.\n",
        "sns.boxplot(x='category_name' , y='likes' , data=full_df)\n",
        "plt.xticks(rotation='vertical')#Rotates the x-axis labels vertically for better readability."
      ]
    },
    {
      "cell_type": "markdown",
      "id": "e3da5f14-7d37-41dd-af30-9fbeceff6b01",
      "metadata": {
        "id": "e3da5f14-7d37-41dd-af30-9fbeceff6b01"
      },
      "source": [
        "***Find out whether audience is engaged or not\n",
        "like rate ,dislike , comment_count_rate ***"
      ]
    },
    {
      "cell_type": "code",
      "execution_count": null,
      "id": "0d1e9e94-7bda-4d7f-8e85-b9a1e0ad5ad6",
      "metadata": {
        "id": "0d1e9e94-7bda-4d7f-8e85-b9a1e0ad5ad6",
        "outputId": "519b1334-3ebb-4afd-8b8a-3236613b2ec4"
      },
      "outputs": [
        {
          "data": {
            "text/plain": [
              "0          4.589104\n",
              "1         12.594873\n",
              "2          4.575843\n",
              "3          6.309630\n",
              "4          4.874563\n",
              "            ...    \n",
              "375936     7.820293\n",
              "375938     5.635623\n",
              "375939     4.507286\n",
              "375940     3.408645\n",
              "375941     3.464728\n",
              "Length: 339525, dtype: float64"
            ]
          },
          "execution_count": 86,
          "metadata": {},
          "output_type": "execute_result"
        }
      ],
      "source": [
        "(full_df['likes']/full_df['views'])*100"
      ]
    },
    {
      "cell_type": "code",
      "execution_count": null,
      "id": "5676c24d-2ba0-4ec3-a303-7cae063e7145",
      "metadata": {
        "id": "5676c24d-2ba0-4ec3-a303-7cae063e7145"
      },
      "outputs": [],
      "source": [
        "full_df['like_rate'] = (full_df['likes']/full_df['views'])*100\n",
        "full_df['dislike_rate'] = (full_df['dislikes']/full_df['views'])*100\n",
        "full_df['comment_count_rate'] = (full_df['comment_count']/full_df['views'])*100"
      ]
    },
    {
      "cell_type": "code",
      "execution_count": null,
      "id": "9d9a3c85-444d-4f9a-84ed-e84915567708",
      "metadata": {
        "id": "9d9a3c85-444d-4f9a-84ed-e84915567708",
        "outputId": "65daed86-0972-4215-e5fe-a74cf4109910"
      },
      "outputs": [
        {
          "data": {
            "text/plain": [
              "Index(['video_id', 'trending_date', 'title', 'channel_title', 'category_id',\n",
              "       'publish_time', 'tags', 'views', 'likes', 'dislikes', 'comment_count',\n",
              "       'thumbnail_link', 'comments_disabled', 'ratings_disabled',\n",
              "       'video_error_or_removed', 'description', 'category_name', 'like_rate',\n",
              "       'dislike_rate', 'comment_count_rate'],\n",
              "      dtype='object')"
            ]
          },
          "execution_count": 88,
          "metadata": {},
          "output_type": "execute_result"
        }
      ],
      "source": [
        "full_df.columns # three things added 'like_rate','dislike_rate', 'comment_count_rate'"
      ]
    },
    {
      "cell_type": "code",
      "execution_count": null,
      "id": "6e3fbf62-6d52-47dc-90d9-0435c8053726",
      "metadata": {
        "id": "6e3fbf62-6d52-47dc-90d9-0435c8053726",
        "outputId": "685b4c32-61ec-4a64-ea21-32c730def7da"
      },
      "outputs": [
        {
          "data": {
            "image/png": "[encoded data removed]",
            "text/plain": [
              "<Figure size 800x600 with 1 Axes>"
            ]
          },
          "metadata": {},
          "output_type": "display_data"
        }
      ],
      "source": [
        "#creating box plot for like rate\n",
        "plt.figure(figsize=(8,6))\n",
        "sns.boxplot(x='category_name' , y='like_rate' , data=full_df)\n",
        "plt.xticks(rotation='vertical')\n",
        "plt.show()"
      ]
    },
    {
      "cell_type": "markdown",
      "id": "ea26a558-732b-49cb-8868-cacbb54794ba",
      "metadata": {
        "id": "ea26a558-732b-49cb-8868-cacbb54794ba"
      },
      "source": [
        "***Analysing relationship between views & likes***"
      ]
    },
    {
      "cell_type": "code",
      "execution_count": null,
      "id": "4a923df0-6491-4198-b871-8dfb2145aec2",
      "metadata": {
        "id": "4a923df0-6491-4198-b871-8dfb2145aec2",
        "outputId": "c56fb795-a26b-411b-9850-3306573ad0c2"
      },
      "outputs": [
        {
          "data": {
            "text/plain": [
              "<Axes: xlabel='views', ylabel='likes'>"
            ]
          },
          "execution_count": 91,
          "metadata": {},
          "output_type": "execute_result"
        },
        {
          "data": {
            "image/png": "[encoded data removed]",
            "text/plain": [
              "<Figure size 640x480 with 1 Axes>"
            ]
          },
          "metadata": {},
          "output_type": "display_data"
        }
      ],
      "source": [
        "#using Regression plot\n",
        "#regression plot is nothing but it is the combination of a scatter plot + a regression kine on top of that\n",
        "sns.regplot(x='views' , y='likes' , data = full_df)"
      ]
    },
    {
      "cell_type": "raw",
      "id": "7a859015-e260-4d70-99df-be2c02497dbd",
      "metadata": {
        "id": "7a859015-e260-4d70-99df-be2c02497dbd"
      },
      "source": [
        "***it seems that there is straight line it means views will increase my like will also icrease in a same way.\n",
        "its is cocept of correlation***"
      ]
    },
    {
      "cell_type": "code",
      "execution_count": null,
      "id": "5b1a6c96-323d-4b90-9028-8a5d90a568d2",
      "metadata": {
        "id": "5b1a6c96-323d-4b90-9028-8a5d90a568d2",
        "outputId": "c14a08d7-775b-4c2c-a2b6-249d50746402"
      },
      "outputs": [
        {
          "data": {
            "text/plain": [
              "Index(['video_id', 'trending_date', 'title', 'channel_title', 'category_id',\n",
              "       'publish_time', 'tags', 'views', 'likes', 'dislikes', 'comment_count',\n",
              "       'thumbnail_link', 'comments_disabled', 'ratings_disabled',\n",
              "       'video_error_or_removed', 'description', 'category_name', 'like_rate',\n",
              "       'dislike_rate', 'comment_count_rate'],\n",
              "      dtype='object')"
            ]
          },
          "execution_count": 92,
          "metadata": {},
          "output_type": "execute_result"
        }
      ],
      "source": [
        "full_df.columns"
      ]
    },
    {
      "cell_type": "code",
      "execution_count": null,
      "id": "5799b91d-f042-441d-aebe-71fb3b76c6af",
      "metadata": {
        "id": "5799b91d-f042-441d-aebe-71fb3b76c6af",
        "outputId": "42ca3f92-06fc-45c0-9cfb-9b716ce44ec5"
      },
      "outputs": [
        {
          "data": {
            "text/html": [
              "<div>\n",
              "<style scoped>\n",
              "    .dataframe tbody tr th:only-of-type {\n",
              "        vertical-align: middle;\n",
              "    }\n",
              "\n",
              "    .dataframe tbody tr th {\n",
              "        vertical-align: top;\n",
              "    }\n",
              "\n",
              "    .dataframe thead th {\n",
              "        text-align: right;\n",
              "    }\n",
              "</style>\n",
              "<table border=\"1\" class=\"dataframe\">\n",
              "  <thead>\n",
              "    <tr style=\"text-align: right;\">\n",
              "      <th></th>\n",
              "      <th>views</th>\n",
              "      <th>likes</th>\n",
              "      <th>dislikes</th>\n",
              "    </tr>\n",
              "  </thead>\n",
              "  <tbody>\n",
              "    <tr>\n",
              "      <th>0</th>\n",
              "      <td>17158579</td>\n",
              "      <td>787425</td>\n",
              "      <td>43420</td>\n",
              "    </tr>\n",
              "    <tr>\n",
              "      <th>1</th>\n",
              "      <td>1014651</td>\n",
              "      <td>127794</td>\n",
              "      <td>1688</td>\n",
              "    </tr>\n",
              "    <tr>\n",
              "      <th>2</th>\n",
              "      <td>3191434</td>\n",
              "      <td>146035</td>\n",
              "      <td>5339</td>\n",
              "    </tr>\n",
              "    <tr>\n",
              "      <th>3</th>\n",
              "      <td>2095828</td>\n",
              "      <td>132239</td>\n",
              "      <td>1989</td>\n",
              "    </tr>\n",
              "    <tr>\n",
              "      <th>4</th>\n",
              "      <td>33523622</td>\n",
              "      <td>1634130</td>\n",
              "      <td>21082</td>\n",
              "    </tr>\n",
              "    <tr>\n",
              "      <th>...</th>\n",
              "      <td>...</td>\n",
              "      <td>...</td>\n",
              "      <td>...</td>\n",
              "    </tr>\n",
              "    <tr>\n",
              "      <th>375936</th>\n",
              "      <td>8259128</td>\n",
              "      <td>645888</td>\n",
              "      <td>4052</td>\n",
              "    </tr>\n",
              "    <tr>\n",
              "      <th>375938</th>\n",
              "      <td>1064798</td>\n",
              "      <td>60008</td>\n",
              "      <td>382</td>\n",
              "    </tr>\n",
              "    <tr>\n",
              "      <th>375939</th>\n",
              "      <td>1066451</td>\n",
              "      <td>48068</td>\n",
              "      <td>1032</td>\n",
              "    </tr>\n",
              "    <tr>\n",
              "      <th>375940</th>\n",
              "      <td>5660813</td>\n",
              "      <td>192957</td>\n",
              "      <td>2846</td>\n",
              "    </tr>\n",
              "    <tr>\n",
              "      <th>375941</th>\n",
              "      <td>10306119</td>\n",
              "      <td>357079</td>\n",
              "      <td>212976</td>\n",
              "    </tr>\n",
              "  </tbody>\n",
              "</table>\n",
              "<p>339525 rows × 3 columns</p>\n",
              "</div>"
            ],
            "text/plain": [
              "           views    likes  dislikes\n",
              "0       17158579   787425     43420\n",
              "1        1014651   127794      1688\n",
              "2        3191434   146035      5339\n",
              "3        2095828   132239      1989\n",
              "4       33523622  1634130     21082\n",
              "...          ...      ...       ...\n",
              "375936   8259128   645888      4052\n",
              "375938   1064798    60008       382\n",
              "375939   1066451    48068      1032\n",
              "375940   5660813   192957      2846\n",
              "375941  10306119   357079    212976\n",
              "\n",
              "[339525 rows x 3 columns]"
            ]
          },
          "execution_count": 93,
          "metadata": {},
          "output_type": "execute_result"
        }
      ],
      "source": [
        "full_df[['views', 'likes', 'dislikes']]"
      ]
    },
    {
      "cell_type": "code",
      "execution_count": null,
      "id": "03e6c878-d81d-4b13-a7a7-8a798e8c65ec",
      "metadata": {
        "id": "03e6c878-d81d-4b13-a7a7-8a798e8c65ec",
        "outputId": "a59126db-e4ec-4d2e-b3da-f9e0369ce019"
      },
      "outputs": [
        {
          "data": {
            "text/html": [
              "<div>\n",
              "<style scoped>\n",
              "    .dataframe tbody tr th:only-of-type {\n",
              "        vertical-align: middle;\n",
              "    }\n",
              "\n",
              "    .dataframe tbody tr th {\n",
              "        vertical-align: top;\n",
              "    }\n",
              "\n",
              "    .dataframe thead th {\n",
              "        text-align: right;\n",
              "    }\n",
              "</style>\n",
              "<table border=\"1\" class=\"dataframe\">\n",
              "  <thead>\n",
              "    <tr style=\"text-align: right;\">\n",
              "      <th></th>\n",
              "      <th>views</th>\n",
              "      <th>likes</th>\n",
              "      <th>dislikes</th>\n",
              "    </tr>\n",
              "  </thead>\n",
              "  <tbody>\n",
              "    <tr>\n",
              "      <th>views</th>\n",
              "      <td>1.000000</td>\n",
              "      <td>0.779531</td>\n",
              "      <td>0.405428</td>\n",
              "    </tr>\n",
              "    <tr>\n",
              "      <th>likes</th>\n",
              "      <td>0.779531</td>\n",
              "      <td>1.000000</td>\n",
              "      <td>0.451809</td>\n",
              "    </tr>\n",
              "    <tr>\n",
              "      <th>dislikes</th>\n",
              "      <td>0.405428</td>\n",
              "      <td>0.451809</td>\n",
              "      <td>1.000000</td>\n",
              "    </tr>\n",
              "  </tbody>\n",
              "</table>\n",
              "</div>"
            ],
            "text/plain": [
              "             views     likes  dislikes\n",
              "views     1.000000  0.779531  0.405428\n",
              "likes     0.779531  1.000000  0.451809\n",
              "dislikes  0.405428  0.451809  1.000000"
            ]
          },
          "execution_count": 96,
          "metadata": {},
          "output_type": "execute_result"
        }
      ],
      "source": [
        "full_df[['views', 'likes', 'dislikes']].corr() ### finding co-relation values between ['views', 'likes', 'dislikes']"
      ]
    },
    {
      "cell_type": "code",
      "execution_count": null,
      "id": "bce992da-1afa-443b-8eb6-cd301c3a6a04",
      "metadata": {
        "id": "bce992da-1afa-443b-8eb6-cd301c3a6a04",
        "outputId": "2eb32072-325e-4551-9962-996219d2c301"
      },
      "outputs": [
        {
          "data": {
            "text/plain": [
              "<Axes: >"
            ]
          },
          "execution_count": 97,
          "metadata": {},
          "output_type": "execute_result"
        },
        {
          "data": {
            "image/png": "[encoded data removed]",
            "text/plain": [
              "<Figure size 640x480 with 2 Axes>"
            ]
          },
          "metadata": {},
          "output_type": "display_data"
        }
      ],
      "source": [
        "#Now if you want to showcase this correlation table in a vsiualized way , you can use the heatmap\n",
        "sns.heatmap(full_df[['views', 'likes', 'dislikes']].corr() , annot=True)\n",
        "#When annot=True, numerical values are displayed on the heatmap cells"
      ]
    },
    {
      "cell_type": "markdown",
      "id": "cf8f6d45-259f-4072-91b9-af7a84eb891a",
      "metadata": {
        "id": "cf8f6d45-259f-4072-91b9-af7a84eb891a"
      },
      "source": [
        "***Q. Which channels have the largest number of trending videos?***"
      ]
    },
    {
      "cell_type": "code",
      "execution_count": null,
      "id": "7368d6d3-cdf5-4f19-b8c4-2089fde39c78",
      "metadata": {
        "id": "7368d6d3-cdf5-4f19-b8c4-2089fde39c78",
        "outputId": "58317c50-7446-4e96-b80f-edfc61e7cf46"
      },
      "outputs": [
        {
          "data": {
            "text/html": [
              "<div>\n",
              "<style scoped>\n",
              "    .dataframe tbody tr th:only-of-type {\n",
              "        vertical-align: middle;\n",
              "    }\n",
              "\n",
              "    .dataframe tbody tr th {\n",
              "        vertical-align: top;\n",
              "    }\n",
              "\n",
              "    .dataframe thead th {\n",
              "        text-align: right;\n",
              "    }\n",
              "</style>\n",
              "<table border=\"1\" class=\"dataframe\">\n",
              "  <thead>\n",
              "    <tr style=\"text-align: right;\">\n",
              "      <th></th>\n",
              "      <th>video_id</th>\n",
              "      <th>trending_date</th>\n",
              "      <th>title</th>\n",
              "      <th>channel_title</th>\n",
              "      <th>category_id</th>\n",
              "      <th>publish_time</th>\n",
              "      <th>tags</th>\n",
              "      <th>views</th>\n",
              "      <th>likes</th>\n",
              "      <th>dislikes</th>\n",
              "      <th>comment_count</th>\n",
              "      <th>thumbnail_link</th>\n",
              "      <th>comments_disabled</th>\n",
              "      <th>ratings_disabled</th>\n",
              "      <th>video_error_or_removed</th>\n",
              "      <th>description</th>\n",
              "      <th>category_name</th>\n",
              "      <th>like_rate</th>\n",
              "      <th>dislike_rate</th>\n",
              "      <th>comment_count_rate</th>\n",
              "    </tr>\n",
              "  </thead>\n",
              "  <tbody>\n",
              "    <tr>\n",
              "      <th>0</th>\n",
              "      <td>n1WpP7iowLc</td>\n",
              "      <td>17.14.11</td>\n",
              "      <td>Eminem - Walk On Water (Audio) ft. BeyoncÃ©</td>\n",
              "      <td>EminemVEVO</td>\n",
              "      <td>10</td>\n",
              "      <td>2017-11-10T17:00:03.000Z</td>\n",
              "      <td>Eminem|\"Walk\"|\"On\"|\"Water\"|\"Aftermath/Shady/In...</td>\n",
              "      <td>17158579</td>\n",
              "      <td>787425</td>\n",
              "      <td>43420</td>\n",
              "      <td>125882</td>\n",
              "      <td>https://i.ytimg.com/vi/n1WpP7iowLc/default.jpg</td>\n",
              "      <td>False</td>\n",
              "      <td>False</td>\n",
              "      <td>False</td>\n",
              "      <td>Eminem's new track Walk on Water ft. BeyoncÃ© ...</td>\n",
              "      <td>Music</td>\n",
              "      <td>4.589104</td>\n",
              "      <td>0.253051</td>\n",
              "      <td>0.733639</td>\n",
              "    </tr>\n",
              "    <tr>\n",
              "      <th>1</th>\n",
              "      <td>0dBIkQ4Mz1M</td>\n",
              "      <td>17.14.11</td>\n",
              "      <td>PLUSH - Bad Unboxing Fan Mail</td>\n",
              "      <td>iDubbbzTV</td>\n",
              "      <td>23</td>\n",
              "      <td>2017-11-13T17:00:00.000Z</td>\n",
              "      <td>plush|\"bad unboxing\"|\"unboxing\"|\"fan mail\"|\"id...</td>\n",
              "      <td>1014651</td>\n",
              "      <td>127794</td>\n",
              "      <td>1688</td>\n",
              "      <td>13030</td>\n",
              "      <td>https://i.ytimg.com/vi/0dBIkQ4Mz1M/default.jpg</td>\n",
              "      <td>False</td>\n",
              "      <td>False</td>\n",
              "      <td>False</td>\n",
              "      <td>STill got a lot of packages. Probably will las...</td>\n",
              "      <td>Comedy</td>\n",
              "      <td>12.594873</td>\n",
              "      <td>0.166363</td>\n",
              "      <td>1.284185</td>\n",
              "    </tr>\n",
              "    <tr>\n",
              "      <th>2</th>\n",
              "      <td>5qpjK5DgCt4</td>\n",
              "      <td>17.14.11</td>\n",
              "      <td>Racist Superman | Rudy Mancuso, King Bach &amp; Le...</td>\n",
              "      <td>Rudy Mancuso</td>\n",
              "      <td>23</td>\n",
              "      <td>2017-11-12T19:05:24.000Z</td>\n",
              "      <td>racist superman|\"rudy\"|\"mancuso\"|\"king\"|\"bach\"...</td>\n",
              "      <td>3191434</td>\n",
              "      <td>146035</td>\n",
              "      <td>5339</td>\n",
              "      <td>8181</td>\n",
              "      <td>https://i.ytimg.com/vi/5qpjK5DgCt4/default.jpg</td>\n",
              "      <td>False</td>\n",
              "      <td>False</td>\n",
              "      <td>False</td>\n",
              "      <td>WATCH MY PREVIOUS VIDEO â¶ \\n\\nSUBSCRIBE âº ...</td>\n",
              "      <td>Comedy</td>\n",
              "      <td>4.575843</td>\n",
              "      <td>0.167292</td>\n",
              "      <td>0.256342</td>\n",
              "    </tr>\n",
              "    <tr>\n",
              "      <th>3</th>\n",
              "      <td>d380meD0W0M</td>\n",
              "      <td>17.14.11</td>\n",
              "      <td>I Dare You: GOING BALD!?</td>\n",
              "      <td>nigahiga</td>\n",
              "      <td>24</td>\n",
              "      <td>2017-11-12T18:01:41.000Z</td>\n",
              "      <td>ryan|\"higa\"|\"higatv\"|\"nigahiga\"|\"i dare you\"|\"...</td>\n",
              "      <td>2095828</td>\n",
              "      <td>132239</td>\n",
              "      <td>1989</td>\n",
              "      <td>17518</td>\n",
              "      <td>https://i.ytimg.com/vi/d380meD0W0M/default.jpg</td>\n",
              "      <td>False</td>\n",
              "      <td>False</td>\n",
              "      <td>False</td>\n",
              "      <td>I know it's been a while since we did this sho...</td>\n",
              "      <td>Entertainment</td>\n",
              "      <td>6.309630</td>\n",
              "      <td>0.094903</td>\n",
              "      <td>0.835851</td>\n",
              "    </tr>\n",
              "    <tr>\n",
              "      <th>4</th>\n",
              "      <td>2Vv-BfVoq4g</td>\n",
              "      <td>17.14.11</td>\n",
              "      <td>Ed Sheeran - Perfect (Official Music Video)</td>\n",
              "      <td>Ed Sheeran</td>\n",
              "      <td>10</td>\n",
              "      <td>2017-11-09T11:04:14.000Z</td>\n",
              "      <td>edsheeran|\"ed sheeran\"|\"acoustic\"|\"live\"|\"cove...</td>\n",
              "      <td>33523622</td>\n",
              "      <td>1634130</td>\n",
              "      <td>21082</td>\n",
              "      <td>85067</td>\n",
              "      <td>https://i.ytimg.com/vi/2Vv-BfVoq4g/default.jpg</td>\n",
              "      <td>False</td>\n",
              "      <td>False</td>\n",
              "      <td>False</td>\n",
              "      <td>ð§: https://ad.gt/yt-perfect\\nð°: https://...</td>\n",
              "      <td>Music</td>\n",
              "      <td>4.874563</td>\n",
              "      <td>0.062887</td>\n",
              "      <td>0.253752</td>\n",
              "    </tr>\n",
              "    <tr>\n",
              "      <th>5</th>\n",
              "      <td>0yIWz1XEeyc</td>\n",
              "      <td>17.14.11</td>\n",
              "      <td>Jake Paul Says Alissa Violet CHEATED with LOGA...</td>\n",
              "      <td>DramaAlert</td>\n",
              "      <td>25</td>\n",
              "      <td>2017-11-13T07:37:51.000Z</td>\n",
              "      <td>#DramaAlert|\"Drama\"|\"Alert\"|\"DramaAlert\"|\"keem...</td>\n",
              "      <td>1309699</td>\n",
              "      <td>103755</td>\n",
              "      <td>4613</td>\n",
              "      <td>12143</td>\n",
              "      <td>https://i.ytimg.com/vi/0yIWz1XEeyc/default.jpg</td>\n",
              "      <td>False</td>\n",
              "      <td>False</td>\n",
              "      <td>False</td>\n",
              "      <td>âº Follow for News! - https://twitter.com/KEE...</td>\n",
              "      <td>News &amp; Politics</td>\n",
              "      <td>7.922049</td>\n",
              "      <td>0.352218</td>\n",
              "      <td>0.927160</td>\n",
              "    </tr>\n",
              "  </tbody>\n",
              "</table>\n",
              "</div>"
            ],
            "text/plain": [
              "      video_id trending_date  \\\n",
              "0  n1WpP7iowLc      17.14.11   \n",
              "1  0dBIkQ4Mz1M      17.14.11   \n",
              "2  5qpjK5DgCt4      17.14.11   \n",
              "3  d380meD0W0M      17.14.11   \n",
              "4  2Vv-BfVoq4g      17.14.11   \n",
              "5  0yIWz1XEeyc      17.14.11   \n",
              "\n",
              "                                               title channel_title  \\\n",
              "0        Eminem - Walk On Water (Audio) ft. BeyoncÃ©    EminemVEVO   \n",
              "1                      PLUSH - Bad Unboxing Fan Mail     iDubbbzTV   \n",
              "2  Racist Superman | Rudy Mancuso, King Bach & Le...  Rudy Mancuso   \n",
              "3                           I Dare You: GOING BALD!?      nigahiga   \n",
              "4        Ed Sheeran - Perfect (Official Music Video)    Ed Sheeran   \n",
              "5  Jake Paul Says Alissa Violet CHEATED with LOGA...    DramaAlert   \n",
              "\n",
              "   category_id              publish_time  \\\n",
              "0           10  2017-11-10T17:00:03.000Z   \n",
              "1           23  2017-11-13T17:00:00.000Z   \n",
              "2           23  2017-11-12T19:05:24.000Z   \n",
              "3           24  2017-11-12T18:01:41.000Z   \n",
              "4           10  2017-11-09T11:04:14.000Z   \n",
              "5           25  2017-11-13T07:37:51.000Z   \n",
              "\n",
              "                                                tags     views    likes  \\\n",
              "0  Eminem|\"Walk\"|\"On\"|\"Water\"|\"Aftermath/Shady/In...  17158579   787425   \n",
              "1  plush|\"bad unboxing\"|\"unboxing\"|\"fan mail\"|\"id...   1014651   127794   \n",
              "2  racist superman|\"rudy\"|\"mancuso\"|\"king\"|\"bach\"...   3191434   146035   \n",
              "3  ryan|\"higa\"|\"higatv\"|\"nigahiga\"|\"i dare you\"|\"...   2095828   132239   \n",
              "4  edsheeran|\"ed sheeran\"|\"acoustic\"|\"live\"|\"cove...  33523622  1634130   \n",
              "5  #DramaAlert|\"Drama\"|\"Alert\"|\"DramaAlert\"|\"keem...   1309699   103755   \n",
              "\n",
              "   dislikes  comment_count                                  thumbnail_link  \\\n",
              "0     43420         125882  https://i.ytimg.com/vi/n1WpP7iowLc/default.jpg   \n",
              "1      1688          13030  https://i.ytimg.com/vi/0dBIkQ4Mz1M/default.jpg   \n",
              "2      5339           8181  https://i.ytimg.com/vi/5qpjK5DgCt4/default.jpg   \n",
              "3      1989          17518  https://i.ytimg.com/vi/d380meD0W0M/default.jpg   \n",
              "4     21082          85067  https://i.ytimg.com/vi/2Vv-BfVoq4g/default.jpg   \n",
              "5      4613          12143  https://i.ytimg.com/vi/0yIWz1XEeyc/default.jpg   \n",
              "\n",
              "   comments_disabled  ratings_disabled  video_error_or_removed  \\\n",
              "0              False             False                   False   \n",
              "1              False             False                   False   \n",
              "2              False             False                   False   \n",
              "3              False             False                   False   \n",
              "4              False             False                   False   \n",
              "5              False             False                   False   \n",
              "\n",
              "                                         description    category_name  \\\n",
              "0  Eminem's new track Walk on Water ft. BeyoncÃ© ...            Music   \n",
              "1  STill got a lot of packages. Probably will las...           Comedy   \n",
              "2  WATCH MY PREVIOUS VIDEO â¶ \\n\\nSUBSCRIBE âº ...           Comedy   \n",
              "3  I know it's been a while since we did this sho...    Entertainment   \n",
              "4  ð§: https://ad.gt/yt-perfect\\nð°: https://...            Music   \n",
              "5  âº Follow for News! - https://twitter.com/KEE...  News & Politics   \n",
              "\n",
              "   like_rate  dislike_rate  comment_count_rate  \n",
              "0   4.589104      0.253051            0.733639  \n",
              "1  12.594873      0.166363            1.284185  \n",
              "2   4.575843      0.167292            0.256342  \n",
              "3   6.309630      0.094903            0.835851  \n",
              "4   4.874563      0.062887            0.253752  \n",
              "5   7.922049      0.352218            0.927160  "
            ]
          },
          "execution_count": 98,
          "metadata": {},
          "output_type": "execute_result"
        }
      ],
      "source": [
        "full_df.head(6)"
      ]
    },
    {
      "cell_type": "code",
      "execution_count": null,
      "id": "afce15ea-1f32-42b9-97bd-832f5c8bb9ad",
      "metadata": {
        "id": "afce15ea-1f32-42b9-97bd-832f5c8bb9ad",
        "outputId": "91620299-2b1e-4765-9e1c-bc848d1bb48c"
      },
      "outputs": [
        {
          "data": {
            "text/plain": [
              "channel_title\n",
              "The Late Show with Stephen Colbert    710\n",
              "WWE                                   643\n",
              "Late Night with Seth Meyers           592\n",
              "TheEllenShow                          555\n",
              "Jimmy Kimmel Live                     528\n",
              "                                     ... \n",
              "Daas                                    1\n",
              "YT Industries                           1\n",
              "BTLV Le mÃ©dia complÃ©mentaire          1\n",
              "Quem Sabia ?                            1\n",
              "Jessi Osorno                            1\n",
              "Name: count, Length: 37824, dtype: int64"
            ]
          },
          "execution_count": 99,
          "metadata": {},
          "output_type": "execute_result"
        }
      ],
      "source": [
        "full_df['channel_title'].value_counts()\n",
        "# returns the count of unique values in a Series, providing a frequency distribution of the values."
      ]
    },
    {
      "cell_type": "code",
      "execution_count": null,
      "id": "7849da92-083d-4da5-89a1-4b5a0aa0b66c",
      "metadata": {
        "id": "7849da92-083d-4da5-89a1-4b5a0aa0b66c",
        "outputId": "8b42d1f2-d2e1-416a-e0cb-374e58f44e55"
      },
      "outputs": [
        {
          "data": {
            "text/plain": [
              "channel_title\n",
              "! ì¸ìì ë¬´ì¨ì¼ì´                   7\n",
              "!!8æã ãé¢ç½ãã¿å¤§éå          1\n",
              "!BTSã»TWICE ã¾ã¨ã                     1\n",
              "!Los amorosos ViralesÂ¡                    2\n",
              "!t Live                                    3\n",
              "                                          ..\n",
              "ï¼åã§ã§ãã DIY                     5\n",
              "ï¼¢ï¼¡ï¼³ï¼¨ï½ï½                         2\n",
              "ï¼«ã®ãã£ãã·ã³ã°ã¡ããã­ã    1\n",
              "ï¼·ï¼¡ï¼ªï¼¯ï¼©ï¼«ï¼¡                      2\n",
              "ðSandrea                                2\n",
              "Length: 37824, dtype: int64"
            ]
          },
          "execution_count": 100,
          "metadata": {},
          "output_type": "execute_result"
        }
      ],
      "source": [
        "### lets obtain above frequency table using groupby approach :\n",
        "full_df.groupby(['channel_title']).size()"
      ]
    },
    {
      "cell_type": "markdown",
      "source": [
        " ***Reset_index() is a pandas DataFrame method used to reset the index of a DataFrame.\n",
        "<br>It converts the index labels into a new column and assigns a default numeric index to the DataFrame.***"
      ],
      "metadata": {
        "id": "jpuRQCD5CIF7"
      },
      "id": "jpuRQCD5CIF7"
    },
    {
      "cell_type": "code",
      "execution_count": null,
      "id": "026ce87d-b5c5-49c2-ab27-1d7ff8c4a934",
      "metadata": {
        "id": "026ce87d-b5c5-49c2-ab27-1d7ff8c4a934"
      },
      "outputs": [],
      "source": [
        "cdf = full_df.groupby(['channel_title']).size().sort_values(ascending=False).reset_index()"
      ]
    },
    {
      "cell_type": "code",
      "execution_count": null,
      "id": "c42e2a7f-f2ac-472d-9742-6db463c3a215",
      "metadata": {
        "id": "c42e2a7f-f2ac-472d-9742-6db463c3a215",
        "outputId": "c9cc43c0-6f8e-4afe-ad1a-0d8f1791b926"
      },
      "outputs": [
        {
          "data": {
            "text/html": [
              "<div>\n",
              "<style scoped>\n",
              "    .dataframe tbody tr th:only-of-type {\n",
              "        vertical-align: middle;\n",
              "    }\n",
              "\n",
              "    .dataframe tbody tr th {\n",
              "        vertical-align: top;\n",
              "    }\n",
              "\n",
              "    .dataframe thead th {\n",
              "        text-align: right;\n",
              "    }\n",
              "</style>\n",
              "<table border=\"1\" class=\"dataframe\">\n",
              "  <thead>\n",
              "    <tr style=\"text-align: right;\">\n",
              "      <th></th>\n",
              "      <th>channel_title</th>\n",
              "      <th>0</th>\n",
              "    </tr>\n",
              "  </thead>\n",
              "  <tbody>\n",
              "    <tr>\n",
              "      <th>0</th>\n",
              "      <td>The Late Show with Stephen Colbert</td>\n",
              "      <td>710</td>\n",
              "    </tr>\n",
              "    <tr>\n",
              "      <th>1</th>\n",
              "      <td>WWE</td>\n",
              "      <td>643</td>\n",
              "    </tr>\n",
              "    <tr>\n",
              "      <th>2</th>\n",
              "      <td>Late Night with Seth Meyers</td>\n",
              "      <td>592</td>\n",
              "    </tr>\n",
              "    <tr>\n",
              "      <th>3</th>\n",
              "      <td>TheEllenShow</td>\n",
              "      <td>555</td>\n",
              "    </tr>\n",
              "    <tr>\n",
              "      <th>4</th>\n",
              "      <td>Jimmy Kimmel Live</td>\n",
              "      <td>528</td>\n",
              "    </tr>\n",
              "    <tr>\n",
              "      <th>...</th>\n",
              "      <td>...</td>\n",
              "      <td>...</td>\n",
              "    </tr>\n",
              "    <tr>\n",
              "      <th>37819</th>\n",
              "      <td>Kd Malts</td>\n",
              "      <td>1</td>\n",
              "    </tr>\n",
              "    <tr>\n",
              "      <th>37820</th>\n",
              "      <td>Zedan TV</td>\n",
              "      <td>1</td>\n",
              "    </tr>\n",
              "    <tr>\n",
              "      <th>37821</th>\n",
              "      <td>Kc Kelly - Rocketprenuer</td>\n",
              "      <td>1</td>\n",
              "    </tr>\n",
              "    <tr>\n",
              "      <th>37822</th>\n",
              "      <td>Kbaby</td>\n",
              "      <td>1</td>\n",
              "    </tr>\n",
              "    <tr>\n",
              "      <th>37823</th>\n",
              "      <td>Pavel Sidorik TV</td>\n",
              "      <td>1</td>\n",
              "    </tr>\n",
              "  </tbody>\n",
              "</table>\n",
              "<p>37824 rows × 2 columns</p>\n",
              "</div>"
            ],
            "text/plain": [
              "                            channel_title    0\n",
              "0      The Late Show with Stephen Colbert  710\n",
              "1                                     WWE  643\n",
              "2             Late Night with Seth Meyers  592\n",
              "3                            TheEllenShow  555\n",
              "4                       Jimmy Kimmel Live  528\n",
              "...                                   ...  ...\n",
              "37819                            Kd Malts    1\n",
              "37820                            Zedan TV    1\n",
              "37821            Kc Kelly - Rocketprenuer    1\n",
              "37822                               Kbaby    1\n",
              "37823                    Pavel Sidorik TV    1\n",
              "\n",
              "[37824 rows x 2 columns]"
            ]
          },
          "execution_count": 102,
          "metadata": {},
          "output_type": "execute_result"
        }
      ],
      "source": [
        "cdf"
      ]
    },
    {
      "cell_type": "code",
      "execution_count": null,
      "id": "f7d1f352-fd19-412a-84fe-abf3fd5d4c40",
      "metadata": {
        "id": "f7d1f352-fd19-412a-84fe-abf3fd5d4c40"
      },
      "outputs": [],
      "source": [
        "cdf = cdf.rename(columns={0:'total_videos'})"
      ]
    },
    {
      "cell_type": "code",
      "execution_count": null,
      "id": "d5b42145-7dd8-401b-b662-535c5a828ded",
      "metadata": {
        "id": "d5b42145-7dd8-401b-b662-535c5a828ded",
        "outputId": "18676064-dcc3-412d-a709-eda1fbbdb972"
      },
      "outputs": [
        {
          "data": {
            "text/html": [
              "<div>\n",
              "<style scoped>\n",
              "    .dataframe tbody tr th:only-of-type {\n",
              "        vertical-align: middle;\n",
              "    }\n",
              "\n",
              "    .dataframe tbody tr th {\n",
              "        vertical-align: top;\n",
              "    }\n",
              "\n",
              "    .dataframe thead th {\n",
              "        text-align: right;\n",
              "    }\n",
              "</style>\n",
              "<table border=\"1\" class=\"dataframe\">\n",
              "  <thead>\n",
              "    <tr style=\"text-align: right;\">\n",
              "      <th></th>\n",
              "      <th>channel_title</th>\n",
              "      <th>total_videos</th>\n",
              "    </tr>\n",
              "  </thead>\n",
              "  <tbody>\n",
              "    <tr>\n",
              "      <th>0</th>\n",
              "      <td>The Late Show with Stephen Colbert</td>\n",
              "      <td>710</td>\n",
              "    </tr>\n",
              "    <tr>\n",
              "      <th>1</th>\n",
              "      <td>WWE</td>\n",
              "      <td>643</td>\n",
              "    </tr>\n",
              "    <tr>\n",
              "      <th>2</th>\n",
              "      <td>Late Night with Seth Meyers</td>\n",
              "      <td>592</td>\n",
              "    </tr>\n",
              "    <tr>\n",
              "      <th>3</th>\n",
              "      <td>TheEllenShow</td>\n",
              "      <td>555</td>\n",
              "    </tr>\n",
              "    <tr>\n",
              "      <th>4</th>\n",
              "      <td>Jimmy Kimmel Live</td>\n",
              "      <td>528</td>\n",
              "    </tr>\n",
              "    <tr>\n",
              "      <th>...</th>\n",
              "      <td>...</td>\n",
              "      <td>...</td>\n",
              "    </tr>\n",
              "    <tr>\n",
              "      <th>37819</th>\n",
              "      <td>Kd Malts</td>\n",
              "      <td>1</td>\n",
              "    </tr>\n",
              "    <tr>\n",
              "      <th>37820</th>\n",
              "      <td>Zedan TV</td>\n",
              "      <td>1</td>\n",
              "    </tr>\n",
              "    <tr>\n",
              "      <th>37821</th>\n",
              "      <td>Kc Kelly - Rocketprenuer</td>\n",
              "      <td>1</td>\n",
              "    </tr>\n",
              "    <tr>\n",
              "      <th>37822</th>\n",
              "      <td>Kbaby</td>\n",
              "      <td>1</td>\n",
              "    </tr>\n",
              "    <tr>\n",
              "      <th>37823</th>\n",
              "      <td>Pavel Sidorik TV</td>\n",
              "      <td>1</td>\n",
              "    </tr>\n",
              "  </tbody>\n",
              "</table>\n",
              "<p>37824 rows × 2 columns</p>\n",
              "</div>"
            ],
            "text/plain": [
              "                            channel_title  total_videos\n",
              "0      The Late Show with Stephen Colbert           710\n",
              "1                                     WWE           643\n",
              "2             Late Night with Seth Meyers           592\n",
              "3                            TheEllenShow           555\n",
              "4                       Jimmy Kimmel Live           528\n",
              "...                                   ...           ...\n",
              "37819                            Kd Malts             1\n",
              "37820                            Zedan TV             1\n",
              "37821            Kc Kelly - Rocketprenuer             1\n",
              "37822                               Kbaby             1\n",
              "37823                    Pavel Sidorik TV             1\n",
              "\n",
              "[37824 rows x 2 columns]"
            ]
          },
          "execution_count": 104,
          "metadata": {},
          "output_type": "execute_result"
        }
      ],
      "source": [
        "cdf"
      ]
    },
    {
      "cell_type": "code",
      "execution_count": null,
      "id": "3ea288ab-3c88-47c0-b785-372ea93fd275",
      "metadata": {
        "id": "3ea288ab-3c88-47c0-b785-372ea93fd275"
      },
      "outputs": [],
      "source": [
        "import plotly.express as px"
      ]
    },
    {
      "cell_type": "markdown",
      "source": [
        "***Q. Which channels have the largest number of trending videos?***"
      ],
      "metadata": {
        "id": "KWh5fEQHCWDT"
      },
      "id": "KWh5fEQHCWDT"
    },
    {
      "cell_type": "code",
      "execution_count": null,
      "id": "d9a1e844-3d31-4218-ab62-426ed1a63cdd",
      "metadata": {
        "id": "d9a1e844-3d31-4218-ab62-426ed1a63cdd",
        "outputId": "965fae7d-4b5c-4e14-e5dc-881df7a96c26"
      },
      "outputs": [
        {
          "data": {
            "text/html": [
              "<iframe\n",
              "    scrolling=\"no\"\n",
              "    width=\"100%\"\n",
              "    height=\"545px\"\n",
              "    src=\"iframe_figures/figure_106.html\"\n",
              "    frameborder=\"0\"\n",
              "    allowfullscreen\n",
              "></iframe>\n"
            ]
          },
          "metadata": {},
          "output_type": "display_data"
        }
      ],
      "source": [
        "px.bar(data_frame=cdf[0:20] , x='channel_title' , y='total_videos')"
      ]
    }
  ],
  "metadata": {
    "kernelspec": {
      "display_name": "Python 3 (ipykernel)",
      "language": "python",
      "name": "python3"
    },
    "language_info": {
      "codemirror_mode": {
        "name": "ipython",
        "version": 3
      },
      "file_extension": ".py",
      "mimetype": "text/x-python",
      "name": "python",
      "nbconvert_exporter": "python",
      "pygments_lexer": "ipython3",
      "version": "3.12.0"
    },
    "colab": {
      "provenance": []
    }
  },
  "nbformat": 4,
  "nbformat_minor": 5
}